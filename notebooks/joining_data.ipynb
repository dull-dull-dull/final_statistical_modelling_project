{
 "cells": [
  {
   "cell_type": "code",
   "execution_count": 1,
   "metadata": {
    "tags": []
   },
   "outputs": [],
   "source": [
    "# PLEASE CONSIDER:\n",
    "# JOINS HAVE BEEN SUCCESSFULLY CONDUCTED AND ARE LEFT IN TO DEMONSTRATE PREVIOUS SUBMISSIONS\n",
    "# JOINS ARE EXCLUDED FROM USE IN CURRENT SUBMISSION DUE TO YELP API LIMITATIONS"
   ]
  },
  {
   "cell_type": "markdown",
   "metadata": {},
   "source": [
    "Join the data from Part 1 with the data from Part 2 to create a new dataframe."
   ]
  },
  {
   "cell_type": "code",
   "execution_count": 2,
   "metadata": {
    "tags": []
   },
   "outputs": [],
   "source": [
    "import pandas as pd"
   ]
  },
  {
   "cell_type": "code",
   "execution_count": 12,
   "metadata": {
    "tags": []
   },
   "outputs": [
    {
     "data": {
      "text/html": [
       "<div>\n",
       "<style scoped>\n",
       "    .dataframe tbody tr th:only-of-type {\n",
       "        vertical-align: middle;\n",
       "    }\n",
       "\n",
       "    .dataframe tbody tr th {\n",
       "        vertical-align: top;\n",
       "    }\n",
       "\n",
       "    .dataframe thead th {\n",
       "        text-align: right;\n",
       "    }\n",
       "</style>\n",
       "<table border=\"1\" class=\"dataframe\">\n",
       "  <thead>\n",
       "    <tr style=\"text-align: right;\">\n",
       "      <th></th>\n",
       "      <th>Unnamed: 0</th>\n",
       "      <th>id</th>\n",
       "      <th>empty_slots</th>\n",
       "      <th>free_bikes</th>\n",
       "      <th>latitude</th>\n",
       "      <th>longitude</th>\n",
       "    </tr>\n",
       "  </thead>\n",
       "  <tbody>\n",
       "    <tr>\n",
       "      <th>0</th>\n",
       "      <td>0</td>\n",
       "      <td>fb337bbed72e2be090071e199899b2be</td>\n",
       "      <td>1</td>\n",
       "      <td>18</td>\n",
       "      <td>43.665269</td>\n",
       "      <td>-79.319796</td>\n",
       "    </tr>\n",
       "    <tr>\n",
       "      <th>1</th>\n",
       "      <td>1</td>\n",
       "      <td>4ff88d5880e71aa40d34cfe5d09b0ca7</td>\n",
       "      <td>6</td>\n",
       "      <td>8</td>\n",
       "      <td>43.671420</td>\n",
       "      <td>-79.445947</td>\n",
       "    </tr>\n",
       "    <tr>\n",
       "      <th>2</th>\n",
       "      <td>2</td>\n",
       "      <td>a09c67c0b419654d907c9134b108e328</td>\n",
       "      <td>2</td>\n",
       "      <td>21</td>\n",
       "      <td>43.666224</td>\n",
       "      <td>-79.317693</td>\n",
       "    </tr>\n",
       "    <tr>\n",
       "      <th>3</th>\n",
       "      <td>3</td>\n",
       "      <td>d6a9daee68070a8b106cfb598d81308c</td>\n",
       "      <td>21</td>\n",
       "      <td>4</td>\n",
       "      <td>43.653236</td>\n",
       "      <td>-79.376716</td>\n",
       "    </tr>\n",
       "    <tr>\n",
       "      <th>4</th>\n",
       "      <td>4</td>\n",
       "      <td>8f8af40d9388c8a3962559e8681d3db7</td>\n",
       "      <td>8</td>\n",
       "      <td>17</td>\n",
       "      <td>43.663722</td>\n",
       "      <td>-79.380288</td>\n",
       "    </tr>\n",
       "  </tbody>\n",
       "</table>\n",
       "</div>"
      ],
      "text/plain": [
       "   Unnamed: 0                                id  empty_slots  free_bikes  \\\n",
       "0           0  fb337bbed72e2be090071e199899b2be            1          18   \n",
       "1           1  4ff88d5880e71aa40d34cfe5d09b0ca7            6           8   \n",
       "2           2  a09c67c0b419654d907c9134b108e328            2          21   \n",
       "3           3  d6a9daee68070a8b106cfb598d81308c           21           4   \n",
       "4           4  8f8af40d9388c8a3962559e8681d3db7            8          17   \n",
       "\n",
       "    latitude  longitude  \n",
       "0  43.665269 -79.319796  \n",
       "1  43.671420 -79.445947  \n",
       "2  43.666224 -79.317693  \n",
       "3  43.653236 -79.376716  \n",
       "4  43.663722 -79.380288  "
      ]
     },
     "execution_count": 12,
     "metadata": {},
     "output_type": "execute_result"
    }
   ],
   "source": [
    "df_bikes = pd.read_csv('data/df_bikes.csv')\n",
    "df_bikes.head()"
   ]
  },
  {
   "cell_type": "code",
   "execution_count": 16,
   "metadata": {
    "tags": []
   },
   "outputs": [
    {
     "data": {
      "text/plain": [
       "Index(['Unnamed: 0', 'fsq_id', 'categories', 'chains', 'distance', 'link',\n",
       "       'name', 'timezone', 'geocodes.drop_off.latitude',\n",
       "       'geocodes.drop_off.longitude', 'geocodes.main.latitude',\n",
       "       'geocodes.main.longitude', 'geocodes.roof.latitude',\n",
       "       'geocodes.roof.longitude', 'location.address', 'location.country',\n",
       "       'location.cross_street', 'location.formatted_address',\n",
       "       'location.locality', 'location.postcode', 'location.region',\n",
       "       'location.address_extended', 'related_places.children',\n",
       "       'related_places.parent.fsq_id', 'related_places.parent.name'],\n",
       "      dtype='object')"
      ]
     },
     "execution_count": 16,
     "metadata": {},
     "output_type": "execute_result"
    }
   ],
   "source": [
    "df_fsq_unique = pd.read_csv('data/fsq_unique.csv')\n",
    "df_fsq_unique.keys()"
   ]
  },
  {
   "cell_type": "code",
   "execution_count": 132,
   "metadata": {
    "tags": []
   },
   "outputs": [],
   "source": [
    "df_fsq = df_fsq_unique[['name','categories','distance','geocodes.main.latitude','geocodes.main.longitude','location.address']]\n",
    "df_fsq = df_fsq.rename(columns={'geocodes.main.latitude':'latitude','geocodes.main.longitude':'longitude','location.address':'address'})\n",
    "df_fsq.to_csv('data/fsq_unique.csv')"
   ]
  },
  {
   "cell_type": "code",
   "execution_count": 17,
   "metadata": {
    "tags": []
   },
   "outputs": [
    {
     "data": {
      "text/plain": [
       "Index(['Unnamed: 0', 'id', 'alias', 'name', 'image_url', 'is_closed', 'url',\n",
       "       'review_count', 'categories', 'rating', 'transactions', 'price',\n",
       "       'phone', 'display_phone', 'distance', 'coordinates.latitude',\n",
       "       'coordinates.longitude', 'location.address1', 'location.address2',\n",
       "       'location.address3', 'location.city', 'location.zip_code',\n",
       "       'location.country', 'location.state', 'location.display_address'],\n",
       "      dtype='object')"
      ]
     },
     "execution_count": 17,
     "metadata": {},
     "output_type": "execute_result"
    }
   ],
   "source": [
    "df_yelp_unique = pd.read_csv('data/yelp_unique.csv')\n",
    "df_yelp_unique.keys()"
   ]
  },
  {
   "cell_type": "code",
   "execution_count": 133,
   "metadata": {
    "tags": []
   },
   "outputs": [],
   "source": [
    "df_yelp = df_yelp_unique[['name','categories','distance','coordinates.latitude','coordinates.longitude','location.address1','rating']]\n",
    "df_yelp = df_yelp.rename(columns={'coordinates.latitude':'latitude','coordinates.longitude':'longitude','location.address1':'address'})\n",
    "df_yelp.to_csv('data/yelp_unique.csv')"
   ]
  },
  {
   "cell_type": "code",
   "execution_count": 27,
   "metadata": {
    "tags": []
   },
   "outputs": [
    {
     "data": {
      "text/html": [
       "<div>\n",
       "<style scoped>\n",
       "    .dataframe tbody tr th:only-of-type {\n",
       "        vertical-align: middle;\n",
       "    }\n",
       "\n",
       "    .dataframe tbody tr th {\n",
       "        vertical-align: top;\n",
       "    }\n",
       "\n",
       "    .dataframe thead th {\n",
       "        text-align: right;\n",
       "    }\n",
       "</style>\n",
       "<table border=\"1\" class=\"dataframe\">\n",
       "  <thead>\n",
       "    <tr style=\"text-align: right;\">\n",
       "      <th></th>\n",
       "      <th>name</th>\n",
       "      <th>categories.yelp</th>\n",
       "      <th>distance.yelp</th>\n",
       "      <th>latitude.yelp</th>\n",
       "      <th>longitude.yelp</th>\n",
       "      <th>address.yelp</th>\n",
       "      <th>rating</th>\n",
       "      <th>categories</th>\n",
       "      <th>distance</th>\n",
       "      <th>latitude</th>\n",
       "      <th>longitude</th>\n",
       "      <th>address</th>\n",
       "    </tr>\n",
       "  </thead>\n",
       "  <tbody>\n",
       "    <tr>\n",
       "      <th>0</th>\n",
       "      <td>Radical Road Brewing</td>\n",
       "      <td>[{'alias': 'breweries', 'title': 'Breweries'},...</td>\n",
       "      <td>9.369660</td>\n",
       "      <td>43.662633</td>\n",
       "      <td>-79.332479</td>\n",
       "      <td>1177 Queen Street E</td>\n",
       "      <td>4.5</td>\n",
       "      <td>NaN</td>\n",
       "      <td>NaN</td>\n",
       "      <td>NaN</td>\n",
       "      <td>NaN</td>\n",
       "      <td>NaN</td>\n",
       "    </tr>\n",
       "    <tr>\n",
       "      <th>1</th>\n",
       "      <td>Cloak &amp; Dagger Irish Pub</td>\n",
       "      <td>[{'alias': 'pubs', 'title': 'Pubs'}]</td>\n",
       "      <td>13.627566</td>\n",
       "      <td>43.657140</td>\n",
       "      <td>-79.405710</td>\n",
       "      <td>394 College Street</td>\n",
       "      <td>3.5</td>\n",
       "      <td>NaN</td>\n",
       "      <td>NaN</td>\n",
       "      <td>NaN</td>\n",
       "      <td>NaN</td>\n",
       "      <td>NaN</td>\n",
       "    </tr>\n",
       "    <tr>\n",
       "      <th>2</th>\n",
       "      <td>Grey Gardens</td>\n",
       "      <td>[{'alias': 'wine_bars', 'title': 'Wine Bars'},...</td>\n",
       "      <td>16.644362</td>\n",
       "      <td>43.653800</td>\n",
       "      <td>-79.401430</td>\n",
       "      <td>199 Augusta Avenue</td>\n",
       "      <td>4.5</td>\n",
       "      <td>NaN</td>\n",
       "      <td>NaN</td>\n",
       "      <td>NaN</td>\n",
       "      <td>NaN</td>\n",
       "      <td>NaN</td>\n",
       "    </tr>\n",
       "    <tr>\n",
       "      <th>3</th>\n",
       "      <td>LCBO - Chinatown</td>\n",
       "      <td>[{'alias': 'beer_and_wine', 'title': 'Beer, Wi...</td>\n",
       "      <td>21.358570</td>\n",
       "      <td>43.654850</td>\n",
       "      <td>-79.398280</td>\n",
       "      <td>335 Spadina Ave</td>\n",
       "      <td>2.5</td>\n",
       "      <td>NaN</td>\n",
       "      <td>NaN</td>\n",
       "      <td>NaN</td>\n",
       "      <td>NaN</td>\n",
       "      <td>NaN</td>\n",
       "    </tr>\n",
       "    <tr>\n",
       "      <th>4</th>\n",
       "      <td>The Black Bull</td>\n",
       "      <td>[{'alias': 'bars', 'title': 'Bars'}]</td>\n",
       "      <td>24.343516</td>\n",
       "      <td>43.649750</td>\n",
       "      <td>-79.393290</td>\n",
       "      <td>298 Queen Street W</td>\n",
       "      <td>2.5</td>\n",
       "      <td>NaN</td>\n",
       "      <td>NaN</td>\n",
       "      <td>NaN</td>\n",
       "      <td>NaN</td>\n",
       "      <td>NaN</td>\n",
       "    </tr>\n",
       "    <tr>\n",
       "      <th>...</th>\n",
       "      <td>...</td>\n",
       "      <td>...</td>\n",
       "      <td>...</td>\n",
       "      <td>...</td>\n",
       "      <td>...</td>\n",
       "      <td>...</td>\n",
       "      <td>...</td>\n",
       "      <td>...</td>\n",
       "      <td>...</td>\n",
       "      <td>...</td>\n",
       "      <td>...</td>\n",
       "      <td>...</td>\n",
       "    </tr>\n",
       "    <tr>\n",
       "      <th>200</th>\n",
       "      <td>Amsterdam Brewery</td>\n",
       "      <td>[{'alias': 'breweries', 'title': 'Breweries'}]</td>\n",
       "      <td>1105.246276</td>\n",
       "      <td>43.707033</td>\n",
       "      <td>-79.357319</td>\n",
       "      <td>45 Esandar Dr.</td>\n",
       "      <td>4.0</td>\n",
       "      <td>[{'id': 13029, 'name': 'Brewery', 'icon': {'pr...</td>\n",
       "      <td>777.0</td>\n",
       "      <td>43.706394</td>\n",
       "      <td>-79.357118</td>\n",
       "      <td>45 Esandar Dr</td>\n",
       "    </tr>\n",
       "    <tr>\n",
       "      <th>201</th>\n",
       "      <td>Melrose On Adelaide</td>\n",
       "      <td>[{'alias': 'cocktailbars', 'title': 'Cocktail ...</td>\n",
       "      <td>1164.661372</td>\n",
       "      <td>43.648150</td>\n",
       "      <td>-79.389880</td>\n",
       "      <td>300 - 270 Adelaide Strret W</td>\n",
       "      <td>4.0</td>\n",
       "      <td>NaN</td>\n",
       "      <td>NaN</td>\n",
       "      <td>NaN</td>\n",
       "      <td>NaN</td>\n",
       "      <td>NaN</td>\n",
       "    </tr>\n",
       "    <tr>\n",
       "      <th>202</th>\n",
       "      <td>LCBO</td>\n",
       "      <td>[{'alias': 'beer_and_wine', 'title': 'Beer, Wi...</td>\n",
       "      <td>1198.220919</td>\n",
       "      <td>43.771085</td>\n",
       "      <td>-79.186102</td>\n",
       "      <td>4525 Kingston Rd</td>\n",
       "      <td>2.0</td>\n",
       "      <td>NaN</td>\n",
       "      <td>NaN</td>\n",
       "      <td>NaN</td>\n",
       "      <td>NaN</td>\n",
       "      <td>NaN</td>\n",
       "    </tr>\n",
       "    <tr>\n",
       "      <th>203</th>\n",
       "      <td>Azure Restaurant &amp; Bar</td>\n",
       "      <td>[{'alias': 'newcanadian', 'title': 'Canadian (...</td>\n",
       "      <td>1209.903290</td>\n",
       "      <td>43.644259</td>\n",
       "      <td>-79.385266</td>\n",
       "      <td>225 Front Street W</td>\n",
       "      <td>3.0</td>\n",
       "      <td>NaN</td>\n",
       "      <td>NaN</td>\n",
       "      <td>NaN</td>\n",
       "      <td>NaN</td>\n",
       "      <td>NaN</td>\n",
       "    </tr>\n",
       "    <tr>\n",
       "      <th>204</th>\n",
       "      <td>Jack Astor's</td>\n",
       "      <td>[{'alias': 'newcanadian', 'title': 'Canadian (...</td>\n",
       "      <td>1376.910497</td>\n",
       "      <td>43.645404</td>\n",
       "      <td>-79.383916</td>\n",
       "      <td>144 Front Street West</td>\n",
       "      <td>3.0</td>\n",
       "      <td>[{'id': 13065, 'name': 'Restaurant', 'icon': {...</td>\n",
       "      <td>29.0</td>\n",
       "      <td>43.656641</td>\n",
       "      <td>-79.380460</td>\n",
       "      <td>10 Dundas St E</td>\n",
       "    </tr>\n",
       "  </tbody>\n",
       "</table>\n",
       "<p>221 rows × 12 columns</p>\n",
       "</div>"
      ],
      "text/plain": [
       "                         name  \\\n",
       "0        Radical Road Brewing   \n",
       "1    Cloak & Dagger Irish Pub   \n",
       "2                Grey Gardens   \n",
       "3            LCBO - Chinatown   \n",
       "4              The Black Bull   \n",
       "..                        ...   \n",
       "200         Amsterdam Brewery   \n",
       "201       Melrose On Adelaide   \n",
       "202                      LCBO   \n",
       "203    Azure Restaurant & Bar   \n",
       "204              Jack Astor's   \n",
       "\n",
       "                                       categories.yelp  distance.yelp  \\\n",
       "0    [{'alias': 'breweries', 'title': 'Breweries'},...       9.369660   \n",
       "1                 [{'alias': 'pubs', 'title': 'Pubs'}]      13.627566   \n",
       "2    [{'alias': 'wine_bars', 'title': 'Wine Bars'},...      16.644362   \n",
       "3    [{'alias': 'beer_and_wine', 'title': 'Beer, Wi...      21.358570   \n",
       "4                 [{'alias': 'bars', 'title': 'Bars'}]      24.343516   \n",
       "..                                                 ...            ...   \n",
       "200     [{'alias': 'breweries', 'title': 'Breweries'}]    1105.246276   \n",
       "201  [{'alias': 'cocktailbars', 'title': 'Cocktail ...    1164.661372   \n",
       "202  [{'alias': 'beer_and_wine', 'title': 'Beer, Wi...    1198.220919   \n",
       "203  [{'alias': 'newcanadian', 'title': 'Canadian (...    1209.903290   \n",
       "204  [{'alias': 'newcanadian', 'title': 'Canadian (...    1376.910497   \n",
       "\n",
       "     latitude.yelp  longitude.yelp                 address.yelp  rating  \\\n",
       "0        43.662633      -79.332479          1177 Queen Street E     4.5   \n",
       "1        43.657140      -79.405710           394 College Street     3.5   \n",
       "2        43.653800      -79.401430           199 Augusta Avenue     4.5   \n",
       "3        43.654850      -79.398280              335 Spadina Ave     2.5   \n",
       "4        43.649750      -79.393290           298 Queen Street W     2.5   \n",
       "..             ...             ...                          ...     ...   \n",
       "200      43.707033      -79.357319               45 Esandar Dr.     4.0   \n",
       "201      43.648150      -79.389880  300 - 270 Adelaide Strret W     4.0   \n",
       "202      43.771085      -79.186102             4525 Kingston Rd     2.0   \n",
       "203      43.644259      -79.385266           225 Front Street W     3.0   \n",
       "204      43.645404      -79.383916        144 Front Street West     3.0   \n",
       "\n",
       "                                            categories  distance   latitude  \\\n",
       "0                                                  NaN       NaN        NaN   \n",
       "1                                                  NaN       NaN        NaN   \n",
       "2                                                  NaN       NaN        NaN   \n",
       "3                                                  NaN       NaN        NaN   \n",
       "4                                                  NaN       NaN        NaN   \n",
       "..                                                 ...       ...        ...   \n",
       "200  [{'id': 13029, 'name': 'Brewery', 'icon': {'pr...     777.0  43.706394   \n",
       "201                                                NaN       NaN        NaN   \n",
       "202                                                NaN       NaN        NaN   \n",
       "203                                                NaN       NaN        NaN   \n",
       "204  [{'id': 13065, 'name': 'Restaurant', 'icon': {...      29.0  43.656641   \n",
       "\n",
       "     longitude         address  \n",
       "0          NaN             NaN  \n",
       "1          NaN             NaN  \n",
       "2          NaN             NaN  \n",
       "3          NaN             NaN  \n",
       "4          NaN             NaN  \n",
       "..         ...             ...  \n",
       "200 -79.357118   45 Esandar Dr  \n",
       "201        NaN             NaN  \n",
       "202        NaN             NaN  \n",
       "203        NaN             NaN  \n",
       "204 -79.380460  10 Dundas St E  \n",
       "\n",
       "[221 rows x 12 columns]"
      ]
     },
     "execution_count": 27,
     "metadata": {},
     "output_type": "execute_result"
    }
   ],
   "source": [
    "df_join1=df_yelp.join(df_fsq.set_index('name'), on='name',lsuffix='.yelp')\n",
    "df_join1"
   ]
  },
  {
   "cell_type": "markdown",
   "metadata": {},
   "source": [
    "Provide a visualization that you used as part of your EDA process. Explain the initial pattern or relationship you discoved through this visualization. "
   ]
  },
  {
   "cell_type": "code",
   "execution_count": 108,
   "metadata": {
    "tags": []
   },
   "outputs": [
    {
     "data": {
      "image/png": "[encoded data removed]",
      "text/plain": [
       "<Figure size 640x480 with 1 Axes>"
      ]
     },
     "metadata": {},
     "output_type": "display_data"
    }
   ],
   "source": [
    "import matplotlib.pyplot as plt\n",
    "x1 = [df_yelp['longitude']]\n",
    "y1 = [df_yelp['latitude']]\n",
    "\n",
    "x2 = [df_fsq['longitude']]\n",
    "y2 = [df_fsq['latitude']]\n",
    "\n",
    "x3 = [df_bikes['longitude']]\n",
    "y3 = [df_bikes['latitude']]\n",
    "\n",
    "plt.scatter(x3,y3,c='forestgreen',marker='o',s=1)\n",
    "plt.scatter(x2,y2,c='navy',marker='s',s=5)\n",
    "plt.scatter(x1,y1,c='maroon',marker='*',s=5)\n",
    "\n",
    "\n",
    "plt.xlabel('longitude')\n",
    "plt.ylabel('latitude')\n",
    "\n",
    "plt.show()"
   ]
  },
  {
   "cell_type": "markdown",
   "metadata": {},
   "source": [
    "Firstly, visualizing the points by lat/long generates an approximation of the shape of the city. This confirms that we've collected sample data from points around the city.\n",
    "\n",
    "We can also see a general concentration of points for each data set in the areas we would expect - downtown and its surrounding areas, along subway lines, and clustered in various places along the lines drawn by major streets."
   ]
  },
  {
   "cell_type": "code",
   "execution_count": 145,
   "metadata": {
    "tags": []
   },
   "outputs": [
    {
     "data": {
      "text/plain": [
       "(array([ 4., 12.,  0., 28.,  0., 45., 72.,  0., 35.,  9.]),\n",
       " array([2. , 2.3, 2.6, 2.9, 3.2, 3.5, 3.8, 4.1, 4.4, 4.7, 5. ]),\n",
       " <BarContainer object of 10 artists>)"
      ]
     },
     "execution_count": 145,
     "metadata": {},
     "output_type": "execute_result"
    },
    {
     "data": {
      "image/png": "[encoded data removed]",
      "text/plain": [
       "<Figure size 640x480 with 1 Axes>"
      ]
     },
     "metadata": {},
     "output_type": "display_data"
    }
   ],
   "source": [
    "plt.hist(df_yelp['rating'], color='lightblue')"
   ]
  },
  {
   "cell_type": "markdown",
   "metadata": {},
   "source": [
    "Our ratings appear normally distributed, though with gaps."
   ]
  },
  {
   "cell_type": "code",
   "execution_count": 147,
   "metadata": {
    "tags": []
   },
   "outputs": [
    {
     "data": {
      "text/plain": [
       "(array([ 4., 34., 96., 48., 16.,  4.,  2.,  0.,  0.,  1.]),\n",
       " array([43.61344237, 43.62920665, 43.64497094, 43.66073522, 43.6764995 ,\n",
       "        43.69226379, 43.70802807, 43.72379235, 43.73955663, 43.75532092,\n",
       "        43.7710852 ]),\n",
       " <BarContainer object of 10 artists>)"
      ]
     },
     "execution_count": 147,
     "metadata": {},
     "output_type": "execute_result"
    },
    {
     "data": {
      "image/png": "[encoded data removed]",
      "text/plain": [
       "<Figure size 640x480 with 1 Axes>"
      ]
     },
     "metadata": {},
     "output_type": "display_data"
    }
   ],
   "source": [
    "plt.hist(df_yelp['latitude'], color='lightgreen')"
   ]
  },
  {
   "cell_type": "markdown",
   "metadata": {},
   "source": [
    "We appear to have one potential outlier in this data. Let's check."
   ]
  },
  {
   "cell_type": "code",
   "execution_count": 138,
   "metadata": {
    "tags": []
   },
   "outputs": [
    {
     "data": {
      "text/plain": [
       "43.65748348260214"
      ]
     },
     "execution_count": 138,
     "metadata": {},
     "output_type": "execute_result"
    }
   ],
   "source": [
    "mean_yelp = df_yelp['latitude'].mean()\n",
    "mean_yelp"
   ]
  },
  {
   "cell_type": "code",
   "execution_count": 139,
   "metadata": {
    "tags": []
   },
   "outputs": [
    {
     "data": {
      "text/plain": [
       "0.01746932987354072"
      ]
     },
     "execution_count": 139,
     "metadata": {},
     "output_type": "execute_result"
    }
   ],
   "source": [
    "std_yelp = df_yelp['latitude'].std()\n",
    "std_yelp"
   ]
  },
  {
   "cell_type": "code",
   "execution_count": 141,
   "metadata": {
    "tags": []
   },
   "outputs": [],
   "source": [
    "outlier_plus = mean_yelp + (3*std_yelp)"
   ]
  },
  {
   "cell_type": "code",
   "execution_count": 142,
   "metadata": {
    "tags": []
   },
   "outputs": [
    {
     "data": {
      "text/html": [
       "<div>\n",
       "<style scoped>\n",
       "    .dataframe tbody tr th:only-of-type {\n",
       "        vertical-align: middle;\n",
       "    }\n",
       "\n",
       "    .dataframe tbody tr th {\n",
       "        vertical-align: top;\n",
       "    }\n",
       "\n",
       "    .dataframe thead th {\n",
       "        text-align: right;\n",
       "    }\n",
       "</style>\n",
       "<table border=\"1\" class=\"dataframe\">\n",
       "  <thead>\n",
       "    <tr style=\"text-align: right;\">\n",
       "      <th></th>\n",
       "      <th>name</th>\n",
       "      <th>categories</th>\n",
       "      <th>distance</th>\n",
       "      <th>latitude</th>\n",
       "      <th>longitude</th>\n",
       "      <th>address</th>\n",
       "      <th>rating</th>\n",
       "    </tr>\n",
       "  </thead>\n",
       "  <tbody>\n",
       "    <tr>\n",
       "      <th>194</th>\n",
       "      <td>Muddy York Brewing</td>\n",
       "      <td>[{'alias': 'breweries', 'title': 'Breweries'}]</td>\n",
       "      <td>760.643608</td>\n",
       "      <td>43.712400</td>\n",
       "      <td>-79.312140</td>\n",
       "      <td>22 Cranfield Road</td>\n",
       "      <td>5.0</td>\n",
       "    </tr>\n",
       "    <tr>\n",
       "      <th>202</th>\n",
       "      <td>LCBO</td>\n",
       "      <td>[{'alias': 'beer_and_wine', 'title': 'Beer, Wi...</td>\n",
       "      <td>1198.220919</td>\n",
       "      <td>43.771085</td>\n",
       "      <td>-79.186102</td>\n",
       "      <td>4525 Kingston Rd</td>\n",
       "      <td>2.0</td>\n",
       "    </tr>\n",
       "  </tbody>\n",
       "</table>\n",
       "</div>"
      ],
      "text/plain": [
       "                   name                                         categories  \\\n",
       "194  Muddy York Brewing     [{'alias': 'breweries', 'title': 'Breweries'}]   \n",
       "202                LCBO  [{'alias': 'beer_and_wine', 'title': 'Beer, Wi...   \n",
       "\n",
       "        distance   latitude  longitude            address  rating  \n",
       "194   760.643608  43.712400 -79.312140  22 Cranfield Road     5.0  \n",
       "202  1198.220919  43.771085 -79.186102   4525 Kingston Rd     2.0  "
      ]
     },
     "execution_count": 142,
     "metadata": {},
     "output_type": "execute_result"
    }
   ],
   "source": [
    "df_yelp[df_yelp['latitude']>outlier_plus]"
   ]
  },
  {
   "cell_type": "markdown",
   "metadata": {},
   "source": [
    "We can see that, statistically, we have two outlier latitudes. \n",
    "\n",
    "Since we can see that none of our points lie so far out as to skew the map, and we can assume their inclusion as outliers is a result of sparser data points at the edges of our search range, we will leave them in for now. \n",
    "\n",
    "It's also possible that these are caused by infrastructure / geographic features of the region (highways, power delivery pathways, rail tracks, rivers, valleys, shorelines, etc."
   ]
  },
  {
   "cell_type": "code",
   "execution_count": 151,
   "metadata": {
    "tags": []
   },
   "outputs": [
    {
     "data": {
      "text/plain": [
       "(array([ 9., 15., 38., 72., 40., 20., 10.,  0.,  0.,  1.]),\n",
       " array([-79.5106746, -79.4782173, -79.44576  , -79.4133027, -79.3808454,\n",
       "        -79.3483881, -79.3159308, -79.2834735, -79.2510162, -79.2185589,\n",
       "        -79.1861016]),\n",
       " <BarContainer object of 10 artists>)"
      ]
     },
     "execution_count": 151,
     "metadata": {},
     "output_type": "execute_result"
    },
    {
     "data": {
      "image/png": "[encoded data removed]",
      "text/plain": [
       "<Figure size 640x480 with 1 Axes>"
      ]
     },
     "metadata": {},
     "output_type": "display_data"
    }
   ],
   "source": [
    "plt.hist(df_yelp['longitude'], color='darkgreen')"
   ]
  },
  {
   "cell_type": "code",
   "execution_count": 156,
   "metadata": {
    "tags": []
   },
   "outputs": [
    {
     "name": "stdout",
     "output_type": "stream",
     "text": [
      "(array([ 16.,  64., 117., 282., 117.,  57.,  28.,   6.,   6.,   3.]), array([-79.54449133, -79.5023927 , -79.46029406, -79.41819543,\n",
      "       -79.3760968 , -79.33399817, -79.29189953, -79.2498009 ,\n",
      "       -79.20770227, -79.16560363, -79.123505  ]), <BarContainer object of 10 artists>)\n"
     ]
    },
    {
     "data": {
      "image/png": "[encoded data removed]",
      "text/plain": [
       "<Figure size 640x480 with 1 Axes>"
      ]
     },
     "metadata": {},
     "output_type": "display_data"
    }
   ],
   "source": [
    "print(plt.hist(df_bikes['longitude'], color='darkgreen'))"
   ]
  },
  {
   "cell_type": "code",
   "execution_count": 157,
   "metadata": {
    "tags": []
   },
   "outputs": [
    {
     "name": "stdout",
     "output_type": "stream",
     "text": [
      "(array([  7.,  10., 145., 263., 140.,  72.,  28.,   7.,   9.,  15.]), array([43.5880774 , 43.60810156, 43.62812572, 43.64814988, 43.66817404,\n",
      "       43.6881982 , 43.70822236, 43.72824652, 43.74827068, 43.76829484,\n",
      "       43.788319  ]), <BarContainer object of 10 artists>)\n"
     ]
    },
    {
     "data": {
      "image/png": "[encoded data removed]",
      "text/plain": [
       "<Figure size 640x480 with 1 Axes>"
      ]
     },
     "metadata": {},
     "output_type": "display_data"
    }
   ],
   "source": [
    "print(plt.hist(df_bikes['latitude'], color='darkgreen'))"
   ]
  },
  {
   "cell_type": "markdown",
   "metadata": {},
   "source": [
    "We can see similar distributions in our bike data."
   ]
  },
  {
   "cell_type": "code",
   "execution_count": 158,
   "metadata": {
    "tags": []
   },
   "outputs": [
    {
     "data": {
      "image/png": "[encoded data removed]",
      "text/plain": [
       "<Figure size 640x480 with 1 Axes>"
      ]
     },
     "metadata": {},
     "output_type": "display_data"
    }
   ],
   "source": [
    "x = [df_bikes['longitude']]\n",
    "y = [df_bikes['latitude']]\n",
    "\n",
    "plt.scatter(x,y,c='forestgreen',marker='o',s=1)\n",
    "\n",
    "plt.xlabel('longitude')\n",
    "plt.ylabel('latitude')\n",
    "\n",
    "plt.show()"
   ]
  },
  {
   "cell_type": "markdown",
   "metadata": {},
   "source": [
    "There are small clusters of bikes quite far from the others. Geographically, where are they?"
   ]
  },
  {
   "cell_type": "code",
   "execution_count": 31,
   "metadata": {
    "tags": []
   },
   "outputs": [
    {
     "data": {
      "text/plain": [
       "Index(['name', 'categories.yelp', 'distance.yelp', 'latitude.yelp',\n",
       "       'longitude.yelp', 'address.yelp', 'rating', 'categories', 'distance',\n",
       "       'latitude', 'longitude', 'address'],\n",
       "      dtype='object')"
      ]
     },
     "execution_count": 31,
     "metadata": {},
     "output_type": "execute_result"
    }
   ],
   "source": [
    "nan_df = df_join1.isna()\n",
    "nan_df.keys()"
   ]
  },
  {
   "cell_type": "code",
   "execution_count": 33,
   "metadata": {
    "tags": []
   },
   "outputs": [
    {
     "name": "stdout",
     "output_type": "stream",
     "text": [
      "False    221\n",
      "Name: name, dtype: int64\n",
      "False    221\n",
      "Name: categories.yelp, dtype: int64\n",
      "False    221\n",
      "Name: distance.yelp, dtype: int64\n",
      "False    221\n",
      "Name: latitude.yelp, dtype: int64\n",
      "False    221\n",
      "Name: longitude.yelp, dtype: int64\n",
      "False    218\n",
      "True       3\n",
      "Name: address.yelp, dtype: int64\n",
      "False    221\n",
      "Name: rating, dtype: int64\n",
      "True     159\n",
      "False     62\n",
      "Name: categories, dtype: int64\n",
      "True     159\n",
      "False     62\n",
      "Name: distance, dtype: int64\n",
      "True     159\n",
      "False     62\n",
      "Name: latitude, dtype: int64\n",
      "True     159\n",
      "False     62\n",
      "Name: longitude, dtype: int64\n",
      "True     159\n",
      "False     62\n",
      "Name: address, dtype: int64\n"
     ]
    }
   ],
   "source": [
    "for key in nan_df.keys():\n",
    "    print(nan_df[key].value_counts())"
   ]
  },
  {
   "cell_type": "code",
   "execution_count": 34,
   "metadata": {
    "tags": []
   },
   "outputs": [
    {
     "data": {
      "text/html": [
       "<div>\n",
       "<style scoped>\n",
       "    .dataframe tbody tr th:only-of-type {\n",
       "        vertical-align: middle;\n",
       "    }\n",
       "\n",
       "    .dataframe tbody tr th {\n",
       "        vertical-align: top;\n",
       "    }\n",
       "\n",
       "    .dataframe thead th {\n",
       "        text-align: right;\n",
       "    }\n",
       "</style>\n",
       "<table border=\"1\" class=\"dataframe\">\n",
       "  <thead>\n",
       "    <tr style=\"text-align: right;\">\n",
       "      <th></th>\n",
       "      <th>name</th>\n",
       "      <th>categories.yelp</th>\n",
       "      <th>distance.yelp</th>\n",
       "      <th>latitude.yelp</th>\n",
       "      <th>longitude.yelp</th>\n",
       "      <th>address.yelp</th>\n",
       "      <th>rating</th>\n",
       "      <th>categories</th>\n",
       "      <th>distance</th>\n",
       "      <th>latitude</th>\n",
       "      <th>longitude</th>\n",
       "      <th>address</th>\n",
       "    </tr>\n",
       "  </thead>\n",
       "  <tbody>\n",
       "    <tr>\n",
       "      <th>10</th>\n",
       "      <td>The 3 Brewers</td>\n",
       "      <td>[{'alias': 'pubs', 'title': 'Pubs'}, {'alias':...</td>\n",
       "      <td>33.455415</td>\n",
       "      <td>43.655510</td>\n",
       "      <td>-79.380270</td>\n",
       "      <td>275 Yonge St</td>\n",
       "      <td>3.0</td>\n",
       "      <td>[{'id': 13006, 'name': 'Beer Bar', 'icon': {'p...</td>\n",
       "      <td>19.0</td>\n",
       "      <td>43.655472</td>\n",
       "      <td>-79.380321</td>\n",
       "      <td>275 Yonge St</td>\n",
       "    </tr>\n",
       "    <tr>\n",
       "      <th>12</th>\n",
       "      <td>Bar Hop</td>\n",
       "      <td>[{'alias': 'bars', 'title': 'Bars'}]</td>\n",
       "      <td>36.583473</td>\n",
       "      <td>43.645599</td>\n",
       "      <td>-79.393547</td>\n",
       "      <td>391 King Street W</td>\n",
       "      <td>4.0</td>\n",
       "      <td>[{'id': 13006, 'name': 'Beer Bar', 'icon': {'p...</td>\n",
       "      <td>32.0</td>\n",
       "      <td>43.645579</td>\n",
       "      <td>-79.393658</td>\n",
       "      <td>391 King St W</td>\n",
       "    </tr>\n",
       "    <tr>\n",
       "      <th>17</th>\n",
       "      <td>Bar Hop</td>\n",
       "      <td>[{'alias': 'pubs', 'title': 'Pubs'}]</td>\n",
       "      <td>42.716176</td>\n",
       "      <td>43.649106</td>\n",
       "      <td>-79.393496</td>\n",
       "      <td>137 Peter Street</td>\n",
       "      <td>3.5</td>\n",
       "      <td>[{'id': 13006, 'name': 'Beer Bar', 'icon': {'p...</td>\n",
       "      <td>32.0</td>\n",
       "      <td>43.645579</td>\n",
       "      <td>-79.393658</td>\n",
       "      <td>391 King St W</td>\n",
       "    </tr>\n",
       "    <tr>\n",
       "      <th>18</th>\n",
       "      <td>Blood Brothers Brewing</td>\n",
       "      <td>[{'alias': 'breweries', 'title': 'Breweries'}]</td>\n",
       "      <td>44.477390</td>\n",
       "      <td>43.669840</td>\n",
       "      <td>-79.436180</td>\n",
       "      <td>165 Geary Avenue</td>\n",
       "      <td>4.0</td>\n",
       "      <td>[{'id': 13029, 'name': 'Brewery', 'icon': {'pr...</td>\n",
       "      <td>51.0</td>\n",
       "      <td>43.669939</td>\n",
       "      <td>-79.436128</td>\n",
       "      <td>165 Geary Ave</td>\n",
       "    </tr>\n",
       "    <tr>\n",
       "      <th>35</th>\n",
       "      <td>Godspeed Brewery</td>\n",
       "      <td>[{'alias': 'breweries', 'title': 'Breweries'}]</td>\n",
       "      <td>62.721724</td>\n",
       "      <td>43.672657</td>\n",
       "      <td>-79.319100</td>\n",
       "      <td>242 Coxwell Avenue</td>\n",
       "      <td>4.0</td>\n",
       "      <td>[{'id': 13003, 'name': 'Bar', 'icon': {'prefix...</td>\n",
       "      <td>87.0</td>\n",
       "      <td>43.672563</td>\n",
       "      <td>-79.319341</td>\n",
       "      <td>242 Coxwell Ave</td>\n",
       "    </tr>\n",
       "    <tr>\n",
       "      <th>...</th>\n",
       "      <td>...</td>\n",
       "      <td>...</td>\n",
       "      <td>...</td>\n",
       "      <td>...</td>\n",
       "      <td>...</td>\n",
       "      <td>...</td>\n",
       "      <td>...</td>\n",
       "      <td>...</td>\n",
       "      <td>...</td>\n",
       "      <td>...</td>\n",
       "      <td>...</td>\n",
       "      <td>...</td>\n",
       "    </tr>\n",
       "    <tr>\n",
       "      <th>196</th>\n",
       "      <td>The Beer Store</td>\n",
       "      <td>[{'alias': 'beer_and_wine', 'title': 'Beer, Wi...</td>\n",
       "      <td>937.594455</td>\n",
       "      <td>43.707870</td>\n",
       "      <td>-79.362480</td>\n",
       "      <td>Laird Avenue</td>\n",
       "      <td>4.0</td>\n",
       "      <td>[{'id': 17058, 'name': 'Beer Store', 'icon': {...</td>\n",
       "      <td>204.0</td>\n",
       "      <td>43.654318</td>\n",
       "      <td>-79.449379</td>\n",
       "      <td>Dundas St W</td>\n",
       "    </tr>\n",
       "    <tr>\n",
       "      <th>196</th>\n",
       "      <td>The Beer Store</td>\n",
       "      <td>[{'alias': 'beer_and_wine', 'title': 'Beer, Wi...</td>\n",
       "      <td>937.594455</td>\n",
       "      <td>43.707870</td>\n",
       "      <td>-79.362480</td>\n",
       "      <td>Laird Avenue</td>\n",
       "      <td>4.0</td>\n",
       "      <td>[{'id': 17058, 'name': 'Beer Store', 'icon': {...</td>\n",
       "      <td>581.0</td>\n",
       "      <td>43.594475</td>\n",
       "      <td>-79.534333</td>\n",
       "      <td>3580 Lake Shore Blvd W</td>\n",
       "    </tr>\n",
       "    <tr>\n",
       "      <th>196</th>\n",
       "      <td>The Beer Store</td>\n",
       "      <td>[{'alias': 'beer_and_wine', 'title': 'Beer, Wi...</td>\n",
       "      <td>937.594455</td>\n",
       "      <td>43.707870</td>\n",
       "      <td>-79.362480</td>\n",
       "      <td>Laird Avenue</td>\n",
       "      <td>4.0</td>\n",
       "      <td>[{'id': 17058, 'name': 'Beer Store', 'icon': {...</td>\n",
       "      <td>809.0</td>\n",
       "      <td>43.638510</td>\n",
       "      <td>-79.388980</td>\n",
       "      <td>3250 Queens Quay W</td>\n",
       "    </tr>\n",
       "    <tr>\n",
       "      <th>200</th>\n",
       "      <td>Amsterdam Brewery</td>\n",
       "      <td>[{'alias': 'breweries', 'title': 'Breweries'}]</td>\n",
       "      <td>1105.246276</td>\n",
       "      <td>43.707033</td>\n",
       "      <td>-79.357319</td>\n",
       "      <td>45 Esandar Dr.</td>\n",
       "      <td>4.0</td>\n",
       "      <td>[{'id': 13029, 'name': 'Brewery', 'icon': {'pr...</td>\n",
       "      <td>777.0</td>\n",
       "      <td>43.706394</td>\n",
       "      <td>-79.357118</td>\n",
       "      <td>45 Esandar Dr</td>\n",
       "    </tr>\n",
       "    <tr>\n",
       "      <th>204</th>\n",
       "      <td>Jack Astor's</td>\n",
       "      <td>[{'alias': 'newcanadian', 'title': 'Canadian (...</td>\n",
       "      <td>1376.910497</td>\n",
       "      <td>43.645404</td>\n",
       "      <td>-79.383916</td>\n",
       "      <td>144 Front Street West</td>\n",
       "      <td>3.0</td>\n",
       "      <td>[{'id': 13065, 'name': 'Restaurant', 'icon': {...</td>\n",
       "      <td>29.0</td>\n",
       "      <td>43.656641</td>\n",
       "      <td>-79.380460</td>\n",
       "      <td>10 Dundas St E</td>\n",
       "    </tr>\n",
       "  </tbody>\n",
       "</table>\n",
       "<p>62 rows × 12 columns</p>\n",
       "</div>"
      ],
      "text/plain": [
       "                       name  \\\n",
       "10            The 3 Brewers   \n",
       "12                  Bar Hop   \n",
       "17                  Bar Hop   \n",
       "18   Blood Brothers Brewing   \n",
       "35         Godspeed Brewery   \n",
       "..                      ...   \n",
       "196          The Beer Store   \n",
       "196          The Beer Store   \n",
       "196          The Beer Store   \n",
       "200       Amsterdam Brewery   \n",
       "204            Jack Astor's   \n",
       "\n",
       "                                       categories.yelp  distance.yelp  \\\n",
       "10   [{'alias': 'pubs', 'title': 'Pubs'}, {'alias':...      33.455415   \n",
       "12                [{'alias': 'bars', 'title': 'Bars'}]      36.583473   \n",
       "17                [{'alias': 'pubs', 'title': 'Pubs'}]      42.716176   \n",
       "18      [{'alias': 'breweries', 'title': 'Breweries'}]      44.477390   \n",
       "35      [{'alias': 'breweries', 'title': 'Breweries'}]      62.721724   \n",
       "..                                                 ...            ...   \n",
       "196  [{'alias': 'beer_and_wine', 'title': 'Beer, Wi...     937.594455   \n",
       "196  [{'alias': 'beer_and_wine', 'title': 'Beer, Wi...     937.594455   \n",
       "196  [{'alias': 'beer_and_wine', 'title': 'Beer, Wi...     937.594455   \n",
       "200     [{'alias': 'breweries', 'title': 'Breweries'}]    1105.246276   \n",
       "204  [{'alias': 'newcanadian', 'title': 'Canadian (...    1376.910497   \n",
       "\n",
       "     latitude.yelp  longitude.yelp           address.yelp  rating  \\\n",
       "10       43.655510      -79.380270           275 Yonge St     3.0   \n",
       "12       43.645599      -79.393547      391 King Street W     4.0   \n",
       "17       43.649106      -79.393496       137 Peter Street     3.5   \n",
       "18       43.669840      -79.436180       165 Geary Avenue     4.0   \n",
       "35       43.672657      -79.319100     242 Coxwell Avenue     4.0   \n",
       "..             ...             ...                    ...     ...   \n",
       "196      43.707870      -79.362480           Laird Avenue     4.0   \n",
       "196      43.707870      -79.362480           Laird Avenue     4.0   \n",
       "196      43.707870      -79.362480           Laird Avenue     4.0   \n",
       "200      43.707033      -79.357319         45 Esandar Dr.     4.0   \n",
       "204      43.645404      -79.383916  144 Front Street West     3.0   \n",
       "\n",
       "                                            categories  distance   latitude  \\\n",
       "10   [{'id': 13006, 'name': 'Beer Bar', 'icon': {'p...      19.0  43.655472   \n",
       "12   [{'id': 13006, 'name': 'Beer Bar', 'icon': {'p...      32.0  43.645579   \n",
       "17   [{'id': 13006, 'name': 'Beer Bar', 'icon': {'p...      32.0  43.645579   \n",
       "18   [{'id': 13029, 'name': 'Brewery', 'icon': {'pr...      51.0  43.669939   \n",
       "35   [{'id': 13003, 'name': 'Bar', 'icon': {'prefix...      87.0  43.672563   \n",
       "..                                                 ...       ...        ...   \n",
       "196  [{'id': 17058, 'name': 'Beer Store', 'icon': {...     204.0  43.654318   \n",
       "196  [{'id': 17058, 'name': 'Beer Store', 'icon': {...     581.0  43.594475   \n",
       "196  [{'id': 17058, 'name': 'Beer Store', 'icon': {...     809.0  43.638510   \n",
       "200  [{'id': 13029, 'name': 'Brewery', 'icon': {'pr...     777.0  43.706394   \n",
       "204  [{'id': 13065, 'name': 'Restaurant', 'icon': {...      29.0  43.656641   \n",
       "\n",
       "     longitude                 address  \n",
       "10  -79.380321            275 Yonge St  \n",
       "12  -79.393658           391 King St W  \n",
       "17  -79.393658           391 King St W  \n",
       "18  -79.436128           165 Geary Ave  \n",
       "35  -79.319341         242 Coxwell Ave  \n",
       "..         ...                     ...  \n",
       "196 -79.449379             Dundas St W  \n",
       "196 -79.534333  3580 Lake Shore Blvd W  \n",
       "196 -79.388980      3250 Queens Quay W  \n",
       "200 -79.357118           45 Esandar Dr  \n",
       "204 -79.380460          10 Dundas St E  \n",
       "\n",
       "[62 rows x 12 columns]"
      ]
     },
     "execution_count": 34,
     "metadata": {},
     "output_type": "execute_result"
    }
   ],
   "source": [
    "df_join1.dropna()"
   ]
  },
  {
   "cell_type": "markdown",
   "metadata": {},
   "source": [
    "# Database"
   ]
  },
  {
   "cell_type": "markdown",
   "metadata": {},
   "source": [
    "Put all your results in an SQLite3 database (remember, SQLite stores its databases as files in your local machine - make sure to create your database in your project's data/ directory!)"
   ]
  },
  {
   "cell_type": "code",
   "execution_count": 47,
   "metadata": {
    "tags": []
   },
   "outputs": [],
   "source": [
    "import sqlite3\n",
    "from sqlite3 import Error\n",
    "\n",
    "def create_connection(path):\n",
    "    connection = None\n",
    "    try:\n",
    "        connection = sqlite3.connect(path)\n",
    "        print(\"Success\")\n",
    "    except Error as e:\n",
    "        print(f\"Error '{e}' occurred\")\n",
    "              \n",
    "    return connection"
   ]
  },
  {
   "cell_type": "code",
   "execution_count": 48,
   "metadata": {
    "tags": []
   },
   "outputs": [
    {
     "name": "stdout",
     "output_type": "stream",
     "text": [
      "Success\n"
     ]
    }
   ],
   "source": [
    "connection = create_connection(\"sm_app.sqlite\")"
   ]
  },
  {
   "cell_type": "code",
   "execution_count": 50,
   "metadata": {
    "tags": []
   },
   "outputs": [],
   "source": [
    "def execute_query(connection,query):\n",
    "    cursor = connection.cursor()\n",
    "    try:\n",
    "        cursor.execute(query)\n",
    "        connection.commit()\n",
    "        print(\"Query committed successfully\")\n",
    "    except Error as e:\n",
    "        print(f\"Error '{e}' occurred\")"
   ]
  },
  {
   "cell_type": "code",
   "execution_count": 55,
   "metadata": {
    "tags": []
   },
   "outputs": [],
   "source": [
    "create_fsq_results_table = \"\"\"\n",
    "CREATE TABLE IF NOT EXISTS fsq_results (\n",
    "    id INTEGER PRIMARY KEY AUTOINCREMENT,\n",
    "    name TEXT,\n",
    "    categories VARCHAR,\n",
    "    distance FLOAT,\n",
    "    latitude FLOAT,\n",
    "    longitude FLOAT,\n",
    "    address VARCHAR,\n",
    "    rating FLOAT\n",
    ");\n",
    "\"\"\"    "
   ]
  },
  {
   "cell_type": "code",
   "execution_count": 56,
   "metadata": {
    "tags": []
   },
   "outputs": [
    {
     "name": "stdout",
     "output_type": "stream",
     "text": [
      "Query committed successfully\n"
     ]
    }
   ],
   "source": [
    "execute_query(connection, create_fsq_results_table)"
   ]
  },
  {
   "cell_type": "code",
   "execution_count": 67,
   "metadata": {
    "tags": []
   },
   "outputs": [
    {
     "name": "stdout",
     "output_type": "stream",
     "text": [
      "Success\n",
      "Query committed successfully\n"
     ]
    },
    {
     "data": {
      "text/plain": [
       "202"
      ]
     },
     "execution_count": 67,
     "metadata": {},
     "output_type": "execute_result"
    }
   ],
   "source": [
    "import sqlite3\n",
    "from sqlite3 import Error\n",
    "import pandas as pd  # Ensure you've imported pandas\n",
    "\n",
    "def create_connection(path):\n",
    "    connection = None\n",
    "    try:\n",
    "        connection = sqlite3.connect(path)\n",
    "        print(\"Success\")\n",
    "    except Error as e:\n",
    "        print(f\"Error '{e}' occurred\")\n",
    "              \n",
    "    return connection\n",
    "\n",
    "connection = create_connection(\"sm_app.sqlite\")\n",
    "\n",
    "def execute_query(connection,query):\n",
    "    cursor = connection.cursor()\n",
    "    try:\n",
    "        cursor.execute(query)\n",
    "        connection.commit()\n",
    "        print(\"Query committed successfully\")\n",
    "    except Error as e:\n",
    "        print(f\"Error '{e}' occurred\")\n",
    "\n",
    "create_fsq_results_table = \"\"\"\n",
    "CREATE TABLE IF NOT EXISTS fsq_results (\n",
    "    id INTEGER PRIMARY KEY AUTOINCREMENT,\n",
    "    name TEXT,\n",
    "    categories VARCHAR,\n",
    "    distance FLOAT,\n",
    "    latitude FLOAT,\n",
    "    longitude FLOAT,\n",
    "    address VARCHAR,\n",
    "    rating FLOAT\n",
    ");\n",
    "\"\"\" \n",
    "\n",
    "execute_query(connection, create_fsq_results_table)\n",
    "\n",
    "# Assuming you already have df_fsq loaded\n",
    "df_fsq.to_sql('fsq_results', connection, if_exists='append', index=False)\n"
   ]
  },
  {
   "cell_type": "code",
   "execution_count": 58,
   "metadata": {
    "tags": []
   },
   "outputs": [],
   "source": [
    "create_yelp_results_table = \"\"\"\n",
    "CREATE TABLE IF NOT EXISTS yelp_results (\n",
    "    id INTEGER PRIMARY KEY AUTOINCREMENT,\n",
    "    name TEXT,\n",
    "    categories VARCHAR,\n",
    "    distance FLOAT,\n",
    "    latitude FLOAT,\n",
    "    longitude FLOAT,\n",
    "    address VARCHAR,\n",
    "    rating FLOAT\n",
    ");\n",
    "\"\"\"    "
   ]
  },
  {
   "cell_type": "code",
   "execution_count": 59,
   "metadata": {
    "tags": []
   },
   "outputs": [
    {
     "name": "stdout",
     "output_type": "stream",
     "text": [
      "Query committed successfully\n"
     ]
    }
   ],
   "source": [
    "execute_query(connection, create_yelp_results_table)"
   ]
  },
  {
   "cell_type": "code",
   "execution_count": 68,
   "metadata": {
    "tags": []
   },
   "outputs": [
    {
     "name": "stdout",
     "output_type": "stream",
     "text": [
      "Success\n",
      "Query committed successfully\n"
     ]
    },
    {
     "data": {
      "text/plain": [
       "205"
      ]
     },
     "execution_count": 68,
     "metadata": {},
     "output_type": "execute_result"
    }
   ],
   "source": [
    "import sqlite3\n",
    "from sqlite3 import Error\n",
    "import pandas as pd  # Ensure you've imported pandas\n",
    "\n",
    "def create_connection(path):\n",
    "    connection = None\n",
    "    try:\n",
    "        connection = sqlite3.connect(path)\n",
    "        print(\"Success\")\n",
    "    except Error as e:\n",
    "        print(f\"Error '{e}' occurred\")\n",
    "              \n",
    "    return connection\n",
    "\n",
    "connection = create_connection(\"sm_app.sqlite\")\n",
    "\n",
    "def execute_query(connection,query):\n",
    "    cursor = connection.cursor()\n",
    "    try:\n",
    "        cursor.execute(query)\n",
    "        connection.commit()\n",
    "        print(\"Query committed successfully\")\n",
    "    except Error as e:\n",
    "        print(f\"Error '{e}' occurred\")\n",
    "\n",
    "create_yelp_results_table = \"\"\"\n",
    "CREATE TABLE IF NOT EXISTS yelp_results (\n",
    "    id INTEGER PRIMARY KEY AUTOINCREMENT,\n",
    "    name TEXT,\n",
    "    categories VARCHAR,\n",
    "    distance FLOAT,\n",
    "    latitude FLOAT,\n",
    "    longitude FLOAT,\n",
    "    address VARCHAR,\n",
    "    rating FLOAT\n",
    ");\n",
    "\"\"\" \n",
    "\n",
    "execute_query(connection, create_yelp_results_table)\n",
    "\n",
    "# Assuming you already have df_fsq loaded\n",
    "df_yelp.to_sql('yelp_results', connection, if_exists='append', index=False)"
   ]
  },
  {
   "cell_type": "markdown",
   "metadata": {},
   "source": [
    "Look at the data before and after the join to validate your data."
   ]
  },
  {
   "cell_type": "code",
   "execution_count": 73,
   "metadata": {
    "tags": []
   },
   "outputs": [],
   "source": [
    "def execute_read_query(connection,query):\n",
    "    cursor = connection.cursor()\n",
    "    result = None\n",
    "    try:\n",
    "        cursor.execute(query)\n",
    "        result = cursor.fetchall()\n",
    "        return result\n",
    "    except Error as e:\n",
    "        print(f\"The error '{e}' occurred\")"
   ]
  },
  {
   "cell_type": "code",
   "execution_count": 75,
   "metadata": {
    "collapsed": true,
    "jupyter": {
     "outputs_hidden": true
    },
    "tags": []
   },
   "outputs": [
    {
     "name": "stdout",
     "output_type": "stream",
     "text": [
      "('Radical Road Brewing Co', \"[{'id': 13029, 'name': 'Brewery', 'icon': {'prefix': 'https://ss3.4sqi.net/img/categories_v2/food/brewery_', 'suffix': '.png'}}, {'id': 13065, 'name': 'Restaurant', 'icon': {'prefix': 'https://ss3.4sqi.net/img/categories_v2/food/default_', 'suffix': '.png'}}]\", 9, 43.662519, -79.332532, '1177 Queen St E')\n",
      "('Le Select Bistro', \"[{'id': 13025, 'name': 'Wine Bar', 'icon': {'prefix': 'https://ss3.4sqi.net/img/categories_v2/food/winery_', 'suffix': '.png'}}, {'id': 13027, 'name': 'Bistro', 'icon': {'prefix': 'https://ss3.4sqi.net/img/categories_v2/food/default_', 'suffix': '.png'}}, {'id': 13148, 'name': 'French Restaurant', 'icon': {'prefix': 'https://ss3.4sqi.net/img/categories_v2/food/french_', 'suffix': '.png'}}]\", 15, 43.643777, -79.39683, '432 Wellington St W')\n",
      "('The 3 Brewers', \"[{'id': 13006, 'name': 'Beer Bar', 'icon': {'prefix': 'https://ss3.4sqi.net/img/categories_v2/nightlife/pub_', 'suffix': '.png'}}, {'id': 13068, 'name': 'American Restaurant', 'icon': {'prefix': 'https://ss3.4sqi.net/img/categories_v2/food/default_', 'suffix': '.png'}}]\", 19, 43.655472, -79.380321, '275 Yonge St')\n",
      "('Birroteca', \"[{'id': 13029, 'name': 'Brewery', 'icon': {'prefix': 'https://ss3.4sqi.net/img/categories_v2/food/brewery_', 'suffix': '.png'}}]\", 19, 43.669432, -79.38909, '55 Bloor St W')\n",
      "('Beer Store', \"[{'id': 17058, 'name': 'Beer Store', 'icon': {'prefix': 'https://ss3.4sqi.net/img/categories_v2/nightlife/beergarden_', 'suffix': '.png'}}]\", 21, 43.667288, -79.345024, '800 Gerrard St E')\n",
      "('WVRST', \"[{'id': 13006, 'name': 'Beer Bar', 'icon': {'prefix': 'https://ss3.4sqi.net/img/categories_v2/nightlife/pub_', 'suffix': '.png'}}, {'id': 13058, 'name': 'Hot Dog Joint', 'icon': {'prefix': 'https://ss3.4sqi.net/img/categories_v2/food/hotdog_', 'suffix': '.png'}}, {'id': 13165, 'name': 'German Restaurant', 'icon': {'prefix': 'https://ss3.4sqi.net/img/categories_v2/food/german_', 'suffix': '.png'}}]\", 21, 43.644181, -79.40054, '609 King St W')\n",
      "('The Rose & Crown', \"[{'id': 13018, 'name': 'Pub', 'icon': {'prefix': 'https://ss3.4sqi.net/img/categories_v2/nightlife/pub_', 'suffix': '.png'}}, {'id': 13049, 'name': 'Diner', 'icon': {'prefix': 'https://ss3.4sqi.net/img/categories_v2/food/diner_', 'suffix': '.png'}}]\", 25, 43.708506, -79.398503, '2335 Yonge St')\n",
      "('Labatt Brewing Company Ltd', \"[{'id': 13029, 'name': 'Brewery', 'icon': {'prefix': 'https://ss3.4sqi.net/img/categories_v2/food/brewery_', 'suffix': '.png'}}, {'id': 17000, 'name': 'Retail', 'icon': {'prefix': 'https://ss3.4sqi.net/img/categories_v2/shops/default_', 'suffix': '.png'}}]\", 28, 43.639224, -79.425455, '1183 King St W')\n",
      "('Peniche Community Club of Toronto', \"[{'id': 10032, 'name': 'Night Club', 'icon': {'prefix': 'https://ss3.4sqi.net/img/categories_v2/nightlife/nightclub_', 'suffix': '.png'}}, {'id': 13029, 'name': 'Brewery', 'icon': {'prefix': 'https://ss3.4sqi.net/img/categories_v2/food/brewery_', 'suffix': '.png'}}]\", 29, 43.651516, -79.43855, '1264 College St')\n",
      "('Five Points Bar and Grill', \"[{'id': 13006, 'name': 'Beer Bar', 'icon': {'prefix': 'https://ss3.4sqi.net/img/categories_v2/nightlife/pub_', 'suffix': '.png'}}, {'id': 13065, 'name': 'Restaurant', 'icon': {'prefix': 'https://ss3.4sqi.net/img/categories_v2/food/default_', 'suffix': '.png'}}]\", 29, 43.692796, -79.441479, '636 Vaughan Rd')\n",
      "(\"Jack Astor's\", \"[{'id': 13065, 'name': 'Restaurant', 'icon': {'prefix': 'https://ss3.4sqi.net/img/categories_v2/food/default_', 'suffix': '.png'}}, {'id': 13003, 'name': 'Bar', 'icon': {'prefix': 'https://ss3.4sqi.net/img/categories_v2/nightlife/pub_', 'suffix': '.png'}}]\", 29, 43.656641, -79.38046, '10 Dundas St E')\n",
      "('Old Flame Brewing Co', \"[{'id': 13029, 'name': 'Brewery', 'icon': {'prefix': 'https://ss3.4sqi.net/img/categories_v2/food/brewery_', 'suffix': '.png'}}]\", 30, 43.651051, -79.357646, '43 Tankhouse Lane')\n",
      "('Avling', \"[{'id': 13003, 'name': 'Bar', 'icon': {'prefix': 'https://ss3.4sqi.net/img/categories_v2/nightlife/pub_', 'suffix': '.png'}}, {'id': 13029, 'name': 'Brewery', 'icon': {'prefix': 'https://ss3.4sqi.net/img/categories_v2/food/brewery_', 'suffix': '.png'}}, {'id': 13065, 'name': 'Restaurant', 'icon': {'prefix': 'https://ss3.4sqi.net/img/categories_v2/food/default_', 'suffix': '.png'}}]\", 31, 43.661655, -79.338287, '1042 Queen St E')\n",
      "('Bar Hop', \"[{'id': 13006, 'name': 'Beer Bar', 'icon': {'prefix': 'https://ss3.4sqi.net/img/categories_v2/nightlife/pub_', 'suffix': '.png'}}, {'id': 13065, 'name': 'Restaurant', 'icon': {'prefix': 'https://ss3.4sqi.net/img/categories_v2/food/default_', 'suffix': '.png'}}]\", 32, 43.645579, -79.393658, '391 King St W')\n",
      "('Bloor Brewery Inc', \"[{'id': 13029, 'name': 'Brewery', 'icon': {'prefix': 'https://ss3.4sqi.net/img/categories_v2/food/brewery_', 'suffix': '.png'}}]\", 36, 43.669951, -79.387349, '2 Bloor St W')\n",
      "('Steam Whistle Brewing', \"[{'id': 13029, 'name': 'Brewery', 'icon': {'prefix': 'https://ss3.4sqi.net/img/categories_v2/food/brewery_', 'suffix': '.png'}}, {'id': 13065, 'name': 'Restaurant', 'icon': {'prefix': 'https://ss3.4sqi.net/img/categories_v2/food/default_', 'suffix': '.png'}}]\", 37, 43.641025, -79.385267, '255 Bremner Blvd')\n",
      "(\"Nadia's Loving Pet Services Harbourfront\", \"[{'id': 11133, 'name': 'Pet Service', 'icon': {'prefix': 'https://ss3.4sqi.net/img/categories_v2/shops/pet_store_', 'suffix': '.png'}}, {'id': 13029, 'name': 'Brewery', 'icon': {'prefix': 'https://ss3.4sqi.net/img/categories_v2/food/brewery_', 'suffix': '.png'}}]\", 38, 43.640563, -79.3808, '8 York St')\n",
      "('Rogers Centre', \"[{'id': 10051, 'name': 'Stadium', 'icon': {'prefix': 'https://ss3.4sqi.net/img/categories_v2/arts_entertainment/stadium_', 'suffix': '.png'}}]\", 41, 43.641113, -79.38967, '1 Blue Jays Way')\n",
      "('Burdock', \"[{'id': 13029, 'name': 'Brewery', 'icon': {'prefix': 'https://ss3.4sqi.net/img/categories_v2/food/brewery_', 'suffix': '.png'}}]\", 42, 43.653999, -79.402154, '6 Denison Sq')\n",
      "('Beer Store', \"[{'id': 17058, 'name': 'Beer Store', 'icon': {'prefix': 'https://ss3.4sqi.net/img/categories_v2/nightlife/beergarden_', 'suffix': '.png'}}]\", 43, 43.666252, -79.38185, '572 Church St')\n",
      "('Local Liberty Village', \"[{'id': 13314, 'name': 'New American Restaurant', 'icon': {'prefix': 'https://ss3.4sqi.net/img/categories_v2/food/newamerican_', 'suffix': '.png'}}, {'id': 13065, 'name': 'Restaurant', 'icon': {'prefix': 'https://ss3.4sqi.net/img/categories_v2/food/default_', 'suffix': '.png'}}]\", 44, 43.638448, -79.419162, '171 E Liberty St')\n",
      "('Indie Alehouse Barrel House', \"[{'id': 13029, 'name': 'Brewery', 'icon': {'prefix': 'https://ss3.4sqi.net/img/categories_v2/food/brewery_', 'suffix': '.png'}}]\", 45, 43.669873, -79.436257, '165 Geary Ave')\n",
      "('Eastbound Brewing Co', \"[{'id': 13003, 'name': 'Bar', 'icon': {'prefix': 'https://ss3.4sqi.net/img/categories_v2/nightlife/pub_', 'suffix': '.png'}}, {'id': 13029, 'name': 'Brewery', 'icon': {'prefix': 'https://ss3.4sqi.net/img/categories_v2/food/brewery_', 'suffix': '.png'}}, {'id': 13057, 'name': 'Gastropub', 'icon': {'prefix': 'https://ss3.4sqi.net/img/categories_v2/food/gastropub_', 'suffix': '.png'}}]\", 45, 43.659005, -79.350118, '700 Queen St E')\n",
      "('Bar Hop Brewco', \"[{'id': 13006, 'name': 'Beer Bar', 'icon': {'prefix': 'https://ss3.4sqi.net/img/categories_v2/nightlife/pub_', 'suffix': '.png'}}, {'id': 13057, 'name': 'Gastropub', 'icon': {'prefix': 'https://ss3.4sqi.net/img/categories_v2/food/gastropub_', 'suffix': '.png'}}, {'id': 13152, 'name': 'Brasserie', 'icon': {'prefix': 'https://ss3.4sqi.net/img/categories_v2/food/french_', 'suffix': '.png'}}]\", 47, 43.649093, -79.39319, '137 Peter St')\n",
      "('Longslice Brewery', \"[{'id': 13029, 'name': 'Brewery', 'icon': {'prefix': 'https://ss3.4sqi.net/img/categories_v2/food/brewery_', 'suffix': '.png'}}]\", 48, 43.653525, -79.354485, '484 Front St E')\n",
      "('Goose Island Brew House - Toronto', \"[{'id': 13006, 'name': 'Beer Bar', 'icon': {'prefix': 'https://ss3.4sqi.net/img/categories_v2/nightlife/pub_', 'suffix': '.png'}}, {'id': 13065, 'name': 'Restaurant', 'icon': {'prefix': 'https://ss3.4sqi.net/img/categories_v2/food/default_', 'suffix': '.png'}}]\", 48, 43.647367, -79.373656, '70 the Esplanade')\n",
      "('La Palette', \"[{'id': 13148, 'name': 'French Restaurant', 'icon': {'prefix': 'https://ss3.4sqi.net/img/categories_v2/food/french_', 'suffix': '.png'}}]\", 50, 43.647902, -79.401087, '492 Queen St W')\n",
      "('Northern Maverick Brewing Co', \"[{'id': 13029, 'name': 'Brewery', 'icon': {'prefix': 'https://ss3.4sqi.net/img/categories_v2/food/brewery_', 'suffix': '.png'}}, {'id': 13065, 'name': 'Restaurant', 'icon': {'prefix': 'https://ss3.4sqi.net/img/categories_v2/food/default_', 'suffix': '.png'}}]\", 50, 43.644967, -79.402863, '115 Bathurst St')\n",
      "('Blood Brothers Brewing', \"[{'id': 13029, 'name': 'Brewery', 'icon': {'prefix': 'https://ss3.4sqi.net/img/categories_v2/food/brewery_', 'suffix': '.png'}}]\", 51, 43.669939, -79.436128, '165 Geary Ave')\n",
      "(\"Castro's Lounge\", \"[{'id': 13009, 'name': 'Cocktail Bar', 'icon': {'prefix': 'https://ss3.4sqi.net/img/categories_v2/nightlife/cocktails_', 'suffix': '.png'}}, {'id': 13016, 'name': 'Lounge', 'icon': {'prefix': 'https://ss3.4sqi.net/img/categories_v2/nightlife/default_', 'suffix': '.png'}}, {'id': 13068, 'name': 'American Restaurant', 'icon': {'prefix': 'https://ss3.4sqi.net/img/categories_v2/food/default_', 'suffix': '.png'}}]\", 55, 43.671221, -79.295045, '2116 E Queen St E')\n",
      "('Lcbo', \"[{'id': 17076, 'name': 'Liquor Store', 'icon': {'prefix': 'https://ss3.4sqi.net/img/categories_v2/shops/food_liquor_', 'suffix': '.png'}}]\", 57, 43.676879, -79.356038, '200 Danforth Ave')\n",
      "('Something in the Water Brewing', \"[{'id': 13029, 'name': 'Brewery', 'icon': {'prefix': 'https://ss3.4sqi.net/img/categories_v2/food/brewery_', 'suffix': '.png'}}]\", 58, 43.638413, -79.417333, '151 E Liberty St')\n",
      "('Razabrewing', \"[{'id': 13029, 'name': 'Brewery', 'icon': {'prefix': 'https://ss3.4sqi.net/img/categories_v2/food/brewery_', 'suffix': '.png'}}]\", 60, 43.651023, -79.450673, '403 Roncesvalles Ave')\n",
      "('Duke of Kent', \"[{'id': 13018, 'name': 'Pub', 'icon': {'prefix': 'https://ss3.4sqi.net/img/categories_v2/nightlife/pub_', 'suffix': '.png'}}, {'id': 13065, 'name': 'Restaurant', 'icon': {'prefix': 'https://ss3.4sqi.net/img/categories_v2/food/default_', 'suffix': '.png'}}]\", 61, 43.707899, -79.398359, '2315 Yonge St')\n",
      "('Fermentations', \"[{'id': 17058, 'name': 'Beer Store', 'icon': {'prefix': 'https://ss3.4sqi.net/img/categories_v2/nightlife/beergarden_', 'suffix': '.png'}}, {'id': 17076, 'name': 'Liquor Store', 'icon': {'prefix': 'https://ss3.4sqi.net/img/categories_v2/shops/food_liquor_', 'suffix': '.png'}}, {'id': 17080, 'name': 'Wine Store', 'icon': {'prefix': 'https://ss3.4sqi.net/img/categories_v2/shops/food_wineshop_', 'suffix': '.png'}}]\", 62, 43.676591, -79.356132, '201 Danforth Ave')\n",
      "('The Roy Public House', \"[{'id': 13003, 'name': 'Bar', 'icon': {'prefix': 'https://ss3.4sqi.net/img/categories_v2/nightlife/pub_', 'suffix': '.png'}}, {'id': 13031, 'name': 'Burger Joint', 'icon': {'prefix': 'https://ss3.4sqi.net/img/categories_v2/food/burger_', 'suffix': '.png'}}]\", 63, 43.660524, -79.343064, '894 Queen St E')\n",
      "('Sin and Redemption', \"[{'id': 13003, 'name': 'Bar', 'icon': {'prefix': 'https://ss3.4sqi.net/img/categories_v2/nightlife/pub_', 'suffix': '.png'}}, {'id': 13077, 'name': 'Belgian Restaurant', 'icon': {'prefix': 'https://ss3.4sqi.net/img/categories_v2/food/default_', 'suffix': '.png'}}]\", 66, 43.654588, -79.391728, '136 McCaul St')\n",
      "('Henderson Brewing Co', \"[{'id': 13029, 'name': 'Brewery', 'icon': {'prefix': 'https://ss3.4sqi.net/img/categories_v2/food/brewery_', 'suffix': '.png'}}, {'id': 13065, 'name': 'Restaurant', 'icon': {'prefix': 'https://ss3.4sqi.net/img/categories_v2/food/default_', 'suffix': '.png'}}]\", 66, 43.653662, -79.4453, '128A Sterling Rd')\n",
      "('Young Centre for the Performing Arts', \"[{'id': 10039, 'name': 'Music Venue', 'icon': {'prefix': 'https://ss3.4sqi.net/img/categories_v2/arts_entertainment/musicvenue_', 'suffix': '.png'}}]\", 69, 43.650888, -79.357573, '50 Tank House Lane')\n",
      "(\"Stefan's\", \"[{'id': 13006, 'name': 'Beer Bar', 'icon': {'prefix': 'https://ss3.4sqi.net/img/categories_v2/nightlife/pub_', 'suffix': '.png'}}]\", 71, 43.694861, -79.454726, 'Eglinton Ave W')\n",
      "('Red Tape Brewery', \"[{'id': 13029, 'name': 'Brewery', 'icon': {'prefix': 'https://ss3.4sqi.net/img/categories_v2/food/brewery_', 'suffix': '.png'}}]\", 74, 43.683754, -79.299934, '159 Main St')\n",
      "('Bang Sue Bar', \"[{'id': 13006, 'name': 'Beer Bar', 'icon': {'prefix': 'https://ss3.4sqi.net/img/categories_v2/nightlife/pub_', 'suffix': '.png'}}, {'id': 13009, 'name': 'Cocktail Bar', 'icon': {'prefix': 'https://ss3.4sqi.net/img/categories_v2/nightlife/cocktails_', 'suffix': '.png'}}, {'id': 13352, 'name': 'Thai Restaurant', 'icon': {'prefix': 'https://ss3.4sqi.net/img/categories_v2/food/thai_', 'suffix': '.png'}}]\", 74, 43.646428, -79.39356, '11 Charlotte St')\n",
      "('Town Crier Pub', \"[{'id': 13018, 'name': 'Pub', 'icon': {'prefix': 'https://ss3.4sqi.net/img/categories_v2/nightlife/pub_', 'suffix': '.png'}}, {'id': 13074, 'name': 'Austrian Restaurant', 'icon': {'prefix': 'https://ss3.4sqi.net/img/categories_v2/food/austrian_', 'suffix': '.png'}}]\", 76, 43.648185, -79.39024, '115 John St')\n",
      "('Beer Store', \"[{'id': 17058, 'name': 'Beer Store', 'icon': {'prefix': 'https://ss3.4sqi.net/img/categories_v2/nightlife/beergarden_', 'suffix': '.png'}}]\", 78, 43.680529, -79.282663, '1089 Kingston Rd')\n",
      "('The Dylan Bar', \"[{'id': 13006, 'name': 'Beer Bar', 'icon': {'prefix': 'https://ss3.4sqi.net/img/categories_v2/nightlife/pub_', 'suffix': '.png'}}, {'id': 13347, 'name': 'Tapas Restaurant', 'icon': {'prefix': 'https://ss3.4sqi.net/img/categories_v2/food/tapas_', 'suffix': '.png'}}]\", 78, 43.681974, -79.330556, '1276 Danforth Ave')\n",
      "('GLB Brewpub', \"[{'id': 13029, 'name': 'Brewery', 'icon': {'prefix': 'https://ss3.4sqi.net/img/categories_v2/food/brewery_', 'suffix': '.png'}}]\", 80, 43.645089, -79.369461, '11 Lower Jarvis St')\n",
      "('The Garden Pub', \"[{'id': 13029, 'name': 'Brewery', 'icon': {'prefix': 'https://ss3.4sqi.net/img/categories_v2/food/brewery_', 'suffix': '.png'}}]\", 80, 43.647803, -79.374613, '37 Front St E')\n",
      "('Beer Store', \"[{'id': 17058, 'name': 'Beer Store', 'icon': {'prefix': 'https://ss3.4sqi.net/img/categories_v2/nightlife/beergarden_', 'suffix': '.png'}}]\", 81, 43.666383, -79.45099, '323 Symington Ave')\n",
      "('Collective Arts', \"[{'id': 13029, 'name': 'Brewery', 'icon': {'prefix': 'https://ss3.4sqi.net/img/categories_v2/food/brewery_', 'suffix': '.png'}}]\", 81, 43.651873, -79.407471, '777 Dundas St W')\n",
      "('By the Way Cafe', \"[{'id': 13049, 'name': 'Diner', 'icon': {'prefix': 'https://ss3.4sqi.net/img/categories_v2/food/diner_', 'suffix': '.png'}}, {'id': 13302, 'name': 'Mediterranean Restaurant', 'icon': {'prefix': 'https://ss3.4sqi.net/img/categories_v2/food/mediterranean_', 'suffix': '.png'}}, {'id': 13309, 'name': 'Middle Eastern Restaurant', 'icon': {'prefix': 'https://ss3.4sqi.net/img/categories_v2/food/middleeastern_', 'suffix': '.png'}}]\", 82, 43.666005, -79.407671, '400 Bloor St W')\n",
      "('Beast Restaurant', \"[{'id': 13068, 'name': 'American Restaurant', 'icon': {'prefix': 'https://ss3.4sqi.net/img/categories_v2/food/default_', 'suffix': '.png'}}]\", 83, 43.644131, -79.405861, '96 Tecumseth St')\n",
      "('Liberty Commons at Big Rock Brewery', \"[{'id': 13018, 'name': 'Pub', 'icon': {'prefix': 'https://ss3.4sqi.net/img/categories_v2/nightlife/pub_', 'suffix': '.png'}}, {'id': 13029, 'name': 'Brewery', 'icon': {'prefix': 'https://ss3.4sqi.net/img/categories_v2/food/brewery_', 'suffix': '.png'}}, {'id': 13065, 'name': 'Restaurant', 'icon': {'prefix': 'https://ss3.4sqi.net/img/categories_v2/food/default_', 'suffix': '.png'}}]\", 84, 43.638425, -79.421027, '42 Liberty St')\n",
      "('Beer Bistro', \"[{'id': 13027, 'name': 'Bistro', 'icon': {'prefix': 'https://ss3.4sqi.net/img/categories_v2/food/default_', 'suffix': '.png'}}, {'id': 13057, 'name': 'Gastropub', 'icon': {'prefix': 'https://ss3.4sqi.net/img/categories_v2/food/gastropub_', 'suffix': '.png'}}, {'id': 13077, 'name': 'Belgian Restaurant', 'icon': {'prefix': 'https://ss3.4sqi.net/img/categories_v2/food/default_', 'suffix': '.png'}}]\", 84, 43.649463, -79.377261, '18 King St E')\n",
      "('Stefansplatz', \"[{'id': 13029, 'name': 'Brewery', 'icon': {'prefix': 'https://ss3.4sqi.net/img/categories_v2/food/brewery_', 'suffix': '.png'}}]\", 85, 43.655146, -79.390228, '195 Saint Patrick St')\n",
      "(\"Allen's\", \"[{'id': 13031, 'name': 'Burger Joint', 'icon': {'prefix': 'https://ss3.4sqi.net/img/categories_v2/food/burger_', 'suffix': '.png'}}, {'id': 13049, 'name': 'Diner', 'icon': {'prefix': 'https://ss3.4sqi.net/img/categories_v2/food/diner_', 'suffix': '.png'}}, {'id': 13068, 'name': 'American Restaurant', 'icon': {'prefix': 'https://ss3.4sqi.net/img/categories_v2/food/default_', 'suffix': '.png'}}]\", 86, 43.6764, -79.357225, '143 Danforth Ave')\n",
      "('Beer Store', \"[{'id': 17058, 'name': 'Beer Store', 'icon': {'prefix': 'https://ss3.4sqi.net/img/categories_v2/nightlife/beergarden_', 'suffix': '.png'}}]\", 87, 43.650446, -79.360589, '41 Mill St')\n",
      "('Godspeed Brewery', \"[{'id': 13003, 'name': 'Bar', 'icon': {'prefix': 'https://ss3.4sqi.net/img/categories_v2/nightlife/pub_', 'suffix': '.png'}}, {'id': 13029, 'name': 'Brewery', 'icon': {'prefix': 'https://ss3.4sqi.net/img/categories_v2/food/brewery_', 'suffix': '.png'}}, {'id': 13065, 'name': 'Restaurant', 'icon': {'prefix': 'https://ss3.4sqi.net/img/categories_v2/food/default_', 'suffix': '.png'}}]\", 87, 43.672563, -79.319341, '242 Coxwell Ave')\n",
      "('The Beer Store', \"[{'id': 17058, 'name': 'Beer Store', 'icon': {'prefix': 'https://ss3.4sqi.net/img/categories_v2/nightlife/beergarden_', 'suffix': '.png'}}]\", 88, 43.613477, -79.489677, '2458 Lake Shore Blvd W')\n",
      "('The Only Cafe', \"[{'id': 13006, 'name': 'Beer Bar', 'icon': {'prefix': 'https://ss3.4sqi.net/img/categories_v2/nightlife/pub_', 'suffix': '.png'}}, {'id': 13010, 'name': 'Dive Bar', 'icon': {'prefix': 'https://ss3.4sqi.net/img/categories_v2/nightlife/divebar_', 'suffix': '.png'}}, {'id': 13302, 'name': 'Mediterranean Restaurant', 'icon': {'prefix': 'https://ss3.4sqi.net/img/categories_v2/food/mediterranean_', 'suffix': '.png'}}]\", 88, 43.680441, -79.337798, '972 Danforth Ave')\n",
      "('Mascot Brewery Beer Garden', \"[{'id': 13029, 'name': 'Brewery', 'icon': {'prefix': 'https://ss3.4sqi.net/img/categories_v2/food/brewery_', 'suffix': '.png'}}]\", 90, 43.647355, -79.386976, '220 King St E')\n",
      "('Louis Cifer Brew Works', \"[{'id': 13029, 'name': 'Brewery', 'icon': {'prefix': 'https://ss3.4sqi.net/img/categories_v2/food/brewery_', 'suffix': '.png'}}, {'id': 13057, 'name': 'Gastropub', 'icon': {'prefix': 'https://ss3.4sqi.net/img/categories_v2/food/gastropub_', 'suffix': '.png'}}, {'id': 13068, 'name': 'American Restaurant', 'icon': {'prefix': 'https://ss3.4sqi.net/img/categories_v2/food/default_', 'suffix': '.png'}}]\", 91, 43.677514, -79.351134, '417 Danforth Ave')\n",
      "('Brewing Brokers', \"[{'id': 13029, 'name': 'Brewery', 'icon': {'prefix': 'https://ss3.4sqi.net/img/categories_v2/food/brewery_', 'suffix': '.png'}}]\", 91, 43.725882, -79.40212, '3153 Yonge St')\n",
      "('Bandit Brewery', \"[{'id': 13029, 'name': 'Brewery', 'icon': {'prefix': 'https://ss3.4sqi.net/img/categories_v2/food/brewery_', 'suffix': '.png'}}, {'id': 13065, 'name': 'Restaurant', 'icon': {'prefix': 'https://ss3.4sqi.net/img/categories_v2/food/default_', 'suffix': '.png'}}]\", 92, 43.652671, -79.449629, '2125 Dundas St W')\n",
      "('Steadfast Brewing', \"[{'id': 13029, 'name': 'Brewery', 'icon': {'prefix': 'https://ss3.4sqi.net/img/categories_v2/food/brewery_', 'suffix': '.png'}}]\", 93, 43.650724, -79.439405, '301 Lansdowne Ave')\n",
      "('Burdock', \"[{'id': 10039, 'name': 'Music Venue', 'icon': {'prefix': 'https://ss3.4sqi.net/img/categories_v2/arts_entertainment/musicvenue_', 'suffix': '.png'}}, {'id': 13006, 'name': 'Beer Bar', 'icon': {'prefix': 'https://ss3.4sqi.net/img/categories_v2/nightlife/pub_', 'suffix': '.png'}}, {'id': 13065, 'name': 'Restaurant', 'icon': {'prefix': 'https://ss3.4sqi.net/img/categories_v2/food/default_', 'suffix': '.png'}}]\", 93, 43.659485, -79.437818, '1184 Bloor St W')\n",
      "('Beer Store', \"[{'id': 17058, 'name': 'Beer Store', 'icon': {'prefix': 'https://ss3.4sqi.net/img/categories_v2/nightlife/beergarden_', 'suffix': '.png'}}]\", 95, 43.693673, -79.441012, '529 Oakwood Ave')\n",
      "('House on Parliament', \"[{'id': 13003, 'name': 'Bar', 'icon': {'prefix': 'https://ss3.4sqi.net/img/categories_v2/nightlife/pub_', 'suffix': '.png'}}, {'id': 13057, 'name': 'Gastropub', 'icon': {'prefix': 'https://ss3.4sqi.net/img/categories_v2/food/gastropub_', 'suffix': '.png'}}, {'id': 13068, 'name': 'American Restaurant', 'icon': {'prefix': 'https://ss3.4sqi.net/img/categories_v2/food/default_', 'suffix': '.png'}}]\", 97, 43.663671, -79.367878, '454 Parliament St')\n",
      "(\"O'Grady's Restaurant\", \"[{'id': 13003, 'name': 'Bar', 'icon': {'prefix': 'https://ss3.4sqi.net/img/categories_v2/nightlife/pub_', 'suffix': '.png'}}, {'id': 13049, 'name': 'Diner', 'icon': {'prefix': 'https://ss3.4sqi.net/img/categories_v2/food/diner_', 'suffix': '.png'}}, {'id': 13068, 'name': 'American Restaurant', 'icon': {'prefix': 'https://ss3.4sqi.net/img/categories_v2/food/default_', 'suffix': '.png'}}]\", 98, 43.664491, -79.380587, '518 Church St')\n",
      "('Bar Hop Session', \"[{'id': 13006, 'name': 'Beer Bar', 'icon': {'prefix': 'https://ss3.4sqi.net/img/categories_v2/nightlife/pub_', 'suffix': '.png'}}, {'id': 13065, 'name': 'Restaurant', 'icon': {'prefix': 'https://ss3.4sqi.net/img/categories_v2/food/default_', 'suffix': '.png'}}]\", 100, 43.678877, -79.343912, '681 Danforth Ave')\n",
      "('Drake Lounge', \"[{'id': 13016, 'name': 'Lounge', 'icon': {'prefix': 'https://ss3.4sqi.net/img/categories_v2/nightlife/default_', 'suffix': '.png'}}]\", 101, 43.643275, -79.424561, '1150 Queen St W')\n",
      "('Jack Astor’s', \"[{'id': 13065, 'name': 'Restaurant', 'icon': {'prefix': 'https://ss3.4sqi.net/img/categories_v2/food/default_', 'suffix': '.png'}}, {'id': 13003, 'name': 'Bar', 'icon': {'prefix': 'https://ss3.4sqi.net/img/categories_v2/nightlife/pub_', 'suffix': '.png'}}]\", 103, 43.670834, -79.386788, '2 Bloor St E')\n",
      "('The Queen and Beaver Public House', \"[{'id': 13003, 'name': 'Bar', 'icon': {'prefix': 'https://ss3.4sqi.net/img/categories_v2/nightlife/pub_', 'suffix': '.png'}}, {'id': 13057, 'name': 'Gastropub', 'icon': {'prefix': 'https://ss3.4sqi.net/img/categories_v2/food/gastropub_', 'suffix': '.png'}}]\", 104, 43.65738, -79.38343, '35 Elm St')\n",
      "('Burdock Bottle Shop', \"[{'id': 17058, 'name': 'Beer Store', 'icon': {'prefix': 'https://ss3.4sqi.net/img/categories_v2/nightlife/beergarden_', 'suffix': '.png'}}]\", 106, 43.659485, -79.437818, '1184 Bloor St W')\n",
      "('Lcbo', \"[{'id': 17069, 'name': 'Grocery Store', 'icon': {'prefix': 'https://ss3.4sqi.net/img/categories_v2/shops/food_grocery_', 'suffix': '.png'}}, {'id': 17076, 'name': 'Liquor Store', 'icon': {'prefix': 'https://ss3.4sqi.net/img/categories_v2/shops/food_liquor_', 'suffix': '.png'}}, {'id': 17080, 'name': 'Wine Store', 'icon': {'prefix': 'https://ss3.4sqi.net/img/categories_v2/shops/food_wineshop_', 'suffix': '.png'}}]\", 106, 43.651189, -79.365054, '222 Front St E')\n",
      "('Brewhaha Craft Beer Lounge', \"[{'id': 13006, 'name': 'Beer Bar', 'icon': {'prefix': 'https://ss3.4sqi.net/img/categories_v2/nightlife/pub_', 'suffix': '.png'}}]\", 108, 43.669174, -79.39728, '39 Prince Arthur Ave')\n",
      "('Rhino Bar & Grill Inc', \"[{'id': 13003, 'name': 'Bar', 'icon': {'prefix': 'https://ss3.4sqi.net/img/categories_v2/nightlife/pub_', 'suffix': '.png'}}, {'id': 13068, 'name': 'American Restaurant', 'icon': {'prefix': 'https://ss3.4sqi.net/img/categories_v2/food/default_', 'suffix': '.png'}}]\", 108, 43.641714, -79.430575, '1249 Queen St W')\n",
      "('St. Louis Bar and Grill', \"[{'id': 13003, 'name': 'Bar', 'icon': {'prefix': 'https://ss3.4sqi.net/img/categories_v2/nightlife/pub_', 'suffix': '.png'}}, {'id': 13022, 'name': 'Sports Bar', 'icon': {'prefix': 'https://ss3.4sqi.net/img/categories_v2/nightlife/sportsbar_', 'suffix': '.png'}}]\", 108, 43.701556, -79.397534, '2050 Yonge St')\n",
      "('Beer Store', \"[{'id': 17058, 'name': 'Beer Store', 'icon': {'prefix': 'https://ss3.4sqi.net/img/categories_v2/nightlife/beergarden_', 'suffix': '.png'}}]\", 110, 43.65245, -79.449593, '2135 Dundas St W')\n",
      "('Bottega Volo', \"[{'id': 17058, 'name': 'Beer Store', 'icon': {'prefix': 'https://ss3.4sqi.net/img/categories_v2/nightlife/beergarden_', 'suffix': '.png'}}]\", 115, 43.655168, -79.414637, '608 College St')\n",
      "('Goodfellas Wood Oven Pizza', \"[{'id': 13064, 'name': 'Pizzeria', 'icon': {'prefix': 'https://ss3.4sqi.net/img/categories_v2/food/pizza_', 'suffix': '.png'}}, {'id': 13236, 'name': 'Italian Restaurant', 'icon': {'prefix': 'https://ss3.4sqi.net/img/categories_v2/food/italian_', 'suffix': '.png'}}]\", 116, 43.64835, -79.486381, '1 Old Mill Dr')\n",
      "('Crafty Coyote', \"[{'id': 13006, 'name': 'Beer Bar', 'icon': {'prefix': 'https://ss3.4sqi.net/img/categories_v2/nightlife/pub_', 'suffix': '.png'}}, {'id': 13065, 'name': 'Restaurant', 'icon': {'prefix': 'https://ss3.4sqi.net/img/categories_v2/food/default_', 'suffix': '.png'}}]\", 119, 43.665421, -79.408747, '511 Bloor St W')\n",
      "('Birreria Volo', \"[{'id': 13006, 'name': 'Beer Bar', 'icon': {'prefix': 'https://ss3.4sqi.net/img/categories_v2/nightlife/pub_', 'suffix': '.png'}}, {'id': 13347, 'name': 'Tapas Restaurant', 'icon': {'prefix': 'https://ss3.4sqi.net/img/categories_v2/food/tapas_', 'suffix': '.png'}}]\", 120, 43.65522, -79.414692, '612 College St')\n",
      "('Halo Brewery', \"[{'id': 13006, 'name': 'Beer Bar', 'icon': {'prefix': 'https://ss3.4sqi.net/img/categories_v2/nightlife/pub_', 'suffix': '.png'}}, {'id': 13029, 'name': 'Brewery', 'icon': {'prefix': 'https://ss3.4sqi.net/img/categories_v2/food/brewery_', 'suffix': '.png'}}, {'id': 13065, 'name': 'Restaurant', 'icon': {'prefix': 'https://ss3.4sqi.net/img/categories_v2/food/default_', 'suffix': '.png'}}]\", 121, 43.661711, -79.446545, '247 Wallace Ave')\n",
      "('Mill Street Brew Pub', \"[{'id': 13018, 'name': 'Pub', 'icon': {'prefix': 'https://ss3.4sqi.net/img/categories_v2/nightlife/pub_', 'suffix': '.png'}}, {'id': 13029, 'name': 'Brewery', 'icon': {'prefix': 'https://ss3.4sqi.net/img/categories_v2/food/brewery_', 'suffix': '.png'}}, {'id': 13077, 'name': 'Belgian Restaurant', 'icon': {'prefix': 'https://ss3.4sqi.net/img/categories_v2/food/default_', 'suffix': '.png'}}]\", 123, 43.650541, -79.3585, '21 Tank House Lane')\n",
      "('Kensington Brewing Co', \"[{'id': 13003, 'name': 'Bar', 'icon': {'prefix': 'https://ss3.4sqi.net/img/categories_v2/nightlife/pub_', 'suffix': '.png'}}, {'id': 13029, 'name': 'Brewery', 'icon': {'prefix': 'https://ss3.4sqi.net/img/categories_v2/food/brewery_', 'suffix': '.png'}}, {'id': 13065, 'name': 'Restaurant', 'icon': {'prefix': 'https://ss3.4sqi.net/img/categories_v2/food/default_', 'suffix': '.png'}}]\", 124, 43.656441, -79.402543, '299 Augusta Ave')\n",
      "('Pukka', \"[{'id': 13199, 'name': 'Indian Restaurant', 'icon': {'prefix': 'https://ss3.4sqi.net/img/categories_v2/food/indian_', 'suffix': '.png'}}]\", 124, 43.68112163005123, -79.42925333976746, '778 St Clair Ave W')\n",
      "('Beer Store', \"[{'id': 17058, 'name': 'Beer Store', 'icon': {'prefix': 'https://ss3.4sqi.net/img/categories_v2/nightlife/beergarden_', 'suffix': '.png'}}]\", 125, 43.666276, -79.489229, '3524 Dundas St W')\n",
      "('Cass Avenue', \"[{'id': 13006, 'name': 'Beer Bar', 'icon': {'prefix': 'https://ss3.4sqi.net/img/categories_v2/nightlife/pub_', 'suffix': '.png'}}]\", 126, 43.707757, -79.394124, '150 Eglinton Ave E')\n",
      "('Yongehurst Distillery Co', \"[{'id': 13003, 'name': 'Bar', 'icon': {'prefix': 'https://ss3.4sqi.net/img/categories_v2/nightlife/pub_', 'suffix': '.png'}}, {'id': 13029, 'name': 'Brewery', 'icon': {'prefix': 'https://ss3.4sqi.net/img/categories_v2/food/brewery_', 'suffix': '.png'}}, {'id': 13050, 'name': 'Distillery', 'icon': {'prefix': 'https://ss3.4sqi.net/img/categories_v2/food/brewery_', 'suffix': '.png'}}]\", 128, 43.670772, -79.434718, '346 Westmoreland Ave N')\n",
      "('The House of Cran', \"[{'id': 13029, 'name': 'Brewery', 'icon': {'prefix': 'https://ss3.4sqi.net/img/categories_v2/food/brewery_', 'suffix': '.png'}}]\", 128, 43.692076, -79.314233, '175 Coleridge Ave')\n",
      "('Akira Back Toronto', \"[{'id': 13263, 'name': 'Japanese Restaurant', 'icon': {'prefix': 'https://ss3.4sqi.net/img/categories_v2/food/japanese_', 'suffix': '.png'}}]\", 129, 43.645275, -79.392441, '80 Blue Jays Way')\n",
      "('Stack', \"[{'id': 13026, 'name': 'BBQ Joint', 'icon': {'prefix': 'https://ss3.4sqi.net/img/categories_v2/food/bbqalt_', 'suffix': '.png'}}, {'id': 13031, 'name': 'Burger Joint', 'icon': {'prefix': 'https://ss3.4sqi.net/img/categories_v2/food/burger_', 'suffix': '.png'}}, {'id': 13383, 'name': 'Steakhouse', 'icon': {'prefix': 'https://ss3.4sqi.net/img/categories_v2/food/steakhouse_', 'suffix': '.png'}}]\", 129, 43.729291, -79.403133, '3265 Yonge St')\n",
      "('Bangkok Garden Restaurant', \"[{'id': 13352, 'name': 'Thai Restaurant', 'icon': {'prefix': 'https://ss3.4sqi.net/img/categories_v2/food/thai_', 'suffix': '.png'}}]\", 130, 43.657825, -79.382706, '18 Elm St')\n",
      "('Ontario Spring Water Sake Co', \"[{'id': 13003, 'name': 'Bar', 'icon': {'prefix': 'https://ss3.4sqi.net/img/categories_v2/nightlife/pub_', 'suffix': '.png'}}, {'id': 13029, 'name': 'Brewery', 'icon': {'prefix': 'https://ss3.4sqi.net/img/categories_v2/food/brewery_', 'suffix': '.png'}}, {'id': 13050, 'name': 'Distillery', 'icon': {'prefix': 'https://ss3.4sqi.net/img/categories_v2/food/brewery_', 'suffix': '.png'}}]\", 130, 43.649827, -79.359836, '51 Gristmill Lane')\n",
      "('CRAFT Beer Market Toronto', \"[{'id': 13006, 'name': 'Beer Bar', 'icon': {'prefix': 'https://ss3.4sqi.net/img/categories_v2/nightlife/pub_', 'suffix': '.png'}}, {'id': 13065, 'name': 'Restaurant', 'icon': {'prefix': 'https://ss3.4sqi.net/img/categories_v2/food/default_', 'suffix': '.png'}}]\", 131, 43.6502, -79.37794, '1 Adelaide St E')\n",
      "('Belgian Moon Brewery', \"[{'id': 13029, 'name': 'Brewery', 'icon': {'prefix': 'https://ss3.4sqi.net/img/categories_v2/food/brewery_', 'suffix': '.png'}}]\", 132, 43.640531, -79.40365, '28 Bathurst St')\n",
      "('Beer Store', \"[{'id': 17058, 'name': 'Beer Store', 'icon': {'prefix': 'https://ss3.4sqi.net/img/categories_v2/nightlife/beergarden_', 'suffix': '.png'}}]\", 132, 43.665413, -79.403461, '720 Spadina Ave')\n",
      "('The John', \"[{'id': 13006, 'name': 'Beer Bar', 'icon': {'prefix': 'https://ss3.4sqi.net/img/categories_v2/nightlife/pub_', 'suffix': '.png'}}]\", 135, 43.65965, -79.437096, '1174 Bloor St W')\n",
      "('Art Gallery of Ontario', \"[{'id': 10004, 'name': 'Art Gallery', 'icon': {'prefix': 'https://ss3.4sqi.net/img/categories_v2/arts_entertainment/artgallery_', 'suffix': '.png'}}]\", 136, 43.653538, -79.392624, '317 Dundas St W')\n",
      "('Nunu Ethopian Fusion', \"[{'id': 13143, 'name': 'Ethiopian Restaurant', 'icon': {'prefix': 'https://ss3.4sqi.net/img/categories_v2/food/ethiopian_', 'suffix': '.png'}}]\", 137, 43.642965, -79.425727, '1178 Queen St W')\n",
      "('The Distillery Historic District', \"[{'id': 16026, 'name': 'Monument', 'icon': {'prefix': 'https://ss3.4sqi.net/img/categories_v2/building/government_monument_', 'suffix': '.png'}}]\", 139, 43.6502, -79.359334, '55 Mill St')\n",
      "('Beer Store', \"[{'id': 17058, 'name': 'Beer Store', 'icon': {'prefix': 'https://ss3.4sqi.net/img/categories_v2/nightlife/beergarden_', 'suffix': '.png'}}]\", 145, 43.657739, -79.357538, '28 River St')\n",
      "('Kensington Brewing Co', \"[{'id': 13003, 'name': 'Bar', 'icon': {'prefix': 'https://ss3.4sqi.net/img/categories_v2/nightlife/pub_', 'suffix': '.png'}}, {'id': 13029, 'name': 'Brewery', 'icon': {'prefix': 'https://ss3.4sqi.net/img/categories_v2/food/brewery_', 'suffix': '.png'}}, {'id': 13065, 'name': 'Restaurant', 'icon': {'prefix': 'https://ss3.4sqi.net/img/categories_v2/food/default_', 'suffix': '.png'}}]\", 146, 43.656389, -79.402488, '156 Augusta Ave')\n",
      "('Charlesbourg Brewing Co', \"[{'id': 13029, 'name': 'Brewery', 'icon': {'prefix': 'https://ss3.4sqi.net/img/categories_v2/food/brewery_', 'suffix': '.png'}}]\", 146, 43.65002, -79.379641, '1234 Consumers Dr')\n",
      "('The Alpine', \"[{'id': 13006, 'name': 'Beer Bar', 'icon': {'prefix': 'https://ss3.4sqi.net/img/categories_v2/nightlife/pub_', 'suffix': '.png'}}, {'id': 13065, 'name': 'Restaurant', 'icon': {'prefix': 'https://ss3.4sqi.net/img/categories_v2/food/default_', 'suffix': '.png'}}]\", 149, 43.665615, -79.465318, '2872 Dundas St W')\n",
      "('The Craft Brasserie & Grille', \"[{'id': 13006, 'name': 'Beer Bar', 'icon': {'prefix': 'https://ss3.4sqi.net/img/categories_v2/nightlife/pub_', 'suffix': '.png'}}, {'id': 13065, 'name': 'Restaurant', 'icon': {'prefix': 'https://ss3.4sqi.net/img/categories_v2/food/default_', 'suffix': '.png'}}]\", 150, 43.639346, -79.420708, '107 Atlantic Ave')\n",
      "('Bevi Birra', \"[{'id': 17058, 'name': 'Beer Store', 'icon': {'prefix': 'https://ss3.4sqi.net/img/categories_v2/nightlife/beergarden_', 'suffix': '.png'}}]\", 151, 43.66563, -79.472008, '3072 Dundas St W')\n",
      "('Indie Alehouse', \"[{'id': 13003, 'name': 'Bar', 'icon': {'prefix': 'https://ss3.4sqi.net/img/categories_v2/nightlife/pub_', 'suffix': '.png'}}, {'id': 13029, 'name': 'Brewery', 'icon': {'prefix': 'https://ss3.4sqi.net/img/categories_v2/food/brewery_', 'suffix': '.png'}}, {'id': 13057, 'name': 'Gastropub', 'icon': {'prefix': 'https://ss3.4sqi.net/img/categories_v2/food/gastropub_', 'suffix': '.png'}}]\", 153, 43.665549, -79.465448, '2876 Dundas St W')\n",
      "('Beer Store', \"[{'id': 17058, 'name': 'Beer Store', 'icon': {'prefix': 'https://ss3.4sqi.net/img/categories_v2/nightlife/beergarden_', 'suffix': '.png'}}]\", 155, 43.655333, -79.407743, '452 Bathurst St')\n",
      "('Beer Store', \"[{'id': 17058, 'name': 'Beer Store', 'icon': {'prefix': 'https://ss3.4sqi.net/img/categories_v2/nightlife/beergarden_', 'suffix': '.png'}}]\", 156, 43.673218, -79.415793, '500 Dupont St')\n",
      "('Ice Box', \"[{'id': 13003, 'name': 'Bar', 'icon': {'prefix': 'https://ss3.4sqi.net/img/categories_v2/nightlife/pub_', 'suffix': '.png'}}]\", 160, 43.643222, -79.379728, '40 Bay St')\n",
      "('The Beer Store', \"[{'id': 17058, 'name': 'Beer Store', 'icon': {'prefix': 'https://ss3.4sqi.net/img/categories_v2/nightlife/beergarden_', 'suffix': '.png'}}]\", 163, 43.656927, -79.434415, '900 Dufferin St')\n",
      "(\"C'est What\", \"[{'id': 13006, 'name': 'Beer Bar', 'icon': {'prefix': 'https://ss3.4sqi.net/img/categories_v2/nightlife/pub_', 'suffix': '.png'}}, {'id': 13049, 'name': 'Diner', 'icon': {'prefix': 'https://ss3.4sqi.net/img/categories_v2/food/diner_', 'suffix': '.png'}}, {'id': 13057, 'name': 'Gastropub', 'icon': {'prefix': 'https://ss3.4sqi.net/img/categories_v2/food/gastropub_', 'suffix': '.png'}}]\", 167, 43.648393, -79.373445, '67 Front St E')\n",
      "('Foundation Bar', \"[{'id': 13029, 'name': 'Brewery', 'icon': {'prefix': 'https://ss3.4sqi.net/img/categories_v2/food/brewery_', 'suffix': '.png'}}]\", 169, 43.652664, -79.380342, '14 W Queen St')\n",
      "('Beer Store', \"[{'id': 17058, 'name': 'Beer Store', 'icon': {'prefix': 'https://ss3.4sqi.net/img/categories_v2/nightlife/beergarden_', 'suffix': '.png'}}]\", 170, 43.692174, -79.28627, '3130 Danforth Ave')\n",
      "('Old York Bar & Grill', \"[{'id': 13003, 'name': 'Bar', 'icon': {'prefix': 'https://ss3.4sqi.net/img/categories_v2/nightlife/pub_', 'suffix': '.png'}}, {'id': 13031, 'name': 'Burger Joint', 'icon': {'prefix': 'https://ss3.4sqi.net/img/categories_v2/food/burger_', 'suffix': '.png'}}, {'id': 13068, 'name': 'American Restaurant', 'icon': {'prefix': 'https://ss3.4sqi.net/img/categories_v2/food/default_', 'suffix': '.png'}}]\", 170, 43.641897, -79.406486, '167 Niagara St')\n",
      "('Annex Brew Co', \"[{'id': 13029, 'name': 'Brewery', 'icon': {'prefix': 'https://ss3.4sqi.net/img/categories_v2/food/brewery_', 'suffix': '.png'}}]\", 177, 43.665362, -79.418044, '422 Clinton St')\n",
      "('Amsterdam BrewHouse', \"[{'id': 13029, 'name': 'Brewery', 'icon': {'prefix': 'https://ss3.4sqi.net/img/categories_v2/food/brewery_', 'suffix': '.png'}}, {'id': 17058, 'name': 'Beer Store', 'icon': {'prefix': 'https://ss3.4sqi.net/img/categories_v2/nightlife/beergarden_', 'suffix': '.png'}}]\", 177, 43.63797, -79.384828, '245 Queens Quay W S')\n",
      "('FastBrewing & WineMaking', \"[{'id': 13029, 'name': 'Brewery', 'icon': {'prefix': 'https://ss3.4sqi.net/img/categories_v2/food/brewery_', 'suffix': '.png'}}]\", 177, 43.639221, -79.386149, '264 Queens Quay W')\n",
      "('Ascari Enoteca', \"[{'id': 13236, 'name': 'Italian Restaurant', 'icon': {'prefix': 'https://ss3.4sqi.net/img/categories_v2/food/italian_', 'suffix': '.png'}}]\", 192, 43.661973, -79.335438, '1111 Queen St E')\n",
      "('Rorschach Brewing', \"[{'id': 13029, 'name': 'Brewery', 'icon': {'prefix': 'https://ss3.4sqi.net/img/categories_v2/food/brewery_', 'suffix': '.png'}}, {'id': 13065, 'name': 'Restaurant', 'icon': {'prefix': 'https://ss3.4sqi.net/img/categories_v2/food/default_', 'suffix': '.png'}}]\", 194, 43.663372, -79.319902, '1001 Eastern Ave')\n",
      "('Granite Brewery', \"[{'id': 13003, 'name': 'Bar', 'icon': {'prefix': 'https://ss3.4sqi.net/img/categories_v2/nightlife/pub_', 'suffix': '.png'}}, {'id': 13029, 'name': 'Brewery', 'icon': {'prefix': 'https://ss3.4sqi.net/img/categories_v2/food/brewery_', 'suffix': '.png'}}, {'id': 13068, 'name': 'American Restaurant', 'icon': {'prefix': 'https://ss3.4sqi.net/img/categories_v2/food/default_', 'suffix': '.png'}}]\", 196, 43.707916, -79.389609, '245 Eglinton Ave E')\n",
      "(\"Sarah's Cafe & Bar\", \"[{'id': 13034, 'name': 'Café', 'icon': {'prefix': 'https://ss3.4sqi.net/img/categories_v2/food/cafe_', 'suffix': '.png'}}, {'id': 13065, 'name': 'Restaurant', 'icon': {'prefix': 'https://ss3.4sqi.net/img/categories_v2/food/default_', 'suffix': '.png'}}]\", 199, 43.682848, -79.326999, '1426 Danforth Ave')\n",
      "('Gibraltars Rock Brewing Co', \"[{'id': 10000, 'name': 'Arts and Entertainment', 'icon': {'prefix': 'https://ss3.4sqi.net/img/categories_v2/arts_entertainment/default_', 'suffix': '.png'}}, {'id': 13003, 'name': 'Bar', 'icon': {'prefix': 'https://ss3.4sqi.net/img/categories_v2/nightlife/pub_', 'suffix': '.png'}}, {'id': 13029, 'name': 'Brewery', 'icon': {'prefix': 'https://ss3.4sqi.net/img/categories_v2/food/brewery_', 'suffix': '.png'}}]\", 200, 43.708263, -79.389477, '245 Eglinton Ave E')\n",
      "('The Beer Store', \"[{'id': 17058, 'name': 'Beer Store', 'icon': {'prefix': 'https://ss3.4sqi.net/img/categories_v2/nightlife/beergarden_', 'suffix': '.png'}}]\", 201, 43.681252, -79.332781, '1177 Danforth Ave')\n",
      "('Get Well', \"[{'id': 13003, 'name': 'Bar', 'icon': {'prefix': 'https://ss3.4sqi.net/img/categories_v2/nightlife/pub_', 'suffix': '.png'}}, {'id': 13065, 'name': 'Restaurant', 'icon': {'prefix': 'https://ss3.4sqi.net/img/categories_v2/food/default_', 'suffix': '.png'}}]\", 203, 43.649249, -79.421918, '1181 Dundas St W')\n",
      "('The Beer Store', \"[{'id': 17058, 'name': 'Beer Store', 'icon': {'prefix': 'https://ss3.4sqi.net/img/categories_v2/nightlife/beergarden_', 'suffix': '.png'}}]\", 204, 43.654318, -79.449379, 'Dundas St W')\n",
      "('Toronto Brewing', \"[{'id': 17058, 'name': 'Beer Store', 'icon': {'prefix': 'https://ss3.4sqi.net/img/categories_v2/nightlife/beergarden_', 'suffix': '.png'}}]\", 204, 43.669458, -79.438108, '211 Geary Ave')\n",
      "('Labatt Breweries of Canada', \"[{'id': 13029, 'name': 'Brewery', 'icon': {'prefix': 'https://ss3.4sqi.net/img/categories_v2/food/brewery_', 'suffix': '.png'}}]\", 205, 43.63884, -79.380573, \"207 Queen's Quay W\")\n",
      "('Bottle Delivery Toronto - Beer, Liquor, Wine', \"[{'id': 17058, 'name': 'Beer Store', 'icon': {'prefix': 'https://ss3.4sqi.net/img/categories_v2/nightlife/beergarden_', 'suffix': '.png'}}, {'id': 17076, 'name': 'Liquor Store', 'icon': {'prefix': 'https://ss3.4sqi.net/img/categories_v2/shops/food_liquor_', 'suffix': '.png'}}]\", 205, 43.681193, -79.332819, '1177 Danforth Ave')\n",
      "('Billye Madden', \"[{'id': 13029, 'name': 'Brewery', 'icon': {'prefix': 'https://ss3.4sqi.net/img/categories_v2/food/brewery_', 'suffix': '.png'}}]\", 206, 43.662055, -79.328064, '818 Eastern Ave')\n",
      "('Beer Store', \"[{'id': 17058, 'name': 'Beer Store', 'icon': {'prefix': 'https://ss3.4sqi.net/img/categories_v2/nightlife/beergarden_', 'suffix': '.png'}}]\", 207, 43.693634, -79.316772, '1270 Woodbine Ave')\n",
      "('Harbord House', \"[{'id': 13003, 'name': 'Bar', 'icon': {'prefix': 'https://ss3.4sqi.net/img/categories_v2/nightlife/pub_', 'suffix': '.png'}}, {'id': 13057, 'name': 'Gastropub', 'icon': {'prefix': 'https://ss3.4sqi.net/img/categories_v2/food/gastropub_', 'suffix': '.png'}}]\", 207, 43.66245, -79.405607, '150 Harbord St')\n",
      "('Something in the Water Brewing Co', \"[{'id': 13029, 'name': 'Brewery', 'icon': {'prefix': 'https://ss3.4sqi.net/img/categories_v2/food/brewery_', 'suffix': '.png'}}]\", 209, 43.637859, -79.38481, '245 Queens Quay W')\n",
      "(\"Tommy's Wine Bar\", \"[{'id': 13034, 'name': 'Café', 'icon': {'prefix': 'https://ss3.4sqi.net/img/categories_v2/food/cafe_', 'suffix': '.png'}}]\", 217, 43.651055, -79.445629, '1977 Dundas St W')\n",
      "('Beer Store', \"[{'id': 17058, 'name': 'Beer Store', 'icon': {'prefix': 'https://ss3.4sqi.net/img/categories_v2/nightlife/beergarden_', 'suffix': '.png'}}]\", 221, 43.666282, -79.369041, '534 Parliament St')\n",
      "('B&N Brewing Co', \"[{'id': 13029, 'name': 'Brewery', 'icon': {'prefix': 'https://ss3.4sqi.net/img/categories_v2/food/brewery_', 'suffix': '.png'}}]\", 221, 43.661063, -79.477632, '105 Gilmour Ave')\n",
      "(\"Her Father's Cider Bar + Kitchen\", \"[{'id': 13006, 'name': 'Beer Bar', 'icon': {'prefix': 'https://ss3.4sqi.net/img/categories_v2/nightlife/pub_', 'suffix': '.png'}}, {'id': 13065, 'name': 'Restaurant', 'icon': {'prefix': 'https://ss3.4sqi.net/img/categories_v2/food/default_', 'suffix': '.png'}}]\", 223, 43.662413, -79.404572, '119 Harbord St')\n",
      "('Village Idiot Pub', \"[{'id': 13016, 'name': 'Lounge', 'icon': {'prefix': 'https://ss3.4sqi.net/img/categories_v2/nightlife/default_', 'suffix': '.png'}}, {'id': 13049, 'name': 'Diner', 'icon': {'prefix': 'https://ss3.4sqi.net/img/categories_v2/food/diner_', 'suffix': '.png'}}, {'id': 13068, 'name': 'American Restaurant', 'icon': {'prefix': 'https://ss3.4sqi.net/img/categories_v2/food/default_', 'suffix': '.png'}}]\", 228, 43.654366, -79.391693, '126 Mc Caul St')\n",
      "('The Dizzy', \"[{'id': 13049, 'name': 'Diner', 'icon': {'prefix': 'https://ss3.4sqi.net/img/categories_v2/food/diner_', 'suffix': '.png'}}, {'id': 13057, 'name': 'Gastropub', 'icon': {'prefix': 'https://ss3.4sqi.net/img/categories_v2/food/gastropub_', 'suffix': '.png'}}, {'id': 13388, 'name': 'Wings Joint', 'icon': {'prefix': 'https://ss3.4sqi.net/img/categories_v2/food/wings_', 'suffix': '.png'}}]\", 231, 43.648296, -79.449581, '305A Roncesvalles Ave')\n",
      "('High Park Brewery', \"[{'id': 13029, 'name': 'Brewery', 'icon': {'prefix': 'https://ss3.4sqi.net/img/categories_v2/food/brewery_', 'suffix': '.png'}}]\", 231, 43.66991, -79.483315, '839 Runnymede Rd')\n",
      "('Wvrst Union Station', \"[{'id': 13006, 'name': 'Beer Bar', 'icon': {'prefix': 'https://ss3.4sqi.net/img/categories_v2/nightlife/pub_', 'suffix': '.png'}}]\", 236, 43.644898, -79.381397, '65 Front St W')\n",
      "('Crooked Cue', \"[{'id': 10045, 'name': 'Pool Hall', 'icon': {'prefix': 'https://ss3.4sqi.net/img/categories_v2/arts_entertainment/billiards_', 'suffix': '.png'}}, {'id': 13016, 'name': 'Lounge', 'icon': {'prefix': 'https://ss3.4sqi.net/img/categories_v2/nightlife/default_', 'suffix': '.png'}}, {'id': 13065, 'name': 'Restaurant', 'icon': {'prefix': 'https://ss3.4sqi.net/img/categories_v2/food/default_', 'suffix': '.png'}}]\", 239, 43.64717, -79.513118, '3056 Bloor St W')\n",
      "('Black Lab Brewing', \"[{'id': 13029, 'name': 'Brewery', 'icon': {'prefix': 'https://ss3.4sqi.net/img/categories_v2/food/brewery_', 'suffix': '.png'}}]\", 248, 43.661871, -79.329063, '818 Eastern Ave')\n",
      "('Roundhouse Park', \"[{'id': 16032, 'name': 'Park', 'icon': {'prefix': 'https://ss3.4sqi.net/img/categories_v2/parks_outdoors/park_', 'suffix': '.png'}}]\", 252, 43.641748, -79.38613, '255 Bremner Blvd')\n",
      "('Pour House Irish Pub', \"[{'id': 13018, 'name': 'Pub', 'icon': {'prefix': 'https://ss3.4sqi.net/img/categories_v2/nightlife/pub_', 'suffix': '.png'}}, {'id': 13065, 'name': 'Restaurant', 'icon': {'prefix': 'https://ss3.4sqi.net/img/categories_v2/food/default_', 'suffix': '.png'}}]\", 254, 43.67566, -79.403834, '182 Dupont St')\n",
      "('The Loose Moose Tap & Grill', \"[{'id': 13007, 'name': 'Beer Garden', 'icon': {'prefix': 'https://ss3.4sqi.net/img/categories_v2/nightlife/beergarden_', 'suffix': '.png'}}, {'id': 13026, 'name': 'BBQ Joint', 'icon': {'prefix': 'https://ss3.4sqi.net/img/categories_v2/food/bbqalt_', 'suffix': '.png'}}, {'id': 13383, 'name': 'Steakhouse', 'icon': {'prefix': 'https://ss3.4sqi.net/img/categories_v2/food/steakhouse_', 'suffix': '.png'}}]\", 273, 43.64533, -79.383943, '146 Front St W')\n",
      "('The Greater Good Bar', \"[{'id': 13003, 'name': 'Bar', 'icon': {'prefix': 'https://ss3.4sqi.net/img/categories_v2/nightlife/pub_', 'suffix': '.png'}}, {'id': 13064, 'name': 'Pizzeria', 'icon': {'prefix': 'https://ss3.4sqi.net/img/categories_v2/food/pizza_', 'suffix': '.png'}}]\", 276, 43.669324, -79.439163, '229 Geary Ave')\n",
      "('Dirt Floor Brewing', \"[{'id': 13029, 'name': 'Brewery', 'icon': {'prefix': 'https://ss3.4sqi.net/img/categories_v2/food/brewery_', 'suffix': '.png'}}]\", 282, 43.693714, -79.267095, '30 Phenix Dr')\n",
      "('True History Brewing', \"[{'id': 13029, 'name': 'Brewery', 'icon': {'prefix': 'https://ss3.4sqi.net/img/categories_v2/food/brewery_', 'suffix': '.png'}}]\", 291, 43.678423, -79.442213, '1154 St Clair Ave W')\n",
      "('Beer Store', \"[{'id': 17058, 'name': 'Beer Store', 'icon': {'prefix': 'https://ss3.4sqi.net/img/categories_v2/nightlife/beergarden_', 'suffix': '.png'}}]\", 293, 43.661466, -79.370427, '227 Gerrard St E')\n",
      "('Brass Taps Pizza Pub', \"[{'id': 13016, 'name': 'Lounge', 'icon': {'prefix': 'https://ss3.4sqi.net/img/categories_v2/nightlife/default_', 'suffix': '.png'}}, {'id': 13018, 'name': 'Pub', 'icon': {'prefix': 'https://ss3.4sqi.net/img/categories_v2/nightlife/pub_', 'suffix': '.png'}}, {'id': 13064, 'name': 'Pizzeria', 'icon': {'prefix': 'https://ss3.4sqi.net/img/categories_v2/food/pizza_', 'suffix': '.png'}}]\", 296, 43.653765, -79.426194, '934 College St')\n",
      "('Saulter Street Brewery', \"[{'id': 13003, 'name': 'Bar', 'icon': {'prefix': 'https://ss3.4sqi.net/img/categories_v2/nightlife/pub_', 'suffix': '.png'}}, {'id': 13029, 'name': 'Brewery', 'icon': {'prefix': 'https://ss3.4sqi.net/img/categories_v2/food/brewery_', 'suffix': '.png'}}, {'id': 13065, 'name': 'Restaurant', 'icon': {'prefix': 'https://ss3.4sqi.net/img/categories_v2/food/default_', 'suffix': '.png'}}]\", 303, 43.658488, -79.346389, '31 Saulter St')\n",
      "('Beer Store', \"[{'id': 17058, 'name': 'Beer Store', 'icon': {'prefix': 'https://ss3.4sqi.net/img/categories_v2/nightlife/beergarden_', 'suffix': '.png'}}]\", 310, 43.71356, -79.272265, '3431 St Clair Ave E')\n",
      "(\"The Monk's Kettle\", \"[{'id': 13057, 'name': 'Gastropub', 'icon': {'prefix': 'https://ss3.4sqi.net/img/categories_v2/food/gastropub_', 'suffix': '.png'}}]\", 311, 43.646678, -79.513693, '3073 Bloor St W')\n",
      "('The Feathers Pub', \"[{'id': 13016, 'name': 'Lounge', 'icon': {'prefix': 'https://ss3.4sqi.net/img/categories_v2/nightlife/default_', 'suffix': '.png'}}, {'id': 13018, 'name': 'Pub', 'icon': {'prefix': 'https://ss3.4sqi.net/img/categories_v2/nightlife/pub_', 'suffix': '.png'}}, {'id': 13142, 'name': 'English Restaurant', 'icon': {'prefix': 'https://ss3.4sqi.net/img/categories_v2/food/default_', 'suffix': '.png'}}]\", 318, 43.680635, -79.287451, '962 Kingston Rd')\n",
      "('Laylow Beer Bar and Eatery', \"[{'id': 13006, 'name': 'Beer Bar', 'icon': {'prefix': 'https://ss3.4sqi.net/img/categories_v2/nightlife/pub_', 'suffix': '.png'}}, {'id': 13029, 'name': 'Brewery', 'icon': {'prefix': 'https://ss3.4sqi.net/img/categories_v2/food/brewery_', 'suffix': '.png'}}, {'id': 13065, 'name': 'Restaurant', 'icon': {'prefix': 'https://ss3.4sqi.net/img/categories_v2/food/default_', 'suffix': '.png'}}]\", 324, 43.652422, -79.433833, '1144 College St')\n",
      "('4th and 7', \"[{'id': 17058, 'name': 'Beer Store', 'icon': {'prefix': 'https://ss3.4sqi.net/img/categories_v2/nightlife/beergarden_', 'suffix': '.png'}}]\", 342, 43.653247, -79.42714, '967 College St')\n",
      "('Society Clubhouse', \"[{'id': 13006, 'name': 'Beer Bar', 'icon': {'prefix': 'https://ss3.4sqi.net/img/categories_v2/nightlife/pub_', 'suffix': '.png'}}]\", 344, 43.653233, -79.427324, '967 College St')\n",
      "('Bellwoods Brewery', \"[{'id': 13003, 'name': 'Bar', 'icon': {'prefix': 'https://ss3.4sqi.net/img/categories_v2/nightlife/pub_', 'suffix': '.png'}}, {'id': 13029, 'name': 'Brewery', 'icon': {'prefix': 'https://ss3.4sqi.net/img/categories_v2/food/brewery_', 'suffix': '.png'}}, {'id': 13065, 'name': 'Restaurant', 'icon': {'prefix': 'https://ss3.4sqi.net/img/categories_v2/food/default_', 'suffix': '.png'}}]\", 348, 43.647131, -79.420177, '124 Ossington Ave')\n",
      "('Bellwoods Brewery Bottle Shop', \"[{'id': 17058, 'name': 'Beer Store', 'icon': {'prefix': 'https://ss3.4sqi.net/img/categories_v2/nightlife/beergarden_', 'suffix': '.png'}}]\", 351, 43.647124, -79.420269, '126 Ossington Ave')\n",
      "('Beaches Brewing Co', \"[{'id': 13029, 'name': 'Brewery', 'icon': {'prefix': 'https://ss3.4sqi.net/img/categories_v2/food/brewery_', 'suffix': '.png'}}]\", 353, 43.669351, -79.302327, '1953 Queen St E')\n",
      "('Beer Store', \"[{'id': 17058, 'name': 'Beer Store', 'icon': {'prefix': 'https://ss3.4sqi.net/img/categories_v2/nightlife/beergarden_', 'suffix': '.png'}}]\", 368, 43.657452, -79.345196, '400 Eastern Ave')\n",
      "('Nickel 9 Distillery', \"[{'id': 13029, 'name': 'Brewery', 'icon': {'prefix': 'https://ss3.4sqi.net/img/categories_v2/food/brewery_', 'suffix': '.png'}}, {'id': 13050, 'name': 'Distillery', 'icon': {'prefix': 'https://ss3.4sqi.net/img/categories_v2/food/brewery_', 'suffix': '.png'}}, {'id': 13065, 'name': 'Restaurant', 'icon': {'prefix': 'https://ss3.4sqi.net/img/categories_v2/food/default_', 'suffix': '.png'}}]\", 392, 43.67034, -79.464442, '90 Cawthra Ave')\n",
      "('Trios Bistro', \"[{'id': 13027, 'name': 'Bistro', 'icon': {'prefix': 'https://ss3.4sqi.net/img/categories_v2/food/default_', 'suffix': '.png'}}, {'id': 13148, 'name': 'French Restaurant', 'icon': {'prefix': 'https://ss3.4sqi.net/img/categories_v2/food/french_', 'suffix': '.png'}}]\", 420, 43.654605, -79.382988, '525 Bay St')\n",
      "('Black Creek Pioneer Village', \"[{'id': 10027, 'name': 'Museum', 'icon': {'prefix': 'https://ss3.4sqi.net/img/categories_v2/arts_entertainment/museum_', 'suffix': '.png'}}]\", 420, 43.77393, -79.51536, '1000 Murray Ross Pky')\n",
      "('Left Field Brewery', \"[{'id': 13029, 'name': 'Brewery', 'icon': {'prefix': 'https://ss3.4sqi.net/img/categories_v2/food/brewery_', 'suffix': '.png'}}]\", 421, 43.673789, -79.330385, '36 Wagstaff Dr')\n",
      "('Beer Store', \"[{'id': 17058, 'name': 'Beer Store', 'icon': {'prefix': 'https://ss3.4sqi.net/img/categories_v2/nightlife/beergarden_', 'suffix': '.png'}}]\", 434, 43.694295, -79.343453, '380 Donlands Ave')\n",
      "('Beer Store', \"[{'id': 17058, 'name': 'Beer Store', 'icon': {'prefix': 'https://ss3.4sqi.net/img/categories_v2/nightlife/beergarden_', 'suffix': '.png'}}]\", 446, 43.656738, -79.380663, '10 Dundas St E')\n",
      "('Dong Slayer Hq', \"[{'id': 13029, 'name': 'Brewery', 'icon': {'prefix': 'https://ss3.4sqi.net/img/categories_v2/food/brewery_', 'suffix': '.png'}}]\", 452, 43.665823, -79.494628, '3635 Dundas St W')\n",
      "('Always - Dial a Bottle Delivery - Toronto', \"[{'id': 11163, 'name': 'Shipping, Freight, and Material Transportation Service', 'icon': {'prefix': 'https://ss3.4sqi.net/img/categories_v2/shops/default_', 'suffix': '.png'}}, {'id': 17058, 'name': 'Beer Store', 'icon': {'prefix': 'https://ss3.4sqi.net/img/categories_v2/nightlife/beergarden_', 'suffix': '.png'}}]\", 459, 43.679714, -79.31046, '718 Woodbine Ave')\n",
      "('Beer Store', \"[{'id': 17058, 'name': 'Beer Store', 'icon': {'prefix': 'https://ss3.4sqi.net/img/categories_v2/nightlife/beergarden_', 'suffix': '.png'}}]\", 474, 43.75653, -79.519296, '2005 Finch Ave W')\n",
      "('Black Creek Historic Brewery', \"[{'id': 13029, 'name': 'Brewery', 'icon': {'prefix': 'https://ss3.4sqi.net/img/categories_v2/food/brewery_', 'suffix': '.png'}}]\", 494, 43.774968, -79.516993, '1000 Murray Ross Pky')\n",
      "('Beer Store', \"[{'id': 17058, 'name': 'Beer Store', 'icon': {'prefix': 'https://ss3.4sqi.net/img/categories_v2/nightlife/beergarden_', 'suffix': '.png'}}]\", 511, 43.780181, -79.137602, '5544 Lawrence Ave E')\n",
      "('Amsterdam Barrel House', \"[{'id': 13029, 'name': 'Brewery', 'icon': {'prefix': 'https://ss3.4sqi.net/img/categories_v2/food/brewery_', 'suffix': '.png'}}, {'id': 13065, 'name': 'Restaurant', 'icon': {'prefix': 'https://ss3.4sqi.net/img/categories_v2/food/default_', 'suffix': '.png'}}]\", 524, 43.70604, -79.361227, '87 Laird Dr')\n",
      "('Toronto Brewing Company Inc', \"[{'id': 13003, 'name': 'Bar', 'icon': {'prefix': 'https://ss3.4sqi.net/img/categories_v2/nightlife/pub_', 'suffix': '.png'}}, {'id': 13029, 'name': 'Brewery', 'icon': {'prefix': 'https://ss3.4sqi.net/img/categories_v2/food/brewery_', 'suffix': '.png'}}]\", 576, 43.756256, -79.474077, '3701 Chesswood Dr')\n",
      "('The Beer Store', \"[{'id': 17058, 'name': 'Beer Store', 'icon': {'prefix': 'https://ss3.4sqi.net/img/categories_v2/nightlife/beergarden_', 'suffix': '.png'}}]\", 581, 43.594475, -79.534333, '3580 Lake Shore Blvd W')\n",
      "('Lcbo', \"[{'id': 17076, 'name': 'Liquor Store', 'icon': {'prefix': 'https://ss3.4sqi.net/img/categories_v2/shops/food_liquor_', 'suffix': '.png'}}]\", 584, 43.779592, -79.138777, '5508 Lawrence Ave E')\n",
      "('Long Branch Brewery', \"[{'id': 13029, 'name': 'Brewery', 'icon': {'prefix': 'https://ss3.4sqi.net/img/categories_v2/food/brewery_', 'suffix': '.png'}}]\", 586, 43.595944, -79.534198, '115 Long Branch Ave')\n",
      "('Walrus Pub & Beer Hall', \"[{'id': 13018, 'name': 'Pub', 'icon': {'prefix': 'https://ss3.4sqi.net/img/categories_v2/nightlife/pub_', 'suffix': '.png'}}, {'id': 13065, 'name': 'Restaurant', 'icon': {'prefix': 'https://ss3.4sqi.net/img/categories_v2/food/default_', 'suffix': '.png'}}]\", 589, 43.6475, -79.379567, '187 Bay St')\n",
      "('CN Tower', \"[{'id': 16007, 'name': 'Structure', 'icon': {'prefix': 'https://ss3.4sqi.net/img/categories_v2/building/default_', 'suffix': '.png'}}]\", 598, 43.642593, -79.38709, '301 Front St W')\n",
      "('Beer Store', \"[{'id': 17058, 'name': 'Beer Store', 'icon': {'prefix': 'https://ss3.4sqi.net/img/categories_v2/nightlife/beergarden_', 'suffix': '.png'}}]\", 599, 43.70582, -79.360396, '89 Laird Dr')\n",
      "('Corks Beer & Wine Bars', \"[{'id': 13025, 'name': 'Wine Bar', 'icon': {'prefix': 'https://ss3.4sqi.net/img/categories_v2/food/winery_', 'suffix': '.png'}}, {'id': 13065, 'name': 'Restaurant', 'icon': {'prefix': 'https://ss3.4sqi.net/img/categories_v2/food/default_', 'suffix': '.png'}}]\", 644, 43.706605, -79.359632, '93 Laird Dr')\n",
      "('Junction Craft Brewing', \"[{'id': 13003, 'name': 'Bar', 'icon': {'prefix': 'https://ss3.4sqi.net/img/categories_v2/nightlife/pub_', 'suffix': '.png'}}, {'id': 13029, 'name': 'Brewery', 'icon': {'prefix': 'https://ss3.4sqi.net/img/categories_v2/food/brewery_', 'suffix': '.png'}}, {'id': 13065, 'name': 'Restaurant', 'icon': {'prefix': 'https://ss3.4sqi.net/img/categories_v2/food/default_', 'suffix': '.png'}}]\", 674, 43.673176, -79.478603, '150 Symes Rd')\n",
      "('Shacklands Brewing Co', \"[{'id': 13003, 'name': 'Bar', 'icon': {'prefix': 'https://ss3.4sqi.net/img/categories_v2/nightlife/pub_', 'suffix': '.png'}}, {'id': 13029, 'name': 'Brewery', 'icon': {'prefix': 'https://ss3.4sqi.net/img/categories_v2/food/brewery_', 'suffix': '.png'}}]\", 682, 43.672528, -79.479013, '100 Symes Rd')\n",
      "('Rainhard Brewing Co', \"[{'id': 13006, 'name': 'Beer Bar', 'icon': {'prefix': 'https://ss3.4sqi.net/img/categories_v2/nightlife/pub_', 'suffix': '.png'}}, {'id': 13029, 'name': 'Brewery', 'icon': {'prefix': 'https://ss3.4sqi.net/img/categories_v2/food/brewery_', 'suffix': '.png'}}]\", 687, 43.672607, -79.478699, '100 Symes Rd')\n",
      "('Shacklands Brewing', \"[{'id': 13029, 'name': 'Brewery', 'icon': {'prefix': 'https://ss3.4sqi.net/img/categories_v2/food/brewery_', 'suffix': '.png'}}]\", 688, 43.672875, -79.478882, '100 Symes Rd')\n",
      "('St. Mary Axe', \"[{'id': 13029, 'name': 'Brewery', 'icon': {'prefix': 'https://ss3.4sqi.net/img/categories_v2/food/brewery_', 'suffix': '.png'}}]\", 714, 43.673076, -79.479195, '150 Symes Rd')\n",
      "('Muddy York Brewing Co', \"[{'id': 13003, 'name': 'Bar', 'icon': {'prefix': 'https://ss3.4sqi.net/img/categories_v2/nightlife/pub_', 'suffix': '.png'}}, {'id': 13029, 'name': 'Brewery', 'icon': {'prefix': 'https://ss3.4sqi.net/img/categories_v2/food/brewery_', 'suffix': '.png'}}, {'id': 13065, 'name': 'Restaurant', 'icon': {'prefix': 'https://ss3.4sqi.net/img/categories_v2/food/default_', 'suffix': '.png'}}]\", 752, 43.712438, -79.312203, '22 Cranfield Rd')\n",
      "('Beer Store', \"[{'id': 17058, 'name': 'Beer Store', 'icon': {'prefix': 'https://ss3.4sqi.net/img/categories_v2/nightlife/beergarden_', 'suffix': '.png'}}]\", 770, 43.679986, -79.469971, '1515 Keele St')\n",
      "('Amsterdam Brewery', \"[{'id': 13029, 'name': 'Brewery', 'icon': {'prefix': 'https://ss3.4sqi.net/img/categories_v2/food/brewery_', 'suffix': '.png'}}]\", 777, 43.706394, -79.357118, '45 Esandar Dr')\n",
      "('Amsterdam Brewing Co', \"[{'id': 13029, 'name': 'Brewery', 'icon': {'prefix': 'https://ss3.4sqi.net/img/categories_v2/food/brewery_', 'suffix': '.png'}}, {'id': 13065, 'name': 'Restaurant', 'icon': {'prefix': 'https://ss3.4sqi.net/img/categories_v2/food/default_', 'suffix': '.png'}}]\", 797, 43.706897, -79.357151, '45 Esandar Dr')\n",
      "('Brunswick Bier Works', \"[{'id': 13029, 'name': 'Brewery', 'icon': {'prefix': 'https://ss3.4sqi.net/img/categories_v2/food/brewery_', 'suffix': '.png'}}, {'id': 13065, 'name': 'Restaurant', 'icon': {'prefix': 'https://ss3.4sqi.net/img/categories_v2/food/default_', 'suffix': '.png'}}]\", 799, 43.710282, -79.317199, '25 Curity Ave')\n",
      "('The Beer Store', \"[{'id': 17058, 'name': 'Beer Store', 'icon': {'prefix': 'https://ss3.4sqi.net/img/categories_v2/nightlife/beergarden_', 'suffix': '.png'}}]\", 809, 43.63851, -79.38898, '3250 Queens Quay W')\n",
      "('Scotiabank Arena', \"[{'id': 10051, 'name': 'Stadium', 'icon': {'prefix': 'https://ss3.4sqi.net/img/categories_v2/arts_entertainment/stadium_', 'suffix': '.png'}}]\", 830, 43.643485, -79.379209, '50 Bay St')\n",
      "('TORONTO DIAL a BOTTLE - Beer Liquor Wine Delivery', \"[{'id': 17076, 'name': 'Liquor Store', 'icon': {'prefix': 'https://ss3.4sqi.net/img/categories_v2/shops/food_liquor_', 'suffix': '.png'}}]\", 848, 43.654334, -79.398327, '23 Lascelles Blvd')\n",
      "('TilesInspired', \"[{'id': 11079, 'name': 'Carpet and Flooring Contractor', 'icon': {'prefix': 'https://ss3.4sqi.net/img/categories_v2/shops/realestate_', 'suffix': '.png'}}, {'id': 13050, 'name': 'Distillery', 'icon': {'prefix': 'https://ss3.4sqi.net/img/categories_v2/food/brewery_', 'suffix': '.png'}}]\", 877, 43.734701, -79.241256, '80 Barbados Blvd')\n",
      "('Great Lakes Brewing Company Inc', \"[{'id': 13006, 'name': 'Beer Bar', 'icon': {'prefix': 'https://ss3.4sqi.net/img/categories_v2/nightlife/pub_', 'suffix': '.png'}}, {'id': 13029, 'name': 'Brewery', 'icon': {'prefix': 'https://ss3.4sqi.net/img/categories_v2/food/brewery_', 'suffix': '.png'}}]\", 887, 43.62301, -79.505047, '30 Queen Elizabeth Blvd')\n",
      "('Indie Alehouse Production Facility', \"[{'id': 13029, 'name': 'Brewery', 'icon': {'prefix': 'https://ss3.4sqi.net/img/categories_v2/food/brewery_', 'suffix': '.png'}}]\", 954, 43.607706, -79.517004, '215 Horner Ave')\n",
      "(\"Soda Centre & Home Brewer's Retail\", \"[{'id': 17058, 'name': 'Beer Store', 'icon': {'prefix': 'https://ss3.4sqi.net/img/categories_v2/nightlife/beergarden_', 'suffix': '.png'}}, {'id': 17076, 'name': 'Liquor Store', 'icon': {'prefix': 'https://ss3.4sqi.net/img/categories_v2/shops/food_liquor_', 'suffix': '.png'}}, {'id': 17080, 'name': 'Wine Store', 'icon': {'prefix': 'https://ss3.4sqi.net/img/categories_v2/shops/food_wineshop_', 'suffix': '.png'}}]\", 958, 43.758222, -79.198781, '4180 Kingston Rd')\n",
      "('Marcheleos Marketplace', \"[{'id': 17069, 'name': 'Grocery Store', 'icon': {'prefix': 'https://ss3.4sqi.net/img/categories_v2/shops/food_grocery_', 'suffix': '.png'}}]\", 994, 43.727444, -79.326136, '150 Wynford Dr')\n",
      "('Beer Store', \"[{'id': 17058, 'name': 'Beer Store', 'icon': {'prefix': 'https://ss3.4sqi.net/img/categories_v2/nightlife/beergarden_', 'suffix': '.png'}}]\", 5882, 43.663492, -79.328384, '761 Queen St W')\n",
      "('Radical Road Brewing Co', \"[{'id': 13029, 'name': 'Brewery', 'icon': {'prefix': 'https://ss3.4sqi.net/img/categories_v2/food/brewery_', 'suffix': '.png'}}, {'id': 13065, 'name': 'Restaurant', 'icon': {'prefix': 'https://ss3.4sqi.net/img/categories_v2/food/default_', 'suffix': '.png'}}]\", 9, 43.662519, -79.332532, '1177 Queen St E')\n",
      "('Le Select Bistro', \"[{'id': 13025, 'name': 'Wine Bar', 'icon': {'prefix': 'https://ss3.4sqi.net/img/categories_v2/food/winery_', 'suffix': '.png'}}, {'id': 13027, 'name': 'Bistro', 'icon': {'prefix': 'https://ss3.4sqi.net/img/categories_v2/food/default_', 'suffix': '.png'}}, {'id': 13148, 'name': 'French Restaurant', 'icon': {'prefix': 'https://ss3.4sqi.net/img/categories_v2/food/french_', 'suffix': '.png'}}]\", 15, 43.643777, -79.39683, '432 Wellington St W')\n",
      "('The 3 Brewers', \"[{'id': 13006, 'name': 'Beer Bar', 'icon': {'prefix': 'https://ss3.4sqi.net/img/categories_v2/nightlife/pub_', 'suffix': '.png'}}, {'id': 13068, 'name': 'American Restaurant', 'icon': {'prefix': 'https://ss3.4sqi.net/img/categories_v2/food/default_', 'suffix': '.png'}}]\", 19, 43.655472, -79.380321, '275 Yonge St')\n",
      "('Birroteca', \"[{'id': 13029, 'name': 'Brewery', 'icon': {'prefix': 'https://ss3.4sqi.net/img/categories_v2/food/brewery_', 'suffix': '.png'}}]\", 19, 43.669432, -79.38909, '55 Bloor St W')\n",
      "('Beer Store', \"[{'id': 17058, 'name': 'Beer Store', 'icon': {'prefix': 'https://ss3.4sqi.net/img/categories_v2/nightlife/beergarden_', 'suffix': '.png'}}]\", 21, 43.667288, -79.345024, '800 Gerrard St E')\n",
      "('WVRST', \"[{'id': 13006, 'name': 'Beer Bar', 'icon': {'prefix': 'https://ss3.4sqi.net/img/categories_v2/nightlife/pub_', 'suffix': '.png'}}, {'id': 13058, 'name': 'Hot Dog Joint', 'icon': {'prefix': 'https://ss3.4sqi.net/img/categories_v2/food/hotdog_', 'suffix': '.png'}}, {'id': 13165, 'name': 'German Restaurant', 'icon': {'prefix': 'https://ss3.4sqi.net/img/categories_v2/food/german_', 'suffix': '.png'}}]\", 21, 43.644181, -79.40054, '609 King St W')\n",
      "('The Rose & Crown', \"[{'id': 13018, 'name': 'Pub', 'icon': {'prefix': 'https://ss3.4sqi.net/img/categories_v2/nightlife/pub_', 'suffix': '.png'}}, {'id': 13049, 'name': 'Diner', 'icon': {'prefix': 'https://ss3.4sqi.net/img/categories_v2/food/diner_', 'suffix': '.png'}}]\", 25, 43.708506, -79.398503, '2335 Yonge St')\n",
      "('Labatt Brewing Company Ltd', \"[{'id': 13029, 'name': 'Brewery', 'icon': {'prefix': 'https://ss3.4sqi.net/img/categories_v2/food/brewery_', 'suffix': '.png'}}, {'id': 17000, 'name': 'Retail', 'icon': {'prefix': 'https://ss3.4sqi.net/img/categories_v2/shops/default_', 'suffix': '.png'}}]\", 28, 43.639224, -79.425455, '1183 King St W')\n",
      "('Peniche Community Club of Toronto', \"[{'id': 10032, 'name': 'Night Club', 'icon': {'prefix': 'https://ss3.4sqi.net/img/categories_v2/nightlife/nightclub_', 'suffix': '.png'}}, {'id': 13029, 'name': 'Brewery', 'icon': {'prefix': 'https://ss3.4sqi.net/img/categories_v2/food/brewery_', 'suffix': '.png'}}]\", 29, 43.651516, -79.43855, '1264 College St')\n",
      "('Five Points Bar and Grill', \"[{'id': 13006, 'name': 'Beer Bar', 'icon': {'prefix': 'https://ss3.4sqi.net/img/categories_v2/nightlife/pub_', 'suffix': '.png'}}, {'id': 13065, 'name': 'Restaurant', 'icon': {'prefix': 'https://ss3.4sqi.net/img/categories_v2/food/default_', 'suffix': '.png'}}]\", 29, 43.692796, -79.441479, '636 Vaughan Rd')\n",
      "(\"Jack Astor's\", \"[{'id': 13065, 'name': 'Restaurant', 'icon': {'prefix': 'https://ss3.4sqi.net/img/categories_v2/food/default_', 'suffix': '.png'}}, {'id': 13003, 'name': 'Bar', 'icon': {'prefix': 'https://ss3.4sqi.net/img/categories_v2/nightlife/pub_', 'suffix': '.png'}}]\", 29, 43.656641, -79.38046, '10 Dundas St E')\n",
      "('Old Flame Brewing Co', \"[{'id': 13029, 'name': 'Brewery', 'icon': {'prefix': 'https://ss3.4sqi.net/img/categories_v2/food/brewery_', 'suffix': '.png'}}]\", 30, 43.651051, -79.357646, '43 Tankhouse Lane')\n",
      "('Avling', \"[{'id': 13003, 'name': 'Bar', 'icon': {'prefix': 'https://ss3.4sqi.net/img/categories_v2/nightlife/pub_', 'suffix': '.png'}}, {'id': 13029, 'name': 'Brewery', 'icon': {'prefix': 'https://ss3.4sqi.net/img/categories_v2/food/brewery_', 'suffix': '.png'}}, {'id': 13065, 'name': 'Restaurant', 'icon': {'prefix': 'https://ss3.4sqi.net/img/categories_v2/food/default_', 'suffix': '.png'}}]\", 31, 43.661655, -79.338287, '1042 Queen St E')\n",
      "('Bar Hop', \"[{'id': 13006, 'name': 'Beer Bar', 'icon': {'prefix': 'https://ss3.4sqi.net/img/categories_v2/nightlife/pub_', 'suffix': '.png'}}, {'id': 13065, 'name': 'Restaurant', 'icon': {'prefix': 'https://ss3.4sqi.net/img/categories_v2/food/default_', 'suffix': '.png'}}]\", 32, 43.645579, -79.393658, '391 King St W')\n",
      "('Bloor Brewery Inc', \"[{'id': 13029, 'name': 'Brewery', 'icon': {'prefix': 'https://ss3.4sqi.net/img/categories_v2/food/brewery_', 'suffix': '.png'}}]\", 36, 43.669951, -79.387349, '2 Bloor St W')\n",
      "('Steam Whistle Brewing', \"[{'id': 13029, 'name': 'Brewery', 'icon': {'prefix': 'https://ss3.4sqi.net/img/categories_v2/food/brewery_', 'suffix': '.png'}}, {'id': 13065, 'name': 'Restaurant', 'icon': {'prefix': 'https://ss3.4sqi.net/img/categories_v2/food/default_', 'suffix': '.png'}}]\", 37, 43.641025, -79.385267, '255 Bremner Blvd')\n",
      "(\"Nadia's Loving Pet Services Harbourfront\", \"[{'id': 11133, 'name': 'Pet Service', 'icon': {'prefix': 'https://ss3.4sqi.net/img/categories_v2/shops/pet_store_', 'suffix': '.png'}}, {'id': 13029, 'name': 'Brewery', 'icon': {'prefix': 'https://ss3.4sqi.net/img/categories_v2/food/brewery_', 'suffix': '.png'}}]\", 38, 43.640563, -79.3808, '8 York St')\n",
      "('Rogers Centre', \"[{'id': 10051, 'name': 'Stadium', 'icon': {'prefix': 'https://ss3.4sqi.net/img/categories_v2/arts_entertainment/stadium_', 'suffix': '.png'}}]\", 41, 43.641113, -79.38967, '1 Blue Jays Way')\n",
      "('Burdock', \"[{'id': 13029, 'name': 'Brewery', 'icon': {'prefix': 'https://ss3.4sqi.net/img/categories_v2/food/brewery_', 'suffix': '.png'}}]\", 42, 43.653999, -79.402154, '6 Denison Sq')\n",
      "('Beer Store', \"[{'id': 17058, 'name': 'Beer Store', 'icon': {'prefix': 'https://ss3.4sqi.net/img/categories_v2/nightlife/beergarden_', 'suffix': '.png'}}]\", 43, 43.666252, -79.38185, '572 Church St')\n",
      "('Local Liberty Village', \"[{'id': 13314, 'name': 'New American Restaurant', 'icon': {'prefix': 'https://ss3.4sqi.net/img/categories_v2/food/newamerican_', 'suffix': '.png'}}, {'id': 13065, 'name': 'Restaurant', 'icon': {'prefix': 'https://ss3.4sqi.net/img/categories_v2/food/default_', 'suffix': '.png'}}]\", 44, 43.638448, -79.419162, '171 E Liberty St')\n",
      "('Indie Alehouse Barrel House', \"[{'id': 13029, 'name': 'Brewery', 'icon': {'prefix': 'https://ss3.4sqi.net/img/categories_v2/food/brewery_', 'suffix': '.png'}}]\", 45, 43.669873, -79.436257, '165 Geary Ave')\n",
      "('Eastbound Brewing Co', \"[{'id': 13003, 'name': 'Bar', 'icon': {'prefix': 'https://ss3.4sqi.net/img/categories_v2/nightlife/pub_', 'suffix': '.png'}}, {'id': 13029, 'name': 'Brewery', 'icon': {'prefix': 'https://ss3.4sqi.net/img/categories_v2/food/brewery_', 'suffix': '.png'}}, {'id': 13057, 'name': 'Gastropub', 'icon': {'prefix': 'https://ss3.4sqi.net/img/categories_v2/food/gastropub_', 'suffix': '.png'}}]\", 45, 43.659005, -79.350118, '700 Queen St E')\n",
      "('Bar Hop Brewco', \"[{'id': 13006, 'name': 'Beer Bar', 'icon': {'prefix': 'https://ss3.4sqi.net/img/categories_v2/nightlife/pub_', 'suffix': '.png'}}, {'id': 13057, 'name': 'Gastropub', 'icon': {'prefix': 'https://ss3.4sqi.net/img/categories_v2/food/gastropub_', 'suffix': '.png'}}, {'id': 13152, 'name': 'Brasserie', 'icon': {'prefix': 'https://ss3.4sqi.net/img/categories_v2/food/french_', 'suffix': '.png'}}]\", 47, 43.649093, -79.39319, '137 Peter St')\n",
      "('Longslice Brewery', \"[{'id': 13029, 'name': 'Brewery', 'icon': {'prefix': 'https://ss3.4sqi.net/img/categories_v2/food/brewery_', 'suffix': '.png'}}]\", 48, 43.653525, -79.354485, '484 Front St E')\n",
      "('Goose Island Brew House - Toronto', \"[{'id': 13006, 'name': 'Beer Bar', 'icon': {'prefix': 'https://ss3.4sqi.net/img/categories_v2/nightlife/pub_', 'suffix': '.png'}}, {'id': 13065, 'name': 'Restaurant', 'icon': {'prefix': 'https://ss3.4sqi.net/img/categories_v2/food/default_', 'suffix': '.png'}}]\", 48, 43.647367, -79.373656, '70 the Esplanade')\n",
      "('La Palette', \"[{'id': 13148, 'name': 'French Restaurant', 'icon': {'prefix': 'https://ss3.4sqi.net/img/categories_v2/food/french_', 'suffix': '.png'}}]\", 50, 43.647902, -79.401087, '492 Queen St W')\n",
      "('Northern Maverick Brewing Co', \"[{'id': 13029, 'name': 'Brewery', 'icon': {'prefix': 'https://ss3.4sqi.net/img/categories_v2/food/brewery_', 'suffix': '.png'}}, {'id': 13065, 'name': 'Restaurant', 'icon': {'prefix': 'https://ss3.4sqi.net/img/categories_v2/food/default_', 'suffix': '.png'}}]\", 50, 43.644967, -79.402863, '115 Bathurst St')\n",
      "('Blood Brothers Brewing', \"[{'id': 13029, 'name': 'Brewery', 'icon': {'prefix': 'https://ss3.4sqi.net/img/categories_v2/food/brewery_', 'suffix': '.png'}}]\", 51, 43.669939, -79.436128, '165 Geary Ave')\n",
      "(\"Castro's Lounge\", \"[{'id': 13009, 'name': 'Cocktail Bar', 'icon': {'prefix': 'https://ss3.4sqi.net/img/categories_v2/nightlife/cocktails_', 'suffix': '.png'}}, {'id': 13016, 'name': 'Lounge', 'icon': {'prefix': 'https://ss3.4sqi.net/img/categories_v2/nightlife/default_', 'suffix': '.png'}}, {'id': 13068, 'name': 'American Restaurant', 'icon': {'prefix': 'https://ss3.4sqi.net/img/categories_v2/food/default_', 'suffix': '.png'}}]\", 55, 43.671221, -79.295045, '2116 E Queen St E')\n",
      "('Lcbo', \"[{'id': 17076, 'name': 'Liquor Store', 'icon': {'prefix': 'https://ss3.4sqi.net/img/categories_v2/shops/food_liquor_', 'suffix': '.png'}}]\", 57, 43.676879, -79.356038, '200 Danforth Ave')\n",
      "('Something in the Water Brewing', \"[{'id': 13029, 'name': 'Brewery', 'icon': {'prefix': 'https://ss3.4sqi.net/img/categories_v2/food/brewery_', 'suffix': '.png'}}]\", 58, 43.638413, -79.417333, '151 E Liberty St')\n",
      "('Razabrewing', \"[{'id': 13029, 'name': 'Brewery', 'icon': {'prefix': 'https://ss3.4sqi.net/img/categories_v2/food/brewery_', 'suffix': '.png'}}]\", 60, 43.651023, -79.450673, '403 Roncesvalles Ave')\n",
      "('Duke of Kent', \"[{'id': 13018, 'name': 'Pub', 'icon': {'prefix': 'https://ss3.4sqi.net/img/categories_v2/nightlife/pub_', 'suffix': '.png'}}, {'id': 13065, 'name': 'Restaurant', 'icon': {'prefix': 'https://ss3.4sqi.net/img/categories_v2/food/default_', 'suffix': '.png'}}]\", 61, 43.707899, -79.398359, '2315 Yonge St')\n",
      "('Fermentations', \"[{'id': 17058, 'name': 'Beer Store', 'icon': {'prefix': 'https://ss3.4sqi.net/img/categories_v2/nightlife/beergarden_', 'suffix': '.png'}}, {'id': 17076, 'name': 'Liquor Store', 'icon': {'prefix': 'https://ss3.4sqi.net/img/categories_v2/shops/food_liquor_', 'suffix': '.png'}}, {'id': 17080, 'name': 'Wine Store', 'icon': {'prefix': 'https://ss3.4sqi.net/img/categories_v2/shops/food_wineshop_', 'suffix': '.png'}}]\", 62, 43.676591, -79.356132, '201 Danforth Ave')\n",
      "('The Roy Public House', \"[{'id': 13003, 'name': 'Bar', 'icon': {'prefix': 'https://ss3.4sqi.net/img/categories_v2/nightlife/pub_', 'suffix': '.png'}}, {'id': 13031, 'name': 'Burger Joint', 'icon': {'prefix': 'https://ss3.4sqi.net/img/categories_v2/food/burger_', 'suffix': '.png'}}]\", 63, 43.660524, -79.343064, '894 Queen St E')\n",
      "('Sin and Redemption', \"[{'id': 13003, 'name': 'Bar', 'icon': {'prefix': 'https://ss3.4sqi.net/img/categories_v2/nightlife/pub_', 'suffix': '.png'}}, {'id': 13077, 'name': 'Belgian Restaurant', 'icon': {'prefix': 'https://ss3.4sqi.net/img/categories_v2/food/default_', 'suffix': '.png'}}]\", 66, 43.654588, -79.391728, '136 McCaul St')\n",
      "('Henderson Brewing Co', \"[{'id': 13029, 'name': 'Brewery', 'icon': {'prefix': 'https://ss3.4sqi.net/img/categories_v2/food/brewery_', 'suffix': '.png'}}, {'id': 13065, 'name': 'Restaurant', 'icon': {'prefix': 'https://ss3.4sqi.net/img/categories_v2/food/default_', 'suffix': '.png'}}]\", 66, 43.653662, -79.4453, '128A Sterling Rd')\n",
      "('Young Centre for the Performing Arts', \"[{'id': 10039, 'name': 'Music Venue', 'icon': {'prefix': 'https://ss3.4sqi.net/img/categories_v2/arts_entertainment/musicvenue_', 'suffix': '.png'}}]\", 69, 43.650888, -79.357573, '50 Tank House Lane')\n",
      "(\"Stefan's\", \"[{'id': 13006, 'name': 'Beer Bar', 'icon': {'prefix': 'https://ss3.4sqi.net/img/categories_v2/nightlife/pub_', 'suffix': '.png'}}]\", 71, 43.694861, -79.454726, 'Eglinton Ave W')\n",
      "('Red Tape Brewery', \"[{'id': 13029, 'name': 'Brewery', 'icon': {'prefix': 'https://ss3.4sqi.net/img/categories_v2/food/brewery_', 'suffix': '.png'}}]\", 74, 43.683754, -79.299934, '159 Main St')\n",
      "('Bang Sue Bar', \"[{'id': 13006, 'name': 'Beer Bar', 'icon': {'prefix': 'https://ss3.4sqi.net/img/categories_v2/nightlife/pub_', 'suffix': '.png'}}, {'id': 13009, 'name': 'Cocktail Bar', 'icon': {'prefix': 'https://ss3.4sqi.net/img/categories_v2/nightlife/cocktails_', 'suffix': '.png'}}, {'id': 13352, 'name': 'Thai Restaurant', 'icon': {'prefix': 'https://ss3.4sqi.net/img/categories_v2/food/thai_', 'suffix': '.png'}}]\", 74, 43.646428, -79.39356, '11 Charlotte St')\n",
      "('Town Crier Pub', \"[{'id': 13018, 'name': 'Pub', 'icon': {'prefix': 'https://ss3.4sqi.net/img/categories_v2/nightlife/pub_', 'suffix': '.png'}}, {'id': 13074, 'name': 'Austrian Restaurant', 'icon': {'prefix': 'https://ss3.4sqi.net/img/categories_v2/food/austrian_', 'suffix': '.png'}}]\", 76, 43.648185, -79.39024, '115 John St')\n",
      "('Beer Store', \"[{'id': 17058, 'name': 'Beer Store', 'icon': {'prefix': 'https://ss3.4sqi.net/img/categories_v2/nightlife/beergarden_', 'suffix': '.png'}}]\", 78, 43.680529, -79.282663, '1089 Kingston Rd')\n",
      "('The Dylan Bar', \"[{'id': 13006, 'name': 'Beer Bar', 'icon': {'prefix': 'https://ss3.4sqi.net/img/categories_v2/nightlife/pub_', 'suffix': '.png'}}, {'id': 13347, 'name': 'Tapas Restaurant', 'icon': {'prefix': 'https://ss3.4sqi.net/img/categories_v2/food/tapas_', 'suffix': '.png'}}]\", 78, 43.681974, -79.330556, '1276 Danforth Ave')\n",
      "('GLB Brewpub', \"[{'id': 13029, 'name': 'Brewery', 'icon': {'prefix': 'https://ss3.4sqi.net/img/categories_v2/food/brewery_', 'suffix': '.png'}}]\", 80, 43.645089, -79.369461, '11 Lower Jarvis St')\n",
      "('The Garden Pub', \"[{'id': 13029, 'name': 'Brewery', 'icon': {'prefix': 'https://ss3.4sqi.net/img/categories_v2/food/brewery_', 'suffix': '.png'}}]\", 80, 43.647803, -79.374613, '37 Front St E')\n",
      "('Beer Store', \"[{'id': 17058, 'name': 'Beer Store', 'icon': {'prefix': 'https://ss3.4sqi.net/img/categories_v2/nightlife/beergarden_', 'suffix': '.png'}}]\", 81, 43.666383, -79.45099, '323 Symington Ave')\n",
      "('Collective Arts', \"[{'id': 13029, 'name': 'Brewery', 'icon': {'prefix': 'https://ss3.4sqi.net/img/categories_v2/food/brewery_', 'suffix': '.png'}}]\", 81, 43.651873, -79.407471, '777 Dundas St W')\n",
      "('By the Way Cafe', \"[{'id': 13049, 'name': 'Diner', 'icon': {'prefix': 'https://ss3.4sqi.net/img/categories_v2/food/diner_', 'suffix': '.png'}}, {'id': 13302, 'name': 'Mediterranean Restaurant', 'icon': {'prefix': 'https://ss3.4sqi.net/img/categories_v2/food/mediterranean_', 'suffix': '.png'}}, {'id': 13309, 'name': 'Middle Eastern Restaurant', 'icon': {'prefix': 'https://ss3.4sqi.net/img/categories_v2/food/middleeastern_', 'suffix': '.png'}}]\", 82, 43.666005, -79.407671, '400 Bloor St W')\n",
      "('Beast Restaurant', \"[{'id': 13068, 'name': 'American Restaurant', 'icon': {'prefix': 'https://ss3.4sqi.net/img/categories_v2/food/default_', 'suffix': '.png'}}]\", 83, 43.644131, -79.405861, '96 Tecumseth St')\n",
      "('Liberty Commons at Big Rock Brewery', \"[{'id': 13018, 'name': 'Pub', 'icon': {'prefix': 'https://ss3.4sqi.net/img/categories_v2/nightlife/pub_', 'suffix': '.png'}}, {'id': 13029, 'name': 'Brewery', 'icon': {'prefix': 'https://ss3.4sqi.net/img/categories_v2/food/brewery_', 'suffix': '.png'}}, {'id': 13065, 'name': 'Restaurant', 'icon': {'prefix': 'https://ss3.4sqi.net/img/categories_v2/food/default_', 'suffix': '.png'}}]\", 84, 43.638425, -79.421027, '42 Liberty St')\n",
      "('Beer Bistro', \"[{'id': 13027, 'name': 'Bistro', 'icon': {'prefix': 'https://ss3.4sqi.net/img/categories_v2/food/default_', 'suffix': '.png'}}, {'id': 13057, 'name': 'Gastropub', 'icon': {'prefix': 'https://ss3.4sqi.net/img/categories_v2/food/gastropub_', 'suffix': '.png'}}, {'id': 13077, 'name': 'Belgian Restaurant', 'icon': {'prefix': 'https://ss3.4sqi.net/img/categories_v2/food/default_', 'suffix': '.png'}}]\", 84, 43.649463, -79.377261, '18 King St E')\n",
      "('Stefansplatz', \"[{'id': 13029, 'name': 'Brewery', 'icon': {'prefix': 'https://ss3.4sqi.net/img/categories_v2/food/brewery_', 'suffix': '.png'}}]\", 85, 43.655146, -79.390228, '195 Saint Patrick St')\n",
      "(\"Allen's\", \"[{'id': 13031, 'name': 'Burger Joint', 'icon': {'prefix': 'https://ss3.4sqi.net/img/categories_v2/food/burger_', 'suffix': '.png'}}, {'id': 13049, 'name': 'Diner', 'icon': {'prefix': 'https://ss3.4sqi.net/img/categories_v2/food/diner_', 'suffix': '.png'}}, {'id': 13068, 'name': 'American Restaurant', 'icon': {'prefix': 'https://ss3.4sqi.net/img/categories_v2/food/default_', 'suffix': '.png'}}]\", 86, 43.6764, -79.357225, '143 Danforth Ave')\n",
      "('Beer Store', \"[{'id': 17058, 'name': 'Beer Store', 'icon': {'prefix': 'https://ss3.4sqi.net/img/categories_v2/nightlife/beergarden_', 'suffix': '.png'}}]\", 87, 43.650446, -79.360589, '41 Mill St')\n",
      "('Godspeed Brewery', \"[{'id': 13003, 'name': 'Bar', 'icon': {'prefix': 'https://ss3.4sqi.net/img/categories_v2/nightlife/pub_', 'suffix': '.png'}}, {'id': 13029, 'name': 'Brewery', 'icon': {'prefix': 'https://ss3.4sqi.net/img/categories_v2/food/brewery_', 'suffix': '.png'}}, {'id': 13065, 'name': 'Restaurant', 'icon': {'prefix': 'https://ss3.4sqi.net/img/categories_v2/food/default_', 'suffix': '.png'}}]\", 87, 43.672563, -79.319341, '242 Coxwell Ave')\n",
      "('The Beer Store', \"[{'id': 17058, 'name': 'Beer Store', 'icon': {'prefix': 'https://ss3.4sqi.net/img/categories_v2/nightlife/beergarden_', 'suffix': '.png'}}]\", 88, 43.613477, -79.489677, '2458 Lake Shore Blvd W')\n",
      "('The Only Cafe', \"[{'id': 13006, 'name': 'Beer Bar', 'icon': {'prefix': 'https://ss3.4sqi.net/img/categories_v2/nightlife/pub_', 'suffix': '.png'}}, {'id': 13010, 'name': 'Dive Bar', 'icon': {'prefix': 'https://ss3.4sqi.net/img/categories_v2/nightlife/divebar_', 'suffix': '.png'}}, {'id': 13302, 'name': 'Mediterranean Restaurant', 'icon': {'prefix': 'https://ss3.4sqi.net/img/categories_v2/food/mediterranean_', 'suffix': '.png'}}]\", 88, 43.680441, -79.337798, '972 Danforth Ave')\n",
      "('Mascot Brewery Beer Garden', \"[{'id': 13029, 'name': 'Brewery', 'icon': {'prefix': 'https://ss3.4sqi.net/img/categories_v2/food/brewery_', 'suffix': '.png'}}]\", 90, 43.647355, -79.386976, '220 King St E')\n",
      "('Louis Cifer Brew Works', \"[{'id': 13029, 'name': 'Brewery', 'icon': {'prefix': 'https://ss3.4sqi.net/img/categories_v2/food/brewery_', 'suffix': '.png'}}, {'id': 13057, 'name': 'Gastropub', 'icon': {'prefix': 'https://ss3.4sqi.net/img/categories_v2/food/gastropub_', 'suffix': '.png'}}, {'id': 13068, 'name': 'American Restaurant', 'icon': {'prefix': 'https://ss3.4sqi.net/img/categories_v2/food/default_', 'suffix': '.png'}}]\", 91, 43.677514, -79.351134, '417 Danforth Ave')\n",
      "('Brewing Brokers', \"[{'id': 13029, 'name': 'Brewery', 'icon': {'prefix': 'https://ss3.4sqi.net/img/categories_v2/food/brewery_', 'suffix': '.png'}}]\", 91, 43.725882, -79.40212, '3153 Yonge St')\n",
      "('Bandit Brewery', \"[{'id': 13029, 'name': 'Brewery', 'icon': {'prefix': 'https://ss3.4sqi.net/img/categories_v2/food/brewery_', 'suffix': '.png'}}, {'id': 13065, 'name': 'Restaurant', 'icon': {'prefix': 'https://ss3.4sqi.net/img/categories_v2/food/default_', 'suffix': '.png'}}]\", 92, 43.652671, -79.449629, '2125 Dundas St W')\n",
      "('Steadfast Brewing', \"[{'id': 13029, 'name': 'Brewery', 'icon': {'prefix': 'https://ss3.4sqi.net/img/categories_v2/food/brewery_', 'suffix': '.png'}}]\", 93, 43.650724, -79.439405, '301 Lansdowne Ave')\n",
      "('Burdock', \"[{'id': 10039, 'name': 'Music Venue', 'icon': {'prefix': 'https://ss3.4sqi.net/img/categories_v2/arts_entertainment/musicvenue_', 'suffix': '.png'}}, {'id': 13006, 'name': 'Beer Bar', 'icon': {'prefix': 'https://ss3.4sqi.net/img/categories_v2/nightlife/pub_', 'suffix': '.png'}}, {'id': 13065, 'name': 'Restaurant', 'icon': {'prefix': 'https://ss3.4sqi.net/img/categories_v2/food/default_', 'suffix': '.png'}}]\", 93, 43.659485, -79.437818, '1184 Bloor St W')\n",
      "('Beer Store', \"[{'id': 17058, 'name': 'Beer Store', 'icon': {'prefix': 'https://ss3.4sqi.net/img/categories_v2/nightlife/beergarden_', 'suffix': '.png'}}]\", 95, 43.693673, -79.441012, '529 Oakwood Ave')\n",
      "('House on Parliament', \"[{'id': 13003, 'name': 'Bar', 'icon': {'prefix': 'https://ss3.4sqi.net/img/categories_v2/nightlife/pub_', 'suffix': '.png'}}, {'id': 13057, 'name': 'Gastropub', 'icon': {'prefix': 'https://ss3.4sqi.net/img/categories_v2/food/gastropub_', 'suffix': '.png'}}, {'id': 13068, 'name': 'American Restaurant', 'icon': {'prefix': 'https://ss3.4sqi.net/img/categories_v2/food/default_', 'suffix': '.png'}}]\", 97, 43.663671, -79.367878, '454 Parliament St')\n",
      "(\"O'Grady's Restaurant\", \"[{'id': 13003, 'name': 'Bar', 'icon': {'prefix': 'https://ss3.4sqi.net/img/categories_v2/nightlife/pub_', 'suffix': '.png'}}, {'id': 13049, 'name': 'Diner', 'icon': {'prefix': 'https://ss3.4sqi.net/img/categories_v2/food/diner_', 'suffix': '.png'}}, {'id': 13068, 'name': 'American Restaurant', 'icon': {'prefix': 'https://ss3.4sqi.net/img/categories_v2/food/default_', 'suffix': '.png'}}]\", 98, 43.664491, -79.380587, '518 Church St')\n",
      "('Bar Hop Session', \"[{'id': 13006, 'name': 'Beer Bar', 'icon': {'prefix': 'https://ss3.4sqi.net/img/categories_v2/nightlife/pub_', 'suffix': '.png'}}, {'id': 13065, 'name': 'Restaurant', 'icon': {'prefix': 'https://ss3.4sqi.net/img/categories_v2/food/default_', 'suffix': '.png'}}]\", 100, 43.678877, -79.343912, '681 Danforth Ave')\n",
      "('Drake Lounge', \"[{'id': 13016, 'name': 'Lounge', 'icon': {'prefix': 'https://ss3.4sqi.net/img/categories_v2/nightlife/default_', 'suffix': '.png'}}]\", 101, 43.643275, -79.424561, '1150 Queen St W')\n",
      "('Jack Astor’s', \"[{'id': 13065, 'name': 'Restaurant', 'icon': {'prefix': 'https://ss3.4sqi.net/img/categories_v2/food/default_', 'suffix': '.png'}}, {'id': 13003, 'name': 'Bar', 'icon': {'prefix': 'https://ss3.4sqi.net/img/categories_v2/nightlife/pub_', 'suffix': '.png'}}]\", 103, 43.670834, -79.386788, '2 Bloor St E')\n",
      "('The Queen and Beaver Public House', \"[{'id': 13003, 'name': 'Bar', 'icon': {'prefix': 'https://ss3.4sqi.net/img/categories_v2/nightlife/pub_', 'suffix': '.png'}}, {'id': 13057, 'name': 'Gastropub', 'icon': {'prefix': 'https://ss3.4sqi.net/img/categories_v2/food/gastropub_', 'suffix': '.png'}}]\", 104, 43.65738, -79.38343, '35 Elm St')\n",
      "('Burdock Bottle Shop', \"[{'id': 17058, 'name': 'Beer Store', 'icon': {'prefix': 'https://ss3.4sqi.net/img/categories_v2/nightlife/beergarden_', 'suffix': '.png'}}]\", 106, 43.659485, -79.437818, '1184 Bloor St W')\n",
      "('Lcbo', \"[{'id': 17069, 'name': 'Grocery Store', 'icon': {'prefix': 'https://ss3.4sqi.net/img/categories_v2/shops/food_grocery_', 'suffix': '.png'}}, {'id': 17076, 'name': 'Liquor Store', 'icon': {'prefix': 'https://ss3.4sqi.net/img/categories_v2/shops/food_liquor_', 'suffix': '.png'}}, {'id': 17080, 'name': 'Wine Store', 'icon': {'prefix': 'https://ss3.4sqi.net/img/categories_v2/shops/food_wineshop_', 'suffix': '.png'}}]\", 106, 43.651189, -79.365054, '222 Front St E')\n",
      "('Brewhaha Craft Beer Lounge', \"[{'id': 13006, 'name': 'Beer Bar', 'icon': {'prefix': 'https://ss3.4sqi.net/img/categories_v2/nightlife/pub_', 'suffix': '.png'}}]\", 108, 43.669174, -79.39728, '39 Prince Arthur Ave')\n",
      "('Rhino Bar & Grill Inc', \"[{'id': 13003, 'name': 'Bar', 'icon': {'prefix': 'https://ss3.4sqi.net/img/categories_v2/nightlife/pub_', 'suffix': '.png'}}, {'id': 13068, 'name': 'American Restaurant', 'icon': {'prefix': 'https://ss3.4sqi.net/img/categories_v2/food/default_', 'suffix': '.png'}}]\", 108, 43.641714, -79.430575, '1249 Queen St W')\n",
      "('St. Louis Bar and Grill', \"[{'id': 13003, 'name': 'Bar', 'icon': {'prefix': 'https://ss3.4sqi.net/img/categories_v2/nightlife/pub_', 'suffix': '.png'}}, {'id': 13022, 'name': 'Sports Bar', 'icon': {'prefix': 'https://ss3.4sqi.net/img/categories_v2/nightlife/sportsbar_', 'suffix': '.png'}}]\", 108, 43.701556, -79.397534, '2050 Yonge St')\n",
      "('Beer Store', \"[{'id': 17058, 'name': 'Beer Store', 'icon': {'prefix': 'https://ss3.4sqi.net/img/categories_v2/nightlife/beergarden_', 'suffix': '.png'}}]\", 110, 43.65245, -79.449593, '2135 Dundas St W')\n",
      "('Bottega Volo', \"[{'id': 17058, 'name': 'Beer Store', 'icon': {'prefix': 'https://ss3.4sqi.net/img/categories_v2/nightlife/beergarden_', 'suffix': '.png'}}]\", 115, 43.655168, -79.414637, '608 College St')\n",
      "('Goodfellas Wood Oven Pizza', \"[{'id': 13064, 'name': 'Pizzeria', 'icon': {'prefix': 'https://ss3.4sqi.net/img/categories_v2/food/pizza_', 'suffix': '.png'}}, {'id': 13236, 'name': 'Italian Restaurant', 'icon': {'prefix': 'https://ss3.4sqi.net/img/categories_v2/food/italian_', 'suffix': '.png'}}]\", 116, 43.64835, -79.486381, '1 Old Mill Dr')\n",
      "('Crafty Coyote', \"[{'id': 13006, 'name': 'Beer Bar', 'icon': {'prefix': 'https://ss3.4sqi.net/img/categories_v2/nightlife/pub_', 'suffix': '.png'}}, {'id': 13065, 'name': 'Restaurant', 'icon': {'prefix': 'https://ss3.4sqi.net/img/categories_v2/food/default_', 'suffix': '.png'}}]\", 119, 43.665421, -79.408747, '511 Bloor St W')\n",
      "('Birreria Volo', \"[{'id': 13006, 'name': 'Beer Bar', 'icon': {'prefix': 'https://ss3.4sqi.net/img/categories_v2/nightlife/pub_', 'suffix': '.png'}}, {'id': 13347, 'name': 'Tapas Restaurant', 'icon': {'prefix': 'https://ss3.4sqi.net/img/categories_v2/food/tapas_', 'suffix': '.png'}}]\", 120, 43.65522, -79.414692, '612 College St')\n",
      "('Halo Brewery', \"[{'id': 13006, 'name': 'Beer Bar', 'icon': {'prefix': 'https://ss3.4sqi.net/img/categories_v2/nightlife/pub_', 'suffix': '.png'}}, {'id': 13029, 'name': 'Brewery', 'icon': {'prefix': 'https://ss3.4sqi.net/img/categories_v2/food/brewery_', 'suffix': '.png'}}, {'id': 13065, 'name': 'Restaurant', 'icon': {'prefix': 'https://ss3.4sqi.net/img/categories_v2/food/default_', 'suffix': '.png'}}]\", 121, 43.661711, -79.446545, '247 Wallace Ave')\n",
      "('Mill Street Brew Pub', \"[{'id': 13018, 'name': 'Pub', 'icon': {'prefix': 'https://ss3.4sqi.net/img/categories_v2/nightlife/pub_', 'suffix': '.png'}}, {'id': 13029, 'name': 'Brewery', 'icon': {'prefix': 'https://ss3.4sqi.net/img/categories_v2/food/brewery_', 'suffix': '.png'}}, {'id': 13077, 'name': 'Belgian Restaurant', 'icon': {'prefix': 'https://ss3.4sqi.net/img/categories_v2/food/default_', 'suffix': '.png'}}]\", 123, 43.650541, -79.3585, '21 Tank House Lane')\n",
      "('Kensington Brewing Co', \"[{'id': 13003, 'name': 'Bar', 'icon': {'prefix': 'https://ss3.4sqi.net/img/categories_v2/nightlife/pub_', 'suffix': '.png'}}, {'id': 13029, 'name': 'Brewery', 'icon': {'prefix': 'https://ss3.4sqi.net/img/categories_v2/food/brewery_', 'suffix': '.png'}}, {'id': 13065, 'name': 'Restaurant', 'icon': {'prefix': 'https://ss3.4sqi.net/img/categories_v2/food/default_', 'suffix': '.png'}}]\", 124, 43.656441, -79.402543, '299 Augusta Ave')\n",
      "('Pukka', \"[{'id': 13199, 'name': 'Indian Restaurant', 'icon': {'prefix': 'https://ss3.4sqi.net/img/categories_v2/food/indian_', 'suffix': '.png'}}]\", 124, 43.68112163005123, -79.42925333976746, '778 St Clair Ave W')\n",
      "('Beer Store', \"[{'id': 17058, 'name': 'Beer Store', 'icon': {'prefix': 'https://ss3.4sqi.net/img/categories_v2/nightlife/beergarden_', 'suffix': '.png'}}]\", 125, 43.666276, -79.489229, '3524 Dundas St W')\n",
      "('Cass Avenue', \"[{'id': 13006, 'name': 'Beer Bar', 'icon': {'prefix': 'https://ss3.4sqi.net/img/categories_v2/nightlife/pub_', 'suffix': '.png'}}]\", 126, 43.707757, -79.394124, '150 Eglinton Ave E')\n",
      "('Yongehurst Distillery Co', \"[{'id': 13003, 'name': 'Bar', 'icon': {'prefix': 'https://ss3.4sqi.net/img/categories_v2/nightlife/pub_', 'suffix': '.png'}}, {'id': 13029, 'name': 'Brewery', 'icon': {'prefix': 'https://ss3.4sqi.net/img/categories_v2/food/brewery_', 'suffix': '.png'}}, {'id': 13050, 'name': 'Distillery', 'icon': {'prefix': 'https://ss3.4sqi.net/img/categories_v2/food/brewery_', 'suffix': '.png'}}]\", 128, 43.670772, -79.434718, '346 Westmoreland Ave N')\n",
      "('The House of Cran', \"[{'id': 13029, 'name': 'Brewery', 'icon': {'prefix': 'https://ss3.4sqi.net/img/categories_v2/food/brewery_', 'suffix': '.png'}}]\", 128, 43.692076, -79.314233, '175 Coleridge Ave')\n",
      "('Akira Back Toronto', \"[{'id': 13263, 'name': 'Japanese Restaurant', 'icon': {'prefix': 'https://ss3.4sqi.net/img/categories_v2/food/japanese_', 'suffix': '.png'}}]\", 129, 43.645275, -79.392441, '80 Blue Jays Way')\n",
      "('Stack', \"[{'id': 13026, 'name': 'BBQ Joint', 'icon': {'prefix': 'https://ss3.4sqi.net/img/categories_v2/food/bbqalt_', 'suffix': '.png'}}, {'id': 13031, 'name': 'Burger Joint', 'icon': {'prefix': 'https://ss3.4sqi.net/img/categories_v2/food/burger_', 'suffix': '.png'}}, {'id': 13383, 'name': 'Steakhouse', 'icon': {'prefix': 'https://ss3.4sqi.net/img/categories_v2/food/steakhouse_', 'suffix': '.png'}}]\", 129, 43.729291, -79.403133, '3265 Yonge St')\n",
      "('Bangkok Garden Restaurant', \"[{'id': 13352, 'name': 'Thai Restaurant', 'icon': {'prefix': 'https://ss3.4sqi.net/img/categories_v2/food/thai_', 'suffix': '.png'}}]\", 130, 43.657825, -79.382706, '18 Elm St')\n",
      "('Ontario Spring Water Sake Co', \"[{'id': 13003, 'name': 'Bar', 'icon': {'prefix': 'https://ss3.4sqi.net/img/categories_v2/nightlife/pub_', 'suffix': '.png'}}, {'id': 13029, 'name': 'Brewery', 'icon': {'prefix': 'https://ss3.4sqi.net/img/categories_v2/food/brewery_', 'suffix': '.png'}}, {'id': 13050, 'name': 'Distillery', 'icon': {'prefix': 'https://ss3.4sqi.net/img/categories_v2/food/brewery_', 'suffix': '.png'}}]\", 130, 43.649827, -79.359836, '51 Gristmill Lane')\n",
      "('CRAFT Beer Market Toronto', \"[{'id': 13006, 'name': 'Beer Bar', 'icon': {'prefix': 'https://ss3.4sqi.net/img/categories_v2/nightlife/pub_', 'suffix': '.png'}}, {'id': 13065, 'name': 'Restaurant', 'icon': {'prefix': 'https://ss3.4sqi.net/img/categories_v2/food/default_', 'suffix': '.png'}}]\", 131, 43.6502, -79.37794, '1 Adelaide St E')\n",
      "('Belgian Moon Brewery', \"[{'id': 13029, 'name': 'Brewery', 'icon': {'prefix': 'https://ss3.4sqi.net/img/categories_v2/food/brewery_', 'suffix': '.png'}}]\", 132, 43.640531, -79.40365, '28 Bathurst St')\n",
      "('Beer Store', \"[{'id': 17058, 'name': 'Beer Store', 'icon': {'prefix': 'https://ss3.4sqi.net/img/categories_v2/nightlife/beergarden_', 'suffix': '.png'}}]\", 132, 43.665413, -79.403461, '720 Spadina Ave')\n",
      "('The John', \"[{'id': 13006, 'name': 'Beer Bar', 'icon': {'prefix': 'https://ss3.4sqi.net/img/categories_v2/nightlife/pub_', 'suffix': '.png'}}]\", 135, 43.65965, -79.437096, '1174 Bloor St W')\n",
      "('Art Gallery of Ontario', \"[{'id': 10004, 'name': 'Art Gallery', 'icon': {'prefix': 'https://ss3.4sqi.net/img/categories_v2/arts_entertainment/artgallery_', 'suffix': '.png'}}]\", 136, 43.653538, -79.392624, '317 Dundas St W')\n",
      "('Nunu Ethopian Fusion', \"[{'id': 13143, 'name': 'Ethiopian Restaurant', 'icon': {'prefix': 'https://ss3.4sqi.net/img/categories_v2/food/ethiopian_', 'suffix': '.png'}}]\", 137, 43.642965, -79.425727, '1178 Queen St W')\n",
      "('The Distillery Historic District', \"[{'id': 16026, 'name': 'Monument', 'icon': {'prefix': 'https://ss3.4sqi.net/img/categories_v2/building/government_monument_', 'suffix': '.png'}}]\", 139, 43.6502, -79.359334, '55 Mill St')\n",
      "('Beer Store', \"[{'id': 17058, 'name': 'Beer Store', 'icon': {'prefix': 'https://ss3.4sqi.net/img/categories_v2/nightlife/beergarden_', 'suffix': '.png'}}]\", 145, 43.657739, -79.357538, '28 River St')\n",
      "('Kensington Brewing Co', \"[{'id': 13003, 'name': 'Bar', 'icon': {'prefix': 'https://ss3.4sqi.net/img/categories_v2/nightlife/pub_', 'suffix': '.png'}}, {'id': 13029, 'name': 'Brewery', 'icon': {'prefix': 'https://ss3.4sqi.net/img/categories_v2/food/brewery_', 'suffix': '.png'}}, {'id': 13065, 'name': 'Restaurant', 'icon': {'prefix': 'https://ss3.4sqi.net/img/categories_v2/food/default_', 'suffix': '.png'}}]\", 146, 43.656389, -79.402488, '156 Augusta Ave')\n",
      "('Charlesbourg Brewing Co', \"[{'id': 13029, 'name': 'Brewery', 'icon': {'prefix': 'https://ss3.4sqi.net/img/categories_v2/food/brewery_', 'suffix': '.png'}}]\", 146, 43.65002, -79.379641, '1234 Consumers Dr')\n",
      "('The Alpine', \"[{'id': 13006, 'name': 'Beer Bar', 'icon': {'prefix': 'https://ss3.4sqi.net/img/categories_v2/nightlife/pub_', 'suffix': '.png'}}, {'id': 13065, 'name': 'Restaurant', 'icon': {'prefix': 'https://ss3.4sqi.net/img/categories_v2/food/default_', 'suffix': '.png'}}]\", 149, 43.665615, -79.465318, '2872 Dundas St W')\n",
      "('The Craft Brasserie & Grille', \"[{'id': 13006, 'name': 'Beer Bar', 'icon': {'prefix': 'https://ss3.4sqi.net/img/categories_v2/nightlife/pub_', 'suffix': '.png'}}, {'id': 13065, 'name': 'Restaurant', 'icon': {'prefix': 'https://ss3.4sqi.net/img/categories_v2/food/default_', 'suffix': '.png'}}]\", 150, 43.639346, -79.420708, '107 Atlantic Ave')\n",
      "('Bevi Birra', \"[{'id': 17058, 'name': 'Beer Store', 'icon': {'prefix': 'https://ss3.4sqi.net/img/categories_v2/nightlife/beergarden_', 'suffix': '.png'}}]\", 151, 43.66563, -79.472008, '3072 Dundas St W')\n",
      "('Indie Alehouse', \"[{'id': 13003, 'name': 'Bar', 'icon': {'prefix': 'https://ss3.4sqi.net/img/categories_v2/nightlife/pub_', 'suffix': '.png'}}, {'id': 13029, 'name': 'Brewery', 'icon': {'prefix': 'https://ss3.4sqi.net/img/categories_v2/food/brewery_', 'suffix': '.png'}}, {'id': 13057, 'name': 'Gastropub', 'icon': {'prefix': 'https://ss3.4sqi.net/img/categories_v2/food/gastropub_', 'suffix': '.png'}}]\", 153, 43.665549, -79.465448, '2876 Dundas St W')\n",
      "('Beer Store', \"[{'id': 17058, 'name': 'Beer Store', 'icon': {'prefix': 'https://ss3.4sqi.net/img/categories_v2/nightlife/beergarden_', 'suffix': '.png'}}]\", 155, 43.655333, -79.407743, '452 Bathurst St')\n",
      "('Beer Store', \"[{'id': 17058, 'name': 'Beer Store', 'icon': {'prefix': 'https://ss3.4sqi.net/img/categories_v2/nightlife/beergarden_', 'suffix': '.png'}}]\", 156, 43.673218, -79.415793, '500 Dupont St')\n",
      "('Ice Box', \"[{'id': 13003, 'name': 'Bar', 'icon': {'prefix': 'https://ss3.4sqi.net/img/categories_v2/nightlife/pub_', 'suffix': '.png'}}]\", 160, 43.643222, -79.379728, '40 Bay St')\n",
      "('The Beer Store', \"[{'id': 17058, 'name': 'Beer Store', 'icon': {'prefix': 'https://ss3.4sqi.net/img/categories_v2/nightlife/beergarden_', 'suffix': '.png'}}]\", 163, 43.656927, -79.434415, '900 Dufferin St')\n",
      "(\"C'est What\", \"[{'id': 13006, 'name': 'Beer Bar', 'icon': {'prefix': 'https://ss3.4sqi.net/img/categories_v2/nightlife/pub_', 'suffix': '.png'}}, {'id': 13049, 'name': 'Diner', 'icon': {'prefix': 'https://ss3.4sqi.net/img/categories_v2/food/diner_', 'suffix': '.png'}}, {'id': 13057, 'name': 'Gastropub', 'icon': {'prefix': 'https://ss3.4sqi.net/img/categories_v2/food/gastropub_', 'suffix': '.png'}}]\", 167, 43.648393, -79.373445, '67 Front St E')\n",
      "('Foundation Bar', \"[{'id': 13029, 'name': 'Brewery', 'icon': {'prefix': 'https://ss3.4sqi.net/img/categories_v2/food/brewery_', 'suffix': '.png'}}]\", 169, 43.652664, -79.380342, '14 W Queen St')\n",
      "('Beer Store', \"[{'id': 17058, 'name': 'Beer Store', 'icon': {'prefix': 'https://ss3.4sqi.net/img/categories_v2/nightlife/beergarden_', 'suffix': '.png'}}]\", 170, 43.692174, -79.28627, '3130 Danforth Ave')\n",
      "('Old York Bar & Grill', \"[{'id': 13003, 'name': 'Bar', 'icon': {'prefix': 'https://ss3.4sqi.net/img/categories_v2/nightlife/pub_', 'suffix': '.png'}}, {'id': 13031, 'name': 'Burger Joint', 'icon': {'prefix': 'https://ss3.4sqi.net/img/categories_v2/food/burger_', 'suffix': '.png'}}, {'id': 13068, 'name': 'American Restaurant', 'icon': {'prefix': 'https://ss3.4sqi.net/img/categories_v2/food/default_', 'suffix': '.png'}}]\", 170, 43.641897, -79.406486, '167 Niagara St')\n",
      "('Annex Brew Co', \"[{'id': 13029, 'name': 'Brewery', 'icon': {'prefix': 'https://ss3.4sqi.net/img/categories_v2/food/brewery_', 'suffix': '.png'}}]\", 177, 43.665362, -79.418044, '422 Clinton St')\n",
      "('Amsterdam BrewHouse', \"[{'id': 13029, 'name': 'Brewery', 'icon': {'prefix': 'https://ss3.4sqi.net/img/categories_v2/food/brewery_', 'suffix': '.png'}}, {'id': 17058, 'name': 'Beer Store', 'icon': {'prefix': 'https://ss3.4sqi.net/img/categories_v2/nightlife/beergarden_', 'suffix': '.png'}}]\", 177, 43.63797, -79.384828, '245 Queens Quay W S')\n",
      "('FastBrewing & WineMaking', \"[{'id': 13029, 'name': 'Brewery', 'icon': {'prefix': 'https://ss3.4sqi.net/img/categories_v2/food/brewery_', 'suffix': '.png'}}]\", 177, 43.639221, -79.386149, '264 Queens Quay W')\n",
      "('Ascari Enoteca', \"[{'id': 13236, 'name': 'Italian Restaurant', 'icon': {'prefix': 'https://ss3.4sqi.net/img/categories_v2/food/italian_', 'suffix': '.png'}}]\", 192, 43.661973, -79.335438, '1111 Queen St E')\n",
      "('Rorschach Brewing', \"[{'id': 13029, 'name': 'Brewery', 'icon': {'prefix': 'https://ss3.4sqi.net/img/categories_v2/food/brewery_', 'suffix': '.png'}}, {'id': 13065, 'name': 'Restaurant', 'icon': {'prefix': 'https://ss3.4sqi.net/img/categories_v2/food/default_', 'suffix': '.png'}}]\", 194, 43.663372, -79.319902, '1001 Eastern Ave')\n",
      "('Granite Brewery', \"[{'id': 13003, 'name': 'Bar', 'icon': {'prefix': 'https://ss3.4sqi.net/img/categories_v2/nightlife/pub_', 'suffix': '.png'}}, {'id': 13029, 'name': 'Brewery', 'icon': {'prefix': 'https://ss3.4sqi.net/img/categories_v2/food/brewery_', 'suffix': '.png'}}, {'id': 13068, 'name': 'American Restaurant', 'icon': {'prefix': 'https://ss3.4sqi.net/img/categories_v2/food/default_', 'suffix': '.png'}}]\", 196, 43.707916, -79.389609, '245 Eglinton Ave E')\n",
      "(\"Sarah's Cafe & Bar\", \"[{'id': 13034, 'name': 'Café', 'icon': {'prefix': 'https://ss3.4sqi.net/img/categories_v2/food/cafe_', 'suffix': '.png'}}, {'id': 13065, 'name': 'Restaurant', 'icon': {'prefix': 'https://ss3.4sqi.net/img/categories_v2/food/default_', 'suffix': '.png'}}]\", 199, 43.682848, -79.326999, '1426 Danforth Ave')\n",
      "('Gibraltars Rock Brewing Co', \"[{'id': 10000, 'name': 'Arts and Entertainment', 'icon': {'prefix': 'https://ss3.4sqi.net/img/categories_v2/arts_entertainment/default_', 'suffix': '.png'}}, {'id': 13003, 'name': 'Bar', 'icon': {'prefix': 'https://ss3.4sqi.net/img/categories_v2/nightlife/pub_', 'suffix': '.png'}}, {'id': 13029, 'name': 'Brewery', 'icon': {'prefix': 'https://ss3.4sqi.net/img/categories_v2/food/brewery_', 'suffix': '.png'}}]\", 200, 43.708263, -79.389477, '245 Eglinton Ave E')\n",
      "('The Beer Store', \"[{'id': 17058, 'name': 'Beer Store', 'icon': {'prefix': 'https://ss3.4sqi.net/img/categories_v2/nightlife/beergarden_', 'suffix': '.png'}}]\", 201, 43.681252, -79.332781, '1177 Danforth Ave')\n",
      "('Get Well', \"[{'id': 13003, 'name': 'Bar', 'icon': {'prefix': 'https://ss3.4sqi.net/img/categories_v2/nightlife/pub_', 'suffix': '.png'}}, {'id': 13065, 'name': 'Restaurant', 'icon': {'prefix': 'https://ss3.4sqi.net/img/categories_v2/food/default_', 'suffix': '.png'}}]\", 203, 43.649249, -79.421918, '1181 Dundas St W')\n",
      "('The Beer Store', \"[{'id': 17058, 'name': 'Beer Store', 'icon': {'prefix': 'https://ss3.4sqi.net/img/categories_v2/nightlife/beergarden_', 'suffix': '.png'}}]\", 204, 43.654318, -79.449379, 'Dundas St W')\n",
      "('Toronto Brewing', \"[{'id': 17058, 'name': 'Beer Store', 'icon': {'prefix': 'https://ss3.4sqi.net/img/categories_v2/nightlife/beergarden_', 'suffix': '.png'}}]\", 204, 43.669458, -79.438108, '211 Geary Ave')\n",
      "('Labatt Breweries of Canada', \"[{'id': 13029, 'name': 'Brewery', 'icon': {'prefix': 'https://ss3.4sqi.net/img/categories_v2/food/brewery_', 'suffix': '.png'}}]\", 205, 43.63884, -79.380573, \"207 Queen's Quay W\")\n",
      "('Bottle Delivery Toronto - Beer, Liquor, Wine', \"[{'id': 17058, 'name': 'Beer Store', 'icon': {'prefix': 'https://ss3.4sqi.net/img/categories_v2/nightlife/beergarden_', 'suffix': '.png'}}, {'id': 17076, 'name': 'Liquor Store', 'icon': {'prefix': 'https://ss3.4sqi.net/img/categories_v2/shops/food_liquor_', 'suffix': '.png'}}]\", 205, 43.681193, -79.332819, '1177 Danforth Ave')\n",
      "('Billye Madden', \"[{'id': 13029, 'name': 'Brewery', 'icon': {'prefix': 'https://ss3.4sqi.net/img/categories_v2/food/brewery_', 'suffix': '.png'}}]\", 206, 43.662055, -79.328064, '818 Eastern Ave')\n",
      "('Beer Store', \"[{'id': 17058, 'name': 'Beer Store', 'icon': {'prefix': 'https://ss3.4sqi.net/img/categories_v2/nightlife/beergarden_', 'suffix': '.png'}}]\", 207, 43.693634, -79.316772, '1270 Woodbine Ave')\n",
      "('Harbord House', \"[{'id': 13003, 'name': 'Bar', 'icon': {'prefix': 'https://ss3.4sqi.net/img/categories_v2/nightlife/pub_', 'suffix': '.png'}}, {'id': 13057, 'name': 'Gastropub', 'icon': {'prefix': 'https://ss3.4sqi.net/img/categories_v2/food/gastropub_', 'suffix': '.png'}}]\", 207, 43.66245, -79.405607, '150 Harbord St')\n",
      "('Something in the Water Brewing Co', \"[{'id': 13029, 'name': 'Brewery', 'icon': {'prefix': 'https://ss3.4sqi.net/img/categories_v2/food/brewery_', 'suffix': '.png'}}]\", 209, 43.637859, -79.38481, '245 Queens Quay W')\n",
      "(\"Tommy's Wine Bar\", \"[{'id': 13034, 'name': 'Café', 'icon': {'prefix': 'https://ss3.4sqi.net/img/categories_v2/food/cafe_', 'suffix': '.png'}}]\", 217, 43.651055, -79.445629, '1977 Dundas St W')\n",
      "('Beer Store', \"[{'id': 17058, 'name': 'Beer Store', 'icon': {'prefix': 'https://ss3.4sqi.net/img/categories_v2/nightlife/beergarden_', 'suffix': '.png'}}]\", 221, 43.666282, -79.369041, '534 Parliament St')\n",
      "('B&N Brewing Co', \"[{'id': 13029, 'name': 'Brewery', 'icon': {'prefix': 'https://ss3.4sqi.net/img/categories_v2/food/brewery_', 'suffix': '.png'}}]\", 221, 43.661063, -79.477632, '105 Gilmour Ave')\n",
      "(\"Her Father's Cider Bar + Kitchen\", \"[{'id': 13006, 'name': 'Beer Bar', 'icon': {'prefix': 'https://ss3.4sqi.net/img/categories_v2/nightlife/pub_', 'suffix': '.png'}}, {'id': 13065, 'name': 'Restaurant', 'icon': {'prefix': 'https://ss3.4sqi.net/img/categories_v2/food/default_', 'suffix': '.png'}}]\", 223, 43.662413, -79.404572, '119 Harbord St')\n",
      "('Village Idiot Pub', \"[{'id': 13016, 'name': 'Lounge', 'icon': {'prefix': 'https://ss3.4sqi.net/img/categories_v2/nightlife/default_', 'suffix': '.png'}}, {'id': 13049, 'name': 'Diner', 'icon': {'prefix': 'https://ss3.4sqi.net/img/categories_v2/food/diner_', 'suffix': '.png'}}, {'id': 13068, 'name': 'American Restaurant', 'icon': {'prefix': 'https://ss3.4sqi.net/img/categories_v2/food/default_', 'suffix': '.png'}}]\", 228, 43.654366, -79.391693, '126 Mc Caul St')\n",
      "('The Dizzy', \"[{'id': 13049, 'name': 'Diner', 'icon': {'prefix': 'https://ss3.4sqi.net/img/categories_v2/food/diner_', 'suffix': '.png'}}, {'id': 13057, 'name': 'Gastropub', 'icon': {'prefix': 'https://ss3.4sqi.net/img/categories_v2/food/gastropub_', 'suffix': '.png'}}, {'id': 13388, 'name': 'Wings Joint', 'icon': {'prefix': 'https://ss3.4sqi.net/img/categories_v2/food/wings_', 'suffix': '.png'}}]\", 231, 43.648296, -79.449581, '305A Roncesvalles Ave')\n",
      "('High Park Brewery', \"[{'id': 13029, 'name': 'Brewery', 'icon': {'prefix': 'https://ss3.4sqi.net/img/categories_v2/food/brewery_', 'suffix': '.png'}}]\", 231, 43.66991, -79.483315, '839 Runnymede Rd')\n",
      "('Wvrst Union Station', \"[{'id': 13006, 'name': 'Beer Bar', 'icon': {'prefix': 'https://ss3.4sqi.net/img/categories_v2/nightlife/pub_', 'suffix': '.png'}}]\", 236, 43.644898, -79.381397, '65 Front St W')\n",
      "('Crooked Cue', \"[{'id': 10045, 'name': 'Pool Hall', 'icon': {'prefix': 'https://ss3.4sqi.net/img/categories_v2/arts_entertainment/billiards_', 'suffix': '.png'}}, {'id': 13016, 'name': 'Lounge', 'icon': {'prefix': 'https://ss3.4sqi.net/img/categories_v2/nightlife/default_', 'suffix': '.png'}}, {'id': 13065, 'name': 'Restaurant', 'icon': {'prefix': 'https://ss3.4sqi.net/img/categories_v2/food/default_', 'suffix': '.png'}}]\", 239, 43.64717, -79.513118, '3056 Bloor St W')\n",
      "('Black Lab Brewing', \"[{'id': 13029, 'name': 'Brewery', 'icon': {'prefix': 'https://ss3.4sqi.net/img/categories_v2/food/brewery_', 'suffix': '.png'}}]\", 248, 43.661871, -79.329063, '818 Eastern Ave')\n",
      "('Roundhouse Park', \"[{'id': 16032, 'name': 'Park', 'icon': {'prefix': 'https://ss3.4sqi.net/img/categories_v2/parks_outdoors/park_', 'suffix': '.png'}}]\", 252, 43.641748, -79.38613, '255 Bremner Blvd')\n",
      "('Pour House Irish Pub', \"[{'id': 13018, 'name': 'Pub', 'icon': {'prefix': 'https://ss3.4sqi.net/img/categories_v2/nightlife/pub_', 'suffix': '.png'}}, {'id': 13065, 'name': 'Restaurant', 'icon': {'prefix': 'https://ss3.4sqi.net/img/categories_v2/food/default_', 'suffix': '.png'}}]\", 254, 43.67566, -79.403834, '182 Dupont St')\n",
      "('The Loose Moose Tap & Grill', \"[{'id': 13007, 'name': 'Beer Garden', 'icon': {'prefix': 'https://ss3.4sqi.net/img/categories_v2/nightlife/beergarden_', 'suffix': '.png'}}, {'id': 13026, 'name': 'BBQ Joint', 'icon': {'prefix': 'https://ss3.4sqi.net/img/categories_v2/food/bbqalt_', 'suffix': '.png'}}, {'id': 13383, 'name': 'Steakhouse', 'icon': {'prefix': 'https://ss3.4sqi.net/img/categories_v2/food/steakhouse_', 'suffix': '.png'}}]\", 273, 43.64533, -79.383943, '146 Front St W')\n",
      "('The Greater Good Bar', \"[{'id': 13003, 'name': 'Bar', 'icon': {'prefix': 'https://ss3.4sqi.net/img/categories_v2/nightlife/pub_', 'suffix': '.png'}}, {'id': 13064, 'name': 'Pizzeria', 'icon': {'prefix': 'https://ss3.4sqi.net/img/categories_v2/food/pizza_', 'suffix': '.png'}}]\", 276, 43.669324, -79.439163, '229 Geary Ave')\n",
      "('Dirt Floor Brewing', \"[{'id': 13029, 'name': 'Brewery', 'icon': {'prefix': 'https://ss3.4sqi.net/img/categories_v2/food/brewery_', 'suffix': '.png'}}]\", 282, 43.693714, -79.267095, '30 Phenix Dr')\n",
      "('True History Brewing', \"[{'id': 13029, 'name': 'Brewery', 'icon': {'prefix': 'https://ss3.4sqi.net/img/categories_v2/food/brewery_', 'suffix': '.png'}}]\", 291, 43.678423, -79.442213, '1154 St Clair Ave W')\n",
      "('Beer Store', \"[{'id': 17058, 'name': 'Beer Store', 'icon': {'prefix': 'https://ss3.4sqi.net/img/categories_v2/nightlife/beergarden_', 'suffix': '.png'}}]\", 293, 43.661466, -79.370427, '227 Gerrard St E')\n",
      "('Brass Taps Pizza Pub', \"[{'id': 13016, 'name': 'Lounge', 'icon': {'prefix': 'https://ss3.4sqi.net/img/categories_v2/nightlife/default_', 'suffix': '.png'}}, {'id': 13018, 'name': 'Pub', 'icon': {'prefix': 'https://ss3.4sqi.net/img/categories_v2/nightlife/pub_', 'suffix': '.png'}}, {'id': 13064, 'name': 'Pizzeria', 'icon': {'prefix': 'https://ss3.4sqi.net/img/categories_v2/food/pizza_', 'suffix': '.png'}}]\", 296, 43.653765, -79.426194, '934 College St')\n",
      "('Saulter Street Brewery', \"[{'id': 13003, 'name': 'Bar', 'icon': {'prefix': 'https://ss3.4sqi.net/img/categories_v2/nightlife/pub_', 'suffix': '.png'}}, {'id': 13029, 'name': 'Brewery', 'icon': {'prefix': 'https://ss3.4sqi.net/img/categories_v2/food/brewery_', 'suffix': '.png'}}, {'id': 13065, 'name': 'Restaurant', 'icon': {'prefix': 'https://ss3.4sqi.net/img/categories_v2/food/default_', 'suffix': '.png'}}]\", 303, 43.658488, -79.346389, '31 Saulter St')\n",
      "('Beer Store', \"[{'id': 17058, 'name': 'Beer Store', 'icon': {'prefix': 'https://ss3.4sqi.net/img/categories_v2/nightlife/beergarden_', 'suffix': '.png'}}]\", 310, 43.71356, -79.272265, '3431 St Clair Ave E')\n",
      "(\"The Monk's Kettle\", \"[{'id': 13057, 'name': 'Gastropub', 'icon': {'prefix': 'https://ss3.4sqi.net/img/categories_v2/food/gastropub_', 'suffix': '.png'}}]\", 311, 43.646678, -79.513693, '3073 Bloor St W')\n",
      "('The Feathers Pub', \"[{'id': 13016, 'name': 'Lounge', 'icon': {'prefix': 'https://ss3.4sqi.net/img/categories_v2/nightlife/default_', 'suffix': '.png'}}, {'id': 13018, 'name': 'Pub', 'icon': {'prefix': 'https://ss3.4sqi.net/img/categories_v2/nightlife/pub_', 'suffix': '.png'}}, {'id': 13142, 'name': 'English Restaurant', 'icon': {'prefix': 'https://ss3.4sqi.net/img/categories_v2/food/default_', 'suffix': '.png'}}]\", 318, 43.680635, -79.287451, '962 Kingston Rd')\n",
      "('Laylow Beer Bar and Eatery', \"[{'id': 13006, 'name': 'Beer Bar', 'icon': {'prefix': 'https://ss3.4sqi.net/img/categories_v2/nightlife/pub_', 'suffix': '.png'}}, {'id': 13029, 'name': 'Brewery', 'icon': {'prefix': 'https://ss3.4sqi.net/img/categories_v2/food/brewery_', 'suffix': '.png'}}, {'id': 13065, 'name': 'Restaurant', 'icon': {'prefix': 'https://ss3.4sqi.net/img/categories_v2/food/default_', 'suffix': '.png'}}]\", 324, 43.652422, -79.433833, '1144 College St')\n",
      "('4th and 7', \"[{'id': 17058, 'name': 'Beer Store', 'icon': {'prefix': 'https://ss3.4sqi.net/img/categories_v2/nightlife/beergarden_', 'suffix': '.png'}}]\", 342, 43.653247, -79.42714, '967 College St')\n",
      "('Society Clubhouse', \"[{'id': 13006, 'name': 'Beer Bar', 'icon': {'prefix': 'https://ss3.4sqi.net/img/categories_v2/nightlife/pub_', 'suffix': '.png'}}]\", 344, 43.653233, -79.427324, '967 College St')\n",
      "('Bellwoods Brewery', \"[{'id': 13003, 'name': 'Bar', 'icon': {'prefix': 'https://ss3.4sqi.net/img/categories_v2/nightlife/pub_', 'suffix': '.png'}}, {'id': 13029, 'name': 'Brewery', 'icon': {'prefix': 'https://ss3.4sqi.net/img/categories_v2/food/brewery_', 'suffix': '.png'}}, {'id': 13065, 'name': 'Restaurant', 'icon': {'prefix': 'https://ss3.4sqi.net/img/categories_v2/food/default_', 'suffix': '.png'}}]\", 348, 43.647131, -79.420177, '124 Ossington Ave')\n",
      "('Bellwoods Brewery Bottle Shop', \"[{'id': 17058, 'name': 'Beer Store', 'icon': {'prefix': 'https://ss3.4sqi.net/img/categories_v2/nightlife/beergarden_', 'suffix': '.png'}}]\", 351, 43.647124, -79.420269, '126 Ossington Ave')\n",
      "('Beaches Brewing Co', \"[{'id': 13029, 'name': 'Brewery', 'icon': {'prefix': 'https://ss3.4sqi.net/img/categories_v2/food/brewery_', 'suffix': '.png'}}]\", 353, 43.669351, -79.302327, '1953 Queen St E')\n",
      "('Beer Store', \"[{'id': 17058, 'name': 'Beer Store', 'icon': {'prefix': 'https://ss3.4sqi.net/img/categories_v2/nightlife/beergarden_', 'suffix': '.png'}}]\", 368, 43.657452, -79.345196, '400 Eastern Ave')\n",
      "('Nickel 9 Distillery', \"[{'id': 13029, 'name': 'Brewery', 'icon': {'prefix': 'https://ss3.4sqi.net/img/categories_v2/food/brewery_', 'suffix': '.png'}}, {'id': 13050, 'name': 'Distillery', 'icon': {'prefix': 'https://ss3.4sqi.net/img/categories_v2/food/brewery_', 'suffix': '.png'}}, {'id': 13065, 'name': 'Restaurant', 'icon': {'prefix': 'https://ss3.4sqi.net/img/categories_v2/food/default_', 'suffix': '.png'}}]\", 392, 43.67034, -79.464442, '90 Cawthra Ave')\n",
      "('Trios Bistro', \"[{'id': 13027, 'name': 'Bistro', 'icon': {'prefix': 'https://ss3.4sqi.net/img/categories_v2/food/default_', 'suffix': '.png'}}, {'id': 13148, 'name': 'French Restaurant', 'icon': {'prefix': 'https://ss3.4sqi.net/img/categories_v2/food/french_', 'suffix': '.png'}}]\", 420, 43.654605, -79.382988, '525 Bay St')\n",
      "('Black Creek Pioneer Village', \"[{'id': 10027, 'name': 'Museum', 'icon': {'prefix': 'https://ss3.4sqi.net/img/categories_v2/arts_entertainment/museum_', 'suffix': '.png'}}]\", 420, 43.77393, -79.51536, '1000 Murray Ross Pky')\n",
      "('Left Field Brewery', \"[{'id': 13029, 'name': 'Brewery', 'icon': {'prefix': 'https://ss3.4sqi.net/img/categories_v2/food/brewery_', 'suffix': '.png'}}]\", 421, 43.673789, -79.330385, '36 Wagstaff Dr')\n",
      "('Beer Store', \"[{'id': 17058, 'name': 'Beer Store', 'icon': {'prefix': 'https://ss3.4sqi.net/img/categories_v2/nightlife/beergarden_', 'suffix': '.png'}}]\", 434, 43.694295, -79.343453, '380 Donlands Ave')\n",
      "('Beer Store', \"[{'id': 17058, 'name': 'Beer Store', 'icon': {'prefix': 'https://ss3.4sqi.net/img/categories_v2/nightlife/beergarden_', 'suffix': '.png'}}]\", 446, 43.656738, -79.380663, '10 Dundas St E')\n",
      "('Dong Slayer Hq', \"[{'id': 13029, 'name': 'Brewery', 'icon': {'prefix': 'https://ss3.4sqi.net/img/categories_v2/food/brewery_', 'suffix': '.png'}}]\", 452, 43.665823, -79.494628, '3635 Dundas St W')\n",
      "('Always - Dial a Bottle Delivery - Toronto', \"[{'id': 11163, 'name': 'Shipping, Freight, and Material Transportation Service', 'icon': {'prefix': 'https://ss3.4sqi.net/img/categories_v2/shops/default_', 'suffix': '.png'}}, {'id': 17058, 'name': 'Beer Store', 'icon': {'prefix': 'https://ss3.4sqi.net/img/categories_v2/nightlife/beergarden_', 'suffix': '.png'}}]\", 459, 43.679714, -79.31046, '718 Woodbine Ave')\n",
      "('Beer Store', \"[{'id': 17058, 'name': 'Beer Store', 'icon': {'prefix': 'https://ss3.4sqi.net/img/categories_v2/nightlife/beergarden_', 'suffix': '.png'}}]\", 474, 43.75653, -79.519296, '2005 Finch Ave W')\n",
      "('Black Creek Historic Brewery', \"[{'id': 13029, 'name': 'Brewery', 'icon': {'prefix': 'https://ss3.4sqi.net/img/categories_v2/food/brewery_', 'suffix': '.png'}}]\", 494, 43.774968, -79.516993, '1000 Murray Ross Pky')\n",
      "('Beer Store', \"[{'id': 17058, 'name': 'Beer Store', 'icon': {'prefix': 'https://ss3.4sqi.net/img/categories_v2/nightlife/beergarden_', 'suffix': '.png'}}]\", 511, 43.780181, -79.137602, '5544 Lawrence Ave E')\n",
      "('Amsterdam Barrel House', \"[{'id': 13029, 'name': 'Brewery', 'icon': {'prefix': 'https://ss3.4sqi.net/img/categories_v2/food/brewery_', 'suffix': '.png'}}, {'id': 13065, 'name': 'Restaurant', 'icon': {'prefix': 'https://ss3.4sqi.net/img/categories_v2/food/default_', 'suffix': '.png'}}]\", 524, 43.70604, -79.361227, '87 Laird Dr')\n",
      "('Toronto Brewing Company Inc', \"[{'id': 13003, 'name': 'Bar', 'icon': {'prefix': 'https://ss3.4sqi.net/img/categories_v2/nightlife/pub_', 'suffix': '.png'}}, {'id': 13029, 'name': 'Brewery', 'icon': {'prefix': 'https://ss3.4sqi.net/img/categories_v2/food/brewery_', 'suffix': '.png'}}]\", 576, 43.756256, -79.474077, '3701 Chesswood Dr')\n",
      "('The Beer Store', \"[{'id': 17058, 'name': 'Beer Store', 'icon': {'prefix': 'https://ss3.4sqi.net/img/categories_v2/nightlife/beergarden_', 'suffix': '.png'}}]\", 581, 43.594475, -79.534333, '3580 Lake Shore Blvd W')\n",
      "('Lcbo', \"[{'id': 17076, 'name': 'Liquor Store', 'icon': {'prefix': 'https://ss3.4sqi.net/img/categories_v2/shops/food_liquor_', 'suffix': '.png'}}]\", 584, 43.779592, -79.138777, '5508 Lawrence Ave E')\n",
      "('Long Branch Brewery', \"[{'id': 13029, 'name': 'Brewery', 'icon': {'prefix': 'https://ss3.4sqi.net/img/categories_v2/food/brewery_', 'suffix': '.png'}}]\", 586, 43.595944, -79.534198, '115 Long Branch Ave')\n",
      "('Walrus Pub & Beer Hall', \"[{'id': 13018, 'name': 'Pub', 'icon': {'prefix': 'https://ss3.4sqi.net/img/categories_v2/nightlife/pub_', 'suffix': '.png'}}, {'id': 13065, 'name': 'Restaurant', 'icon': {'prefix': 'https://ss3.4sqi.net/img/categories_v2/food/default_', 'suffix': '.png'}}]\", 589, 43.6475, -79.379567, '187 Bay St')\n",
      "('CN Tower', \"[{'id': 16007, 'name': 'Structure', 'icon': {'prefix': 'https://ss3.4sqi.net/img/categories_v2/building/default_', 'suffix': '.png'}}]\", 598, 43.642593, -79.38709, '301 Front St W')\n",
      "('Beer Store', \"[{'id': 17058, 'name': 'Beer Store', 'icon': {'prefix': 'https://ss3.4sqi.net/img/categories_v2/nightlife/beergarden_', 'suffix': '.png'}}]\", 599, 43.70582, -79.360396, '89 Laird Dr')\n",
      "('Corks Beer & Wine Bars', \"[{'id': 13025, 'name': 'Wine Bar', 'icon': {'prefix': 'https://ss3.4sqi.net/img/categories_v2/food/winery_', 'suffix': '.png'}}, {'id': 13065, 'name': 'Restaurant', 'icon': {'prefix': 'https://ss3.4sqi.net/img/categories_v2/food/default_', 'suffix': '.png'}}]\", 644, 43.706605, -79.359632, '93 Laird Dr')\n",
      "('Junction Craft Brewing', \"[{'id': 13003, 'name': 'Bar', 'icon': {'prefix': 'https://ss3.4sqi.net/img/categories_v2/nightlife/pub_', 'suffix': '.png'}}, {'id': 13029, 'name': 'Brewery', 'icon': {'prefix': 'https://ss3.4sqi.net/img/categories_v2/food/brewery_', 'suffix': '.png'}}, {'id': 13065, 'name': 'Restaurant', 'icon': {'prefix': 'https://ss3.4sqi.net/img/categories_v2/food/default_', 'suffix': '.png'}}]\", 674, 43.673176, -79.478603, '150 Symes Rd')\n",
      "('Shacklands Brewing Co', \"[{'id': 13003, 'name': 'Bar', 'icon': {'prefix': 'https://ss3.4sqi.net/img/categories_v2/nightlife/pub_', 'suffix': '.png'}}, {'id': 13029, 'name': 'Brewery', 'icon': {'prefix': 'https://ss3.4sqi.net/img/categories_v2/food/brewery_', 'suffix': '.png'}}]\", 682, 43.672528, -79.479013, '100 Symes Rd')\n",
      "('Rainhard Brewing Co', \"[{'id': 13006, 'name': 'Beer Bar', 'icon': {'prefix': 'https://ss3.4sqi.net/img/categories_v2/nightlife/pub_', 'suffix': '.png'}}, {'id': 13029, 'name': 'Brewery', 'icon': {'prefix': 'https://ss3.4sqi.net/img/categories_v2/food/brewery_', 'suffix': '.png'}}]\", 687, 43.672607, -79.478699, '100 Symes Rd')\n",
      "('Shacklands Brewing', \"[{'id': 13029, 'name': 'Brewery', 'icon': {'prefix': 'https://ss3.4sqi.net/img/categories_v2/food/brewery_', 'suffix': '.png'}}]\", 688, 43.672875, -79.478882, '100 Symes Rd')\n",
      "('St. Mary Axe', \"[{'id': 13029, 'name': 'Brewery', 'icon': {'prefix': 'https://ss3.4sqi.net/img/categories_v2/food/brewery_', 'suffix': '.png'}}]\", 714, 43.673076, -79.479195, '150 Symes Rd')\n",
      "('Muddy York Brewing Co', \"[{'id': 13003, 'name': 'Bar', 'icon': {'prefix': 'https://ss3.4sqi.net/img/categories_v2/nightlife/pub_', 'suffix': '.png'}}, {'id': 13029, 'name': 'Brewery', 'icon': {'prefix': 'https://ss3.4sqi.net/img/categories_v2/food/brewery_', 'suffix': '.png'}}, {'id': 13065, 'name': 'Restaurant', 'icon': {'prefix': 'https://ss3.4sqi.net/img/categories_v2/food/default_', 'suffix': '.png'}}]\", 752, 43.712438, -79.312203, '22 Cranfield Rd')\n",
      "('Beer Store', \"[{'id': 17058, 'name': 'Beer Store', 'icon': {'prefix': 'https://ss3.4sqi.net/img/categories_v2/nightlife/beergarden_', 'suffix': '.png'}}]\", 770, 43.679986, -79.469971, '1515 Keele St')\n",
      "('Amsterdam Brewery', \"[{'id': 13029, 'name': 'Brewery', 'icon': {'prefix': 'https://ss3.4sqi.net/img/categories_v2/food/brewery_', 'suffix': '.png'}}]\", 777, 43.706394, -79.357118, '45 Esandar Dr')\n",
      "('Amsterdam Brewing Co', \"[{'id': 13029, 'name': 'Brewery', 'icon': {'prefix': 'https://ss3.4sqi.net/img/categories_v2/food/brewery_', 'suffix': '.png'}}, {'id': 13065, 'name': 'Restaurant', 'icon': {'prefix': 'https://ss3.4sqi.net/img/categories_v2/food/default_', 'suffix': '.png'}}]\", 797, 43.706897, -79.357151, '45 Esandar Dr')\n",
      "('Brunswick Bier Works', \"[{'id': 13029, 'name': 'Brewery', 'icon': {'prefix': 'https://ss3.4sqi.net/img/categories_v2/food/brewery_', 'suffix': '.png'}}, {'id': 13065, 'name': 'Restaurant', 'icon': {'prefix': 'https://ss3.4sqi.net/img/categories_v2/food/default_', 'suffix': '.png'}}]\", 799, 43.710282, -79.317199, '25 Curity Ave')\n",
      "('The Beer Store', \"[{'id': 17058, 'name': 'Beer Store', 'icon': {'prefix': 'https://ss3.4sqi.net/img/categories_v2/nightlife/beergarden_', 'suffix': '.png'}}]\", 809, 43.63851, -79.38898, '3250 Queens Quay W')\n",
      "('Scotiabank Arena', \"[{'id': 10051, 'name': 'Stadium', 'icon': {'prefix': 'https://ss3.4sqi.net/img/categories_v2/arts_entertainment/stadium_', 'suffix': '.png'}}]\", 830, 43.643485, -79.379209, '50 Bay St')\n",
      "('TORONTO DIAL a BOTTLE - Beer Liquor Wine Delivery', \"[{'id': 17076, 'name': 'Liquor Store', 'icon': {'prefix': 'https://ss3.4sqi.net/img/categories_v2/shops/food_liquor_', 'suffix': '.png'}}]\", 848, 43.654334, -79.398327, '23 Lascelles Blvd')\n",
      "('TilesInspired', \"[{'id': 11079, 'name': 'Carpet and Flooring Contractor', 'icon': {'prefix': 'https://ss3.4sqi.net/img/categories_v2/shops/realestate_', 'suffix': '.png'}}, {'id': 13050, 'name': 'Distillery', 'icon': {'prefix': 'https://ss3.4sqi.net/img/categories_v2/food/brewery_', 'suffix': '.png'}}]\", 877, 43.734701, -79.241256, '80 Barbados Blvd')\n",
      "('Great Lakes Brewing Company Inc', \"[{'id': 13006, 'name': 'Beer Bar', 'icon': {'prefix': 'https://ss3.4sqi.net/img/categories_v2/nightlife/pub_', 'suffix': '.png'}}, {'id': 13029, 'name': 'Brewery', 'icon': {'prefix': 'https://ss3.4sqi.net/img/categories_v2/food/brewery_', 'suffix': '.png'}}]\", 887, 43.62301, -79.505047, '30 Queen Elizabeth Blvd')\n",
      "('Indie Alehouse Production Facility', \"[{'id': 13029, 'name': 'Brewery', 'icon': {'prefix': 'https://ss3.4sqi.net/img/categories_v2/food/brewery_', 'suffix': '.png'}}]\", 954, 43.607706, -79.517004, '215 Horner Ave')\n",
      "(\"Soda Centre & Home Brewer's Retail\", \"[{'id': 17058, 'name': 'Beer Store', 'icon': {'prefix': 'https://ss3.4sqi.net/img/categories_v2/nightlife/beergarden_', 'suffix': '.png'}}, {'id': 17076, 'name': 'Liquor Store', 'icon': {'prefix': 'https://ss3.4sqi.net/img/categories_v2/shops/food_liquor_', 'suffix': '.png'}}, {'id': 17080, 'name': 'Wine Store', 'icon': {'prefix': 'https://ss3.4sqi.net/img/categories_v2/shops/food_wineshop_', 'suffix': '.png'}}]\", 958, 43.758222, -79.198781, '4180 Kingston Rd')\n",
      "('Marcheleos Marketplace', \"[{'id': 17069, 'name': 'Grocery Store', 'icon': {'prefix': 'https://ss3.4sqi.net/img/categories_v2/shops/food_grocery_', 'suffix': '.png'}}]\", 994, 43.727444, -79.326136, '150 Wynford Dr')\n",
      "('Beer Store', \"[{'id': 17058, 'name': 'Beer Store', 'icon': {'prefix': 'https://ss3.4sqi.net/img/categories_v2/nightlife/beergarden_', 'suffix': '.png'}}]\", 5882, 43.663492, -79.328384, '761 Queen St W')\n"
     ]
    }
   ],
   "source": [
    "select_fsq = \"SELECT * FROM fsq_results\"\n",
    "fsq = execute_read_query(connection,select_fsq)\n",
    "\n",
    "for business in fsq:\n",
    "    print(business)"
   ]
  },
  {
   "cell_type": "code",
   "execution_count": 126,
   "metadata": {
    "tags": []
   },
   "outputs": [
    {
     "data": {
      "text/html": [
       "<div>\n",
       "<style scoped>\n",
       "    .dataframe tbody tr th:only-of-type {\n",
       "        vertical-align: middle;\n",
       "    }\n",
       "\n",
       "    .dataframe tbody tr th {\n",
       "        vertical-align: top;\n",
       "    }\n",
       "\n",
       "    .dataframe thead th {\n",
       "        text-align: right;\n",
       "    }\n",
       "</style>\n",
       "<table border=\"1\" class=\"dataframe\">\n",
       "  <thead>\n",
       "    <tr style=\"text-align: right;\">\n",
       "      <th></th>\n",
       "      <th>0</th>\n",
       "      <th>1</th>\n",
       "      <th>2</th>\n",
       "      <th>3</th>\n",
       "      <th>4</th>\n",
       "      <th>5</th>\n",
       "      <th>6</th>\n",
       "      <th>7</th>\n",
       "    </tr>\n",
       "  </thead>\n",
       "  <tbody>\n",
       "    <tr>\n",
       "      <th>0</th>\n",
       "      <td>The 3 Brewers</td>\n",
       "      <td>43.655510</td>\n",
       "      <td>-79.380270</td>\n",
       "      <td>33.455415</td>\n",
       "      <td>43.655472</td>\n",
       "      <td>-79.380321</td>\n",
       "      <td>19</td>\n",
       "      <td>3.0</td>\n",
       "    </tr>\n",
       "    <tr>\n",
       "      <th>1</th>\n",
       "      <td>The 3 Brewers</td>\n",
       "      <td>43.655510</td>\n",
       "      <td>-79.380270</td>\n",
       "      <td>33.455415</td>\n",
       "      <td>43.655472</td>\n",
       "      <td>-79.380321</td>\n",
       "      <td>19</td>\n",
       "      <td>3.0</td>\n",
       "    </tr>\n",
       "    <tr>\n",
       "      <th>2</th>\n",
       "      <td>The Aviary</td>\n",
       "      <td>43.653680</td>\n",
       "      <td>-79.354680</td>\n",
       "      <td>52.391710</td>\n",
       "      <td>43.653525</td>\n",
       "      <td>-79.354485</td>\n",
       "      <td>48</td>\n",
       "      <td>3.0</td>\n",
       "    </tr>\n",
       "    <tr>\n",
       "      <th>3</th>\n",
       "      <td>The Aviary</td>\n",
       "      <td>43.653680</td>\n",
       "      <td>-79.354680</td>\n",
       "      <td>52.391710</td>\n",
       "      <td>43.653525</td>\n",
       "      <td>-79.354485</td>\n",
       "      <td>48</td>\n",
       "      <td>3.0</td>\n",
       "    </tr>\n",
       "    <tr>\n",
       "      <th>4</th>\n",
       "      <td>Old Flame Brewing</td>\n",
       "      <td>43.650585</td>\n",
       "      <td>-79.357523</td>\n",
       "      <td>65.210255</td>\n",
       "      <td>43.651051</td>\n",
       "      <td>-79.357646</td>\n",
       "      <td>30</td>\n",
       "      <td>5.0</td>\n",
       "    </tr>\n",
       "    <tr>\n",
       "      <th>5</th>\n",
       "      <td>Old Flame Brewing</td>\n",
       "      <td>43.650585</td>\n",
       "      <td>-79.357523</td>\n",
       "      <td>65.210255</td>\n",
       "      <td>43.651051</td>\n",
       "      <td>-79.357646</td>\n",
       "      <td>30</td>\n",
       "      <td>5.0</td>\n",
       "    </tr>\n",
       "    <tr>\n",
       "      <th>6</th>\n",
       "      <td>Duke of York</td>\n",
       "      <td>43.669190</td>\n",
       "      <td>-79.397390</td>\n",
       "      <td>111.018233</td>\n",
       "      <td>43.669174</td>\n",
       "      <td>-79.397280</td>\n",
       "      <td>108</td>\n",
       "      <td>3.5</td>\n",
       "    </tr>\n",
       "    <tr>\n",
       "      <th>7</th>\n",
       "      <td>Duke of York</td>\n",
       "      <td>43.669190</td>\n",
       "      <td>-79.397390</td>\n",
       "      <td>111.018233</td>\n",
       "      <td>43.669174</td>\n",
       "      <td>-79.397280</td>\n",
       "      <td>108</td>\n",
       "      <td>3.5</td>\n",
       "    </tr>\n",
       "    <tr>\n",
       "      <th>8</th>\n",
       "      <td>Mill Street Retail Store</td>\n",
       "      <td>43.650442</td>\n",
       "      <td>-79.358443</td>\n",
       "      <td>130.864073</td>\n",
       "      <td>43.650200</td>\n",
       "      <td>-79.359334</td>\n",
       "      <td>139</td>\n",
       "      <td>3.5</td>\n",
       "    </tr>\n",
       "    <tr>\n",
       "      <th>9</th>\n",
       "      <td>Mill Street Retail Store</td>\n",
       "      <td>43.650442</td>\n",
       "      <td>-79.358443</td>\n",
       "      <td>130.864073</td>\n",
       "      <td>43.650200</td>\n",
       "      <td>-79.359334</td>\n",
       "      <td>139</td>\n",
       "      <td>3.5</td>\n",
       "    </tr>\n",
       "    <tr>\n",
       "      <th>10</th>\n",
       "      <td>Mill Street Brew Pub</td>\n",
       "      <td>43.650442</td>\n",
       "      <td>-79.358443</td>\n",
       "      <td>130.864073</td>\n",
       "      <td>43.650541</td>\n",
       "      <td>-79.358500</td>\n",
       "      <td>123</td>\n",
       "      <td>3.5</td>\n",
       "    </tr>\n",
       "    <tr>\n",
       "      <th>11</th>\n",
       "      <td>Mill Street Brew Pub</td>\n",
       "      <td>43.650442</td>\n",
       "      <td>-79.358443</td>\n",
       "      <td>130.864073</td>\n",
       "      <td>43.650541</td>\n",
       "      <td>-79.358500</td>\n",
       "      <td>123</td>\n",
       "      <td>3.5</td>\n",
       "    </tr>\n",
       "    <tr>\n",
       "      <th>12</th>\n",
       "      <td>Mill Street Beer Hall</td>\n",
       "      <td>43.650442</td>\n",
       "      <td>-79.358443</td>\n",
       "      <td>130.864073</td>\n",
       "      <td>43.650541</td>\n",
       "      <td>-79.358500</td>\n",
       "      <td>123</td>\n",
       "      <td>3.0</td>\n",
       "    </tr>\n",
       "    <tr>\n",
       "      <th>13</th>\n",
       "      <td>Mill Street Beer Hall</td>\n",
       "      <td>43.650442</td>\n",
       "      <td>-79.358443</td>\n",
       "      <td>130.864073</td>\n",
       "      <td>43.650541</td>\n",
       "      <td>-79.358500</td>\n",
       "      <td>123</td>\n",
       "      <td>3.0</td>\n",
       "    </tr>\n",
       "    <tr>\n",
       "      <th>14</th>\n",
       "      <td>Izumi Ontario Spring Water Sake Company</td>\n",
       "      <td>43.649890</td>\n",
       "      <td>-79.360020</td>\n",
       "      <td>135.730349</td>\n",
       "      <td>43.649827</td>\n",
       "      <td>-79.359836</td>\n",
       "      <td>130</td>\n",
       "      <td>4.5</td>\n",
       "    </tr>\n",
       "    <tr>\n",
       "      <th>15</th>\n",
       "      <td>Izumi Ontario Spring Water Sake Company</td>\n",
       "      <td>43.649890</td>\n",
       "      <td>-79.360020</td>\n",
       "      <td>135.730349</td>\n",
       "      <td>43.649827</td>\n",
       "      <td>-79.359836</td>\n",
       "      <td>130</td>\n",
       "      <td>4.5</td>\n",
       "    </tr>\n",
       "    <tr>\n",
       "      <th>16</th>\n",
       "      <td>The Beer Store</td>\n",
       "      <td>43.666200</td>\n",
       "      <td>-79.489160</td>\n",
       "      <td>164.476604</td>\n",
       "      <td>43.666276</td>\n",
       "      <td>-79.489229</td>\n",
       "      <td>125</td>\n",
       "      <td>2.5</td>\n",
       "    </tr>\n",
       "    <tr>\n",
       "      <th>17</th>\n",
       "      <td>The Beer Store</td>\n",
       "      <td>43.666200</td>\n",
       "      <td>-79.489160</td>\n",
       "      <td>164.476604</td>\n",
       "      <td>43.666276</td>\n",
       "      <td>-79.489229</td>\n",
       "      <td>125</td>\n",
       "      <td>2.5</td>\n",
       "    </tr>\n",
       "    <tr>\n",
       "      <th>18</th>\n",
       "      <td>Amsterdam BrewHouse</td>\n",
       "      <td>43.637912</td>\n",
       "      <td>-79.384731</td>\n",
       "      <td>195.513326</td>\n",
       "      <td>43.637859</td>\n",
       "      <td>-79.384810</td>\n",
       "      <td>209</td>\n",
       "      <td>3.5</td>\n",
       "    </tr>\n",
       "    <tr>\n",
       "      <th>19</th>\n",
       "      <td>Amsterdam BrewHouse</td>\n",
       "      <td>43.637912</td>\n",
       "      <td>-79.384731</td>\n",
       "      <td>195.513326</td>\n",
       "      <td>43.637859</td>\n",
       "      <td>-79.384810</td>\n",
       "      <td>209</td>\n",
       "      <td>3.5</td>\n",
       "    </tr>\n",
       "    <tr>\n",
       "      <th>20</th>\n",
       "      <td>Brass Taps Pizza Pub</td>\n",
       "      <td>43.653900</td>\n",
       "      <td>-79.426130</td>\n",
       "      <td>291.012289</td>\n",
       "      <td>43.653765</td>\n",
       "      <td>-79.426194</td>\n",
       "      <td>296</td>\n",
       "      <td>3.5</td>\n",
       "    </tr>\n",
       "    <tr>\n",
       "      <th>21</th>\n",
       "      <td>Brass Taps Pizza Pub</td>\n",
       "      <td>43.653900</td>\n",
       "      <td>-79.426130</td>\n",
       "      <td>291.012289</td>\n",
       "      <td>43.653765</td>\n",
       "      <td>-79.426194</td>\n",
       "      <td>296</td>\n",
       "      <td>3.5</td>\n",
       "    </tr>\n",
       "  </tbody>\n",
       "</table>\n",
       "</div>"
      ],
      "text/plain": [
       "                                          0          1          2           3  \\\n",
       "0                             The 3 Brewers  43.655510 -79.380270   33.455415   \n",
       "1                             The 3 Brewers  43.655510 -79.380270   33.455415   \n",
       "2                                The Aviary  43.653680 -79.354680   52.391710   \n",
       "3                                The Aviary  43.653680 -79.354680   52.391710   \n",
       "4                         Old Flame Brewing  43.650585 -79.357523   65.210255   \n",
       "5                         Old Flame Brewing  43.650585 -79.357523   65.210255   \n",
       "6                              Duke of York  43.669190 -79.397390  111.018233   \n",
       "7                              Duke of York  43.669190 -79.397390  111.018233   \n",
       "8                  Mill Street Retail Store  43.650442 -79.358443  130.864073   \n",
       "9                  Mill Street Retail Store  43.650442 -79.358443  130.864073   \n",
       "10                     Mill Street Brew Pub  43.650442 -79.358443  130.864073   \n",
       "11                     Mill Street Brew Pub  43.650442 -79.358443  130.864073   \n",
       "12                    Mill Street Beer Hall  43.650442 -79.358443  130.864073   \n",
       "13                    Mill Street Beer Hall  43.650442 -79.358443  130.864073   \n",
       "14  Izumi Ontario Spring Water Sake Company  43.649890 -79.360020  135.730349   \n",
       "15  Izumi Ontario Spring Water Sake Company  43.649890 -79.360020  135.730349   \n",
       "16                           The Beer Store  43.666200 -79.489160  164.476604   \n",
       "17                           The Beer Store  43.666200 -79.489160  164.476604   \n",
       "18                      Amsterdam BrewHouse  43.637912 -79.384731  195.513326   \n",
       "19                      Amsterdam BrewHouse  43.637912 -79.384731  195.513326   \n",
       "20                     Brass Taps Pizza Pub  43.653900 -79.426130  291.012289   \n",
       "21                     Brass Taps Pizza Pub  43.653900 -79.426130  291.012289   \n",
       "\n",
       "            4          5    6    7  \n",
       "0   43.655472 -79.380321   19  3.0  \n",
       "1   43.655472 -79.380321   19  3.0  \n",
       "2   43.653525 -79.354485   48  3.0  \n",
       "3   43.653525 -79.354485   48  3.0  \n",
       "4   43.651051 -79.357646   30  5.0  \n",
       "5   43.651051 -79.357646   30  5.0  \n",
       "6   43.669174 -79.397280  108  3.5  \n",
       "7   43.669174 -79.397280  108  3.5  \n",
       "8   43.650200 -79.359334  139  3.5  \n",
       "9   43.650200 -79.359334  139  3.5  \n",
       "10  43.650541 -79.358500  123  3.5  \n",
       "11  43.650541 -79.358500  123  3.5  \n",
       "12  43.650541 -79.358500  123  3.0  \n",
       "13  43.650541 -79.358500  123  3.0  \n",
       "14  43.649827 -79.359836  130  4.5  \n",
       "15  43.649827 -79.359836  130  4.5  \n",
       "16  43.666276 -79.489229  125  2.5  \n",
       "17  43.666276 -79.489229  125  2.5  \n",
       "18  43.637859 -79.384810  209  3.5  \n",
       "19  43.637859 -79.384810  209  3.5  \n",
       "20  43.653765 -79.426194  296  3.5  \n",
       "21  43.653765 -79.426194  296  3.5  "
      ]
     },
     "execution_count": 126,
     "metadata": {},
     "output_type": "execute_result"
    }
   ],
   "source": [
    "joined_table = \"SELECT fsq.name, fsq.latitude, fsq.longitude, fsq.distance, yelp.rating FROM yelp_results yelp JOIN fsq_results fsq ON yelp.address = fsq.address\"\n",
    "joined_table = execute_read_query(connection,joined_table)\n",
    "df_joined_table = pd.DataFrame(joined_table)\n",
    "df_joined_table"
   ]
  }
 ],
 "metadata": {
  "kernelspec": {
   "display_name": "Python 3 (ipykernel)",
   "language": "python",
   "name": "python3"
  },
  "language_info": {
   "codemirror_mode": {
    "name": "ipython",
    "version": 3
   },
   "file_extension": ".py",
   "mimetype": "text/x-python",
   "name": "python",
   "nbconvert_exporter": "python",
   "pygments_lexer": "ipython3",
   "version": "3.11.4"
  }
 },
 "nbformat": 4,
 "nbformat_minor": 4
}
