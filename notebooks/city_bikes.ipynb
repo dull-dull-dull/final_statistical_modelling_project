{
 "cells": [
  {
   "cell_type": "markdown",
   "metadata": {},
   "source": [
    "# CityBikes"
   ]
  },
  {
   "cell_type": "markdown",
   "metadata": {},
   "source": [
    "Send a request to CityBikes for the city of your choice. "
   ]
  },
  {
   "cell_type": "code",
   "execution_count": 89,
   "metadata": {
    "tags": []
   },
   "outputs": [],
   "source": [
    "import pandas as pd\n",
    "import requests\n",
    "import json\n",
    "import numpy as np\n",
    "import matplotlib.pyplot as plt"
   ]
  },
  {
   "cell_type": "code",
   "execution_count": 4,
   "metadata": {
    "tags": []
   },
   "outputs": [],
   "source": [
    "# import numpy as np\n",
    "# import pandas as pd\n",
    "# import matplotlib.pyplot as plt\n",
    "# import json\n",
    "# import os\n",
    "# import requests"
   ]
  },
  {
   "cell_type": "code",
   "execution_count": 6,
   "metadata": {
    "tags": []
   },
   "outputs": [],
   "source": [
    "# Send request for list of networks\n",
    "network_url = \"http://api.citybik.es/v2/networks\"\n",
    "\n",
    "payload = {}\n",
    "headers = {}\n",
    "\n",
    "response = requests.request(\"GET\", network_url, headers=headers, data=payload)\n",
    "\n",
    "response = response.json()"
   ]
  },
  {
   "cell_type": "code",
   "execution_count": 7,
   "metadata": {
    "tags": []
   },
   "outputs": [],
   "source": [
    "# Convert network list to normalized DataFrame for ease of inquiry\n",
    "networks = response['networks']\n",
    "\n",
    "df_networks = pd.json_normalize(networks)"
   ]
  },
  {
   "cell_type": "code",
   "execution_count": 8,
   "metadata": {
    "tags": []
   },
   "outputs": [
    {
     "data": {
      "text/html": [
       "<div>\n",
       "<style scoped>\n",
       "    .dataframe tbody tr th:only-of-type {\n",
       "        vertical-align: middle;\n",
       "    }\n",
       "\n",
       "    .dataframe tbody tr th {\n",
       "        vertical-align: top;\n",
       "    }\n",
       "\n",
       "    .dataframe thead th {\n",
       "        text-align: right;\n",
       "    }\n",
       "</style>\n",
       "<table border=\"1\" class=\"dataframe\">\n",
       "  <thead>\n",
       "    <tr style=\"text-align: right;\">\n",
       "      <th></th>\n",
       "      <th>company</th>\n",
       "      <th>href</th>\n",
       "      <th>id</th>\n",
       "      <th>name</th>\n",
       "      <th>location.city</th>\n",
       "      <th>location.country</th>\n",
       "      <th>location.latitude</th>\n",
       "      <th>location.longitude</th>\n",
       "      <th>source</th>\n",
       "      <th>gbfs_href</th>\n",
       "      <th>license.name</th>\n",
       "      <th>license.url</th>\n",
       "      <th>ebikes</th>\n",
       "    </tr>\n",
       "  </thead>\n",
       "  <tbody>\n",
       "    <tr>\n",
       "      <th>77</th>\n",
       "      <td>[Motivate International, Inc., PBSC Urban Solu...</td>\n",
       "      <td>/v2/networks/bixi-toronto</td>\n",
       "      <td>bixi-toronto</td>\n",
       "      <td>Bike Share Toronto</td>\n",
       "      <td>Toronto, ON</td>\n",
       "      <td>CA</td>\n",
       "      <td>43.653226</td>\n",
       "      <td>-79.383184</td>\n",
       "      <td>NaN</td>\n",
       "      <td>https://tor.publicbikesystem.net/ube/gbfs/v1/</td>\n",
       "      <td>NaN</td>\n",
       "      <td>NaN</td>\n",
       "      <td>NaN</td>\n",
       "    </tr>\n",
       "  </tbody>\n",
       "</table>\n",
       "</div>"
      ],
      "text/plain": [
       "                                              company  \\\n",
       "77  [Motivate International, Inc., PBSC Urban Solu...   \n",
       "\n",
       "                         href            id                name location.city  \\\n",
       "77  /v2/networks/bixi-toronto  bixi-toronto  Bike Share Toronto   Toronto, ON   \n",
       "\n",
       "   location.country  location.latitude  location.longitude source  \\\n",
       "77               CA          43.653226          -79.383184    NaN   \n",
       "\n",
       "                                        gbfs_href license.name license.url  \\\n",
       "77  https://tor.publicbikesystem.net/ube/gbfs/v1/          NaN         NaN   \n",
       "\n",
       "   ebikes  \n",
       "77    NaN  "
      ]
     },
     "execution_count": 8,
     "metadata": {},
     "output_type": "execute_result"
    }
   ],
   "source": [
    "# Find Toronto's network information\n",
    "df_networks[df_networks['location.city']=='Toronto, ON']"
   ]
  },
  {
   "cell_type": "code",
   "execution_count": 18,
   "metadata": {
    "tags": []
   },
   "outputs": [],
   "source": [
    "# Send request for Toronto's network\n",
    "city_url = \"http://api.citybik.es/v2/networks/bixi-toronto\"\n",
    "\n",
    "payload = {}\n",
    "headers = {}\n",
    "\n",
    "response = requests.request(\"GET\", city_url, headers=headers, data=payload)\n",
    "\n",
    "response = response.json()"
   ]
  },
  {
   "cell_type": "markdown",
   "metadata": {},
   "source": [
    "Parse through the response to get the details you want for the bike stations in that city (latitude, longitude, number of bikes). "
   ]
  },
  {
   "cell_type": "code",
   "execution_count": 101,
   "metadata": {
    "tags": []
   },
   "outputs": [],
   "source": [
    "network = response['network']"
   ]
  },
  {
   "cell_type": "code",
   "execution_count": 214,
   "metadata": {
    "tags": []
   },
   "outputs": [
    {
     "data": {
      "text/plain": [
       "dict_keys(['company', 'gbfs_href', 'href', 'id', 'location', 'name', 'stations'])"
      ]
     },
     "execution_count": 214,
     "metadata": {},
     "output_type": "execute_result"
    }
   ],
   "source": [
    "network.keys()"
   ]
  },
  {
   "cell_type": "code",
   "execution_count": 215,
   "metadata": {
    "tags": []
   },
   "outputs": [],
   "source": [
    "stations = network['stations']"
   ]
  },
  {
   "cell_type": "code",
   "execution_count": 216,
   "metadata": {
    "tags": []
   },
   "outputs": [
    {
     "data": {
      "text/html": [
       "<div>\n",
       "<style scoped>\n",
       "    .dataframe tbody tr th:only-of-type {\n",
       "        vertical-align: middle;\n",
       "    }\n",
       "\n",
       "    .dataframe tbody tr th {\n",
       "        vertical-align: top;\n",
       "    }\n",
       "\n",
       "    .dataframe thead th {\n",
       "        text-align: right;\n",
       "    }\n",
       "</style>\n",
       "<table border=\"1\" class=\"dataframe\">\n",
       "  <thead>\n",
       "    <tr style=\"text-align: right;\">\n",
       "      <th></th>\n",
       "      <th>empty_slots</th>\n",
       "      <th>free_bikes</th>\n",
       "      <th>id</th>\n",
       "      <th>latitude</th>\n",
       "      <th>longitude</th>\n",
       "      <th>name</th>\n",
       "      <th>timestamp</th>\n",
       "      <th>extra.address</th>\n",
       "      <th>extra.altitude</th>\n",
       "      <th>extra.ebikes</th>\n",
       "      <th>extra.has_ebikes</th>\n",
       "      <th>extra.last_updated</th>\n",
       "      <th>extra.normal_bikes</th>\n",
       "      <th>extra.payment</th>\n",
       "      <th>extra.payment-terminal</th>\n",
       "      <th>extra.renting</th>\n",
       "      <th>extra.returning</th>\n",
       "      <th>extra.slots</th>\n",
       "      <th>extra.uid</th>\n",
       "      <th>extra.post_code</th>\n",
       "    </tr>\n",
       "  </thead>\n",
       "  <tbody>\n",
       "    <tr>\n",
       "      <th>0</th>\n",
       "      <td>11</td>\n",
       "      <td>8</td>\n",
       "      <td>fb337bbed72e2be090071e199899b2be</td>\n",
       "      <td>43.665269</td>\n",
       "      <td>-79.319796</td>\n",
       "      <td>Queen St E / Woodward Ave</td>\n",
       "      <td>2023-09-14T21:04:35.022000Z</td>\n",
       "      <td>Queen St E / Woodward Ave</td>\n",
       "      <td>0.0</td>\n",
       "      <td>0</td>\n",
       "      <td>True</td>\n",
       "      <td>1694725225</td>\n",
       "      <td>8</td>\n",
       "      <td>[key, transitcard, creditcard, phone]</td>\n",
       "      <td>True</td>\n",
       "      <td>1</td>\n",
       "      <td>1</td>\n",
       "      <td>19</td>\n",
       "      <td>7303</td>\n",
       "      <td>NaN</td>\n",
       "    </tr>\n",
       "    <tr>\n",
       "      <th>1</th>\n",
       "      <td>14</td>\n",
       "      <td>1</td>\n",
       "      <td>4ff88d5880e71aa40d34cfe5d09b0ca7</td>\n",
       "      <td>43.671420</td>\n",
       "      <td>-79.445947</td>\n",
       "      <td>Primrose Ave / Davenport Rd</td>\n",
       "      <td>2023-09-14T21:04:35.024000Z</td>\n",
       "      <td>Primrose Ave / Davenport Rd</td>\n",
       "      <td>0.0</td>\n",
       "      <td>0</td>\n",
       "      <td>True</td>\n",
       "      <td>1694725301</td>\n",
       "      <td>1</td>\n",
       "      <td>[key, transitcard, creditcard, phone]</td>\n",
       "      <td>True</td>\n",
       "      <td>1</td>\n",
       "      <td>1</td>\n",
       "      <td>15</td>\n",
       "      <td>7301</td>\n",
       "      <td>NaN</td>\n",
       "    </tr>\n",
       "    <tr>\n",
       "      <th>2</th>\n",
       "      <td>5</td>\n",
       "      <td>18</td>\n",
       "      <td>a09c67c0b419654d907c9134b108e328</td>\n",
       "      <td>43.666224</td>\n",
       "      <td>-79.317693</td>\n",
       "      <td>Queen St. E / Rhodes Ave.</td>\n",
       "      <td>2023-09-14T21:04:35.025000Z</td>\n",
       "      <td>Queen St. E / Rhodes Ave.</td>\n",
       "      <td>0.0</td>\n",
       "      <td>0</td>\n",
       "      <td>True</td>\n",
       "      <td>1694725431</td>\n",
       "      <td>18</td>\n",
       "      <td>[key, transitcard, creditcard, phone]</td>\n",
       "      <td>True</td>\n",
       "      <td>1</td>\n",
       "      <td>1</td>\n",
       "      <td>23</td>\n",
       "      <td>7309</td>\n",
       "      <td>NaN</td>\n",
       "    </tr>\n",
       "    <tr>\n",
       "      <th>3</th>\n",
       "      <td>24</td>\n",
       "      <td>0</td>\n",
       "      <td>d6a9daee68070a8b106cfb598d81308c</td>\n",
       "      <td>43.653236</td>\n",
       "      <td>-79.376716</td>\n",
       "      <td>Bond St / Queen St E</td>\n",
       "      <td>2023-09-14T21:04:35.145000Z</td>\n",
       "      <td>Bond St / Queen St E</td>\n",
       "      <td>0.0</td>\n",
       "      <td>0</td>\n",
       "      <td>True</td>\n",
       "      <td>1694725367</td>\n",
       "      <td>0</td>\n",
       "      <td>[key, transitcard, creditcard, phone]</td>\n",
       "      <td>True</td>\n",
       "      <td>1</td>\n",
       "      <td>1</td>\n",
       "      <td>25</td>\n",
       "      <td>7045</td>\n",
       "      <td>NaN</td>\n",
       "    </tr>\n",
       "    <tr>\n",
       "      <th>4</th>\n",
       "      <td>12</td>\n",
       "      <td>15</td>\n",
       "      <td>8f8af40d9388c8a3962559e8681d3db7</td>\n",
       "      <td>43.663722</td>\n",
       "      <td>-79.380288</td>\n",
       "      <td>Church St / Alexander St</td>\n",
       "      <td>2023-09-14T21:04:35.163000Z</td>\n",
       "      <td>Church St / Alexander St</td>\n",
       "      <td>0.0</td>\n",
       "      <td>0</td>\n",
       "      <td>True</td>\n",
       "      <td>1694725261</td>\n",
       "      <td>15</td>\n",
       "      <td>[key, transitcard, creditcard, phone]</td>\n",
       "      <td>True</td>\n",
       "      <td>1</td>\n",
       "      <td>1</td>\n",
       "      <td>27</td>\n",
       "      <td>7044</td>\n",
       "      <td>NaN</td>\n",
       "    </tr>\n",
       "  </tbody>\n",
       "</table>\n",
       "</div>"
      ],
      "text/plain": [
       "   empty_slots  free_bikes                                id   latitude  \\\n",
       "0           11           8  fb337bbed72e2be090071e199899b2be  43.665269   \n",
       "1           14           1  4ff88d5880e71aa40d34cfe5d09b0ca7  43.671420   \n",
       "2            5          18  a09c67c0b419654d907c9134b108e328  43.666224   \n",
       "3           24           0  d6a9daee68070a8b106cfb598d81308c  43.653236   \n",
       "4           12          15  8f8af40d9388c8a3962559e8681d3db7  43.663722   \n",
       "\n",
       "   longitude                         name                    timestamp  \\\n",
       "0 -79.319796    Queen St E / Woodward Ave  2023-09-14T21:04:35.022000Z   \n",
       "1 -79.445947  Primrose Ave / Davenport Rd  2023-09-14T21:04:35.024000Z   \n",
       "2 -79.317693    Queen St. E / Rhodes Ave.  2023-09-14T21:04:35.025000Z   \n",
       "3 -79.376716         Bond St / Queen St E  2023-09-14T21:04:35.145000Z   \n",
       "4 -79.380288     Church St / Alexander St  2023-09-14T21:04:35.163000Z   \n",
       "\n",
       "                 extra.address  extra.altitude  extra.ebikes  \\\n",
       "0    Queen St E / Woodward Ave             0.0             0   \n",
       "1  Primrose Ave / Davenport Rd             0.0             0   \n",
       "2    Queen St. E / Rhodes Ave.             0.0             0   \n",
       "3         Bond St / Queen St E             0.0             0   \n",
       "4     Church St / Alexander St             0.0             0   \n",
       "\n",
       "   extra.has_ebikes  extra.last_updated  extra.normal_bikes  \\\n",
       "0              True          1694725225                   8   \n",
       "1              True          1694725301                   1   \n",
       "2              True          1694725431                  18   \n",
       "3              True          1694725367                   0   \n",
       "4              True          1694725261                  15   \n",
       "\n",
       "                           extra.payment  extra.payment-terminal  \\\n",
       "0  [key, transitcard, creditcard, phone]                    True   \n",
       "1  [key, transitcard, creditcard, phone]                    True   \n",
       "2  [key, transitcard, creditcard, phone]                    True   \n",
       "3  [key, transitcard, creditcard, phone]                    True   \n",
       "4  [key, transitcard, creditcard, phone]                    True   \n",
       "\n",
       "   extra.renting  extra.returning  extra.slots extra.uid extra.post_code  \n",
       "0              1                1           19      7303             NaN  \n",
       "1              1                1           15      7301             NaN  \n",
       "2              1                1           23      7309             NaN  \n",
       "3              1                1           25      7045             NaN  \n",
       "4              1                1           27      7044             NaN  "
      ]
     },
     "execution_count": 216,
     "metadata": {},
     "output_type": "execute_result"
    }
   ],
   "source": [
    "df_stations = pd.json_normalize(stations)\n",
    "df_stations.head()"
   ]
  },
  {
   "cell_type": "code",
   "execution_count": 217,
   "metadata": {},
   "outputs": [],
   "source": [
    "# DATA CLEANING\n",
    "\n",
    "# Combine empty_slots and free_bikes to get station total\n",
    "df_stations['bikes'] = df_stations['empty_slots'] + df_stations['free_bikes']"
   ]
  },
  {
   "cell_type": "markdown",
   "metadata": {},
   "source": [
    "Put your parsed results into a DataFrame."
   ]
  },
  {
   "cell_type": "code",
   "execution_count": 218,
   "metadata": {
    "tags": []
   },
   "outputs": [
    {
     "data": {
      "text/html": [
       "<div>\n",
       "<style scoped>\n",
       "    .dataframe tbody tr th:only-of-type {\n",
       "        vertical-align: middle;\n",
       "    }\n",
       "\n",
       "    .dataframe tbody tr th {\n",
       "        vertical-align: top;\n",
       "    }\n",
       "\n",
       "    .dataframe thead th {\n",
       "        text-align: right;\n",
       "    }\n",
       "</style>\n",
       "<table border=\"1\" class=\"dataframe\">\n",
       "  <thead>\n",
       "    <tr style=\"text-align: right;\">\n",
       "      <th></th>\n",
       "      <th>id</th>\n",
       "      <th>bikes</th>\n",
       "      <th>latitude</th>\n",
       "      <th>longitude</th>\n",
       "    </tr>\n",
       "  </thead>\n",
       "  <tbody>\n",
       "    <tr>\n",
       "      <th>0</th>\n",
       "      <td>fb337bbed72e2be090071e199899b2be</td>\n",
       "      <td>19</td>\n",
       "      <td>43.665269</td>\n",
       "      <td>-79.319796</td>\n",
       "    </tr>\n",
       "    <tr>\n",
       "      <th>1</th>\n",
       "      <td>4ff88d5880e71aa40d34cfe5d09b0ca7</td>\n",
       "      <td>15</td>\n",
       "      <td>43.671420</td>\n",
       "      <td>-79.445947</td>\n",
       "    </tr>\n",
       "    <tr>\n",
       "      <th>2</th>\n",
       "      <td>a09c67c0b419654d907c9134b108e328</td>\n",
       "      <td>23</td>\n",
       "      <td>43.666224</td>\n",
       "      <td>-79.317693</td>\n",
       "    </tr>\n",
       "    <tr>\n",
       "      <th>3</th>\n",
       "      <td>d6a9daee68070a8b106cfb598d81308c</td>\n",
       "      <td>24</td>\n",
       "      <td>43.653236</td>\n",
       "      <td>-79.376716</td>\n",
       "    </tr>\n",
       "    <tr>\n",
       "      <th>4</th>\n",
       "      <td>8f8af40d9388c8a3962559e8681d3db7</td>\n",
       "      <td>27</td>\n",
       "      <td>43.663722</td>\n",
       "      <td>-79.380288</td>\n",
       "    </tr>\n",
       "    <tr>\n",
       "      <th>...</th>\n",
       "      <td>...</td>\n",
       "      <td>...</td>\n",
       "      <td>...</td>\n",
       "      <td>...</td>\n",
       "    </tr>\n",
       "    <tr>\n",
       "      <th>698</th>\n",
       "      <td>e8761ce9af6e4ae2a1eaaaf420b2cd71</td>\n",
       "      <td>15</td>\n",
       "      <td>43.679868</td>\n",
       "      <td>-79.334246</td>\n",
       "    </tr>\n",
       "    <tr>\n",
       "      <th>699</th>\n",
       "      <td>eb1061cebc92d3df21d383a9ef9e79cf</td>\n",
       "      <td>16</td>\n",
       "      <td>43.641020</td>\n",
       "      <td>-79.401408</td>\n",
       "    </tr>\n",
       "    <tr>\n",
       "      <th>700</th>\n",
       "      <td>77d773b9a22a3e2a912a636d4ab89a54</td>\n",
       "      <td>11</td>\n",
       "      <td>43.716020</td>\n",
       "      <td>-79.304709</td>\n",
       "    </tr>\n",
       "    <tr>\n",
       "      <th>701</th>\n",
       "      <td>b87051aeba987c7cf84dd59ab88c67bd</td>\n",
       "      <td>23</td>\n",
       "      <td>43.636804</td>\n",
       "      <td>-79.408832</td>\n",
       "    </tr>\n",
       "    <tr>\n",
       "      <th>702</th>\n",
       "      <td>eaabca685376f1b1229969e68c26a1b9</td>\n",
       "      <td>15</td>\n",
       "      <td>43.711016</td>\n",
       "      <td>-79.306757</td>\n",
       "    </tr>\n",
       "  </tbody>\n",
       "</table>\n",
       "<p>703 rows × 4 columns</p>\n",
       "</div>"
      ],
      "text/plain": [
       "                                   id  bikes   latitude  longitude\n",
       "0    fb337bbed72e2be090071e199899b2be     19  43.665269 -79.319796\n",
       "1    4ff88d5880e71aa40d34cfe5d09b0ca7     15  43.671420 -79.445947\n",
       "2    a09c67c0b419654d907c9134b108e328     23  43.666224 -79.317693\n",
       "3    d6a9daee68070a8b106cfb598d81308c     24  43.653236 -79.376716\n",
       "4    8f8af40d9388c8a3962559e8681d3db7     27  43.663722 -79.380288\n",
       "..                                ...    ...        ...        ...\n",
       "698  e8761ce9af6e4ae2a1eaaaf420b2cd71     15  43.679868 -79.334246\n",
       "699  eb1061cebc92d3df21d383a9ef9e79cf     16  43.641020 -79.401408\n",
       "700  77d773b9a22a3e2a912a636d4ab89a54     11  43.716020 -79.304709\n",
       "701  b87051aeba987c7cf84dd59ab88c67bd     23  43.636804 -79.408832\n",
       "702  eaabca685376f1b1229969e68c26a1b9     15  43.711016 -79.306757\n",
       "\n",
       "[703 rows x 4 columns]"
      ]
     },
     "execution_count": 218,
     "metadata": {},
     "output_type": "execute_result"
    }
   ],
   "source": [
    "df_bikes = df_stations[['id','bikes','latitude','longitude']]\n",
    "df_bikes"
   ]
  },
  {
   "cell_type": "code",
   "execution_count": 219,
   "metadata": {
    "tags": []
   },
   "outputs": [
    {
     "name": "stdout",
     "output_type": "stream",
     "text": [
      "id object\n",
      "False\n",
      "fb337bbed72e2be090071e199899b2be    1\n",
      "238f97722fa9fb7a59373178433ee0bb    1\n",
      "be90e51f9b29e31ae1d40a8dea028dcf    1\n",
      "4704fb679220b3879edfa3a853d55fbd    1\n",
      "8e40f60a48a909297b4114be18956d5c    1\n",
      "                                   ..\n",
      "c835abf1540e63c50d5a879e5075387e    1\n",
      "32b476b39dacc23dda545c39ffb549cc    1\n",
      "de5dcf1ee9ccff065e01b4516b46f190    1\n",
      "8aa5c061e4ae37e2e05b05d04afadc2e    1\n",
      "eaabca685376f1b1229969e68c26a1b9    1\n",
      "Name: id, Length: 703, dtype: int64\n",
      "009f180cf35ae1285733d98ccf058313 ffeaa2aaedeb18fc11f708bcd8323149\n",
      "non_numeric\n",
      "bikes int64\n",
      "False\n",
      "15    121\n",
      "19    109\n",
      "14     50\n",
      "23     46\n",
      "18     43\n",
      "11     42\n",
      "16     35\n",
      "17     29\n",
      "22     27\n",
      "12     24\n",
      "10     21\n",
      "20     21\n",
      "26     20\n",
      "13     19\n",
      "25     13\n",
      "27     13\n",
      "21      8\n",
      "24      7\n",
      "30      6\n",
      "8       5\n",
      "9       4\n",
      "31      4\n",
      "34      4\n",
      "46      3\n",
      "6       3\n",
      "36      3\n",
      "33      3\n",
      "28      3\n",
      "29      3\n",
      "35      2\n",
      "32      2\n",
      "47      2\n",
      "45      1\n",
      "37      1\n",
      "40      1\n",
      "0       1\n",
      "7       1\n",
      "39      1\n",
      "38      1\n",
      "57      1\n",
      "Name: bikes, dtype: int64\n",
      "0 57\n",
      "18.157894736842106 6.243569191200976\n",
      "latitude float64\n",
      "False\n",
      "43.646552    2\n",
      "43.663912    2\n",
      "43.671389    2\n",
      "43.643860    1\n",
      "43.722680    1\n",
      "            ..\n",
      "43.678685    1\n",
      "43.651430    1\n",
      "43.649760    1\n",
      "43.664182    1\n",
      "43.711016    1\n",
      "Name: latitude, Length: 700, dtype: int64\n",
      "43.5880774 43.788319\n",
      "43.66813794277534 0.03024006219139215\n",
      "longitude float64\n",
      "False\n",
      "-79.408889    2\n",
      "-79.319796    1\n",
      "-79.388254    1\n",
      "-79.467994    1\n",
      "-79.376440    1\n",
      "             ..\n",
      "-79.299332    1\n",
      "-79.297974    1\n",
      "-79.477790    1\n",
      "-79.484770    1\n",
      "-79.306757    1\n",
      "Name: longitude, Length: 702, dtype: int64\n",
      "-79.54449133041076 -79.123505\n",
      "-79.39032246689102 0.0600205217263645\n"
     ]
    }
   ],
   "source": [
    "# DATA AUDIT\n",
    "\n",
    "# all columns should\n",
    "for i in df_bikes:\n",
    "    \n",
    "    # Be of appropriate data types\n",
    "    # Check data types - confirmed appropriate for each\n",
    "    print(i, df_bikes[i].dtype)\n",
    "    \n",
    "    # Contain no null values\n",
    "    # Ensure no null values in any column - confirmed\n",
    "    print(df_bikes[i].isna().any())\n",
    "    \n",
    "    # Be of appropriate lengths\n",
    "    # Check count of values for each column is as expected.\n",
    "    # IDs are all unique, length is 703\n",
    "    # Bike Count columns appear normal\n",
    "    # Lat / Long contain acceptable duplicate values\n",
    "    print(df_bikes[i].value_counts())\n",
    "    \n",
    "    # Have appropriate mins / maxes\n",
    "    # Check min and max value of each column – address data type errors if/where they arise\n",
    "    print(df_bikes[i].min(), df_bikes[i].max())\n",
    "    \n",
    "    # Be normally distributed where appropriate for data type\n",
    "    try:\n",
    "        print(df_bikes[i].mean(), df_bikes[i].std())\n",
    "    except:\n",
    "        print('non_numeric')"
   ]
  },
  {
   "cell_type": "code",
   "execution_count": 220,
   "metadata": {
    "tags": []
   },
   "outputs": [
    {
     "data": {
      "text/plain": [
       "(array([  0.,   0.,   0.,   0.,   0., 703.,   0.,   0.,   0.,   0.]),\n",
       " array([31.5, 31.6, 31.7, 31.8, 31.9, 32. , 32.1, 32.2, 32.3, 32.4, 32.5]),\n",
       " <BarContainer object of 10 artists>)"
      ]
     },
     "execution_count": 220,
     "metadata": {},
     "output_type": "execute_result"
    },
    {
     "data": {
      "image/png": "[encoded data removed]",
      "text/plain": [
       "<Figure size 640x480 with 1 Axes>"
      ]
     },
     "metadata": {},
     "output_type": "display_data"
    }
   ],
   "source": [
    "# id should \n",
    "# be an appropriate data type, - confirmed above (111)\n",
    "# must not be null,  - confirmed above (111)\n",
    "# contain similar distributions of letters and numbers,\n",
    "\n",
    "# Count letter and number values in each id\n",
    "list_char_count = []\n",
    "for i in df_bikes['id']:\n",
    "    chars = 0\n",
    "    nums = 0\n",
    "    lets = 0\n",
    "    for c in i:\n",
    "        chars += 1\n",
    "        if c.isnumeric():\n",
    "            nums += 1\n",
    "        else:\n",
    "            lets +=1\n",
    "    list_char_count.append({'id':i,'nums':nums, 'lets':lets, 'chars':chars})\n",
    "\n",
    "# Convert list to dataframe\n",
    "df_char_count = pd.DataFrame(list_char_count)\n",
    "\n",
    "# Check count of numbers\n",
    "df_char_count.value_counts('nums')\n",
    "# Check min/mix of numbers\n",
    "df_char_count['nums'].min(),df_char_count['nums'].max()\n",
    "# Plot distribution of numbers\n",
    "plt.hist(df_char_count['nums'])\n",
    "\n",
    "# Check count of letters\n",
    "df_char_count.value_counts('lets')\n",
    "# Check min/mix of letters\n",
    "df_char_count['lets'].min(),df_char_count['lets'].max()\n",
    "# Plot distribution of letters\n",
    "plt.hist(df_char_count['lets'])\n",
    "\n",
    "# Check count of characters\n",
    "df_char_count.value_counts('chars')\n",
    "# Check min/mix of characters\n",
    "df_char_count['chars'].min(),df_char_count['chars'].max()\n",
    "# Plot distribution of characters\n",
    "plt.hist(df_char_count['chars'])\n",
    "\n",
    "# Confirm letters and numbers come from normal distributions and all lengths are equal."
   ]
  },
  {
   "cell_type": "code",
   "execution_count": 221,
   "metadata": {
    "tags": []
   },
   "outputs": [
    {
     "data": {
      "text/plain": [
       "(array([ 76., 249., 210., 113.,  29.,  14.,   4.,   4.,   2.,   1.]),\n",
       " array([ 6. , 11.1, 16.2, 21.3, 26.4, 31.5, 36.6, 41.7, 46.8, 51.9, 57. ]),\n",
       " <BarContainer object of 10 artists>)"
      ]
     },
     "execution_count": 221,
     "metadata": {},
     "output_type": "execute_result"
    },
    {
     "data": {
      "image/png": "[encoded data removed]",
      "text/plain": [
       "<Figure size 640x480 with 1 Axes>"
      ]
     },
     "metadata": {},
     "output_type": "display_data"
    }
   ],
   "source": [
    "# bikes should\n",
    "# be > 0\n",
    "df_bikes['bikes'].value_counts()\n",
    "# one zero value returned - y\n",
    "# find zero value - y\n",
    "df_bikes[df_bikes['bikes']==0]\n",
    "# remove zero value - y\n",
    "try:\n",
    "    df_bikes = df_bikes.drop(index=(408))\n",
    "except:\n",
    "    pass\n",
    "# Ensure listing was removed\n",
    "df_bikes['bikes'].value_counts()\n",
    "\n",
    "# max total should be evaluated - y\n",
    "# max 57 seems plausible – consider distribution\n",
    "df_bikes['bikes'].max()\n",
    "\n",
    "# review for outliers\n",
    "plt.hist(df_bikes['bikes'])"
   ]
  },
  {
   "cell_type": "code",
   "execution_count": 222,
   "metadata": {
    "tags": []
   },
   "outputs": [
    {
     "data": {
      "text/plain": [
       "(18.183760683760685, 6.210213720424199, 20.0, 15.0, 5.0)"
      ]
     },
     "execution_count": 222,
     "metadata": {},
     "output_type": "execute_result"
    }
   ],
   "source": [
    "# Abnormal distribution indicates outliers\n",
    "bikes = df_bikes['bikes']\n",
    "bmean = bikes.mean()\n",
    "bstd = bikes.std()\n",
    "bq3 = bikes.quantile(0.75)\n",
    "bq1 = bikes.quantile(0.25)\n",
    "biqr = bq3 - bq1\n",
    "bmean, bstd, bq3, bq1, biqr"
   ]
  },
  {
   "cell_type": "code",
   "execution_count": 223,
   "metadata": {
    "tags": []
   },
   "outputs": [
    {
     "data": {
      "text/plain": [
       "(7.5, 27.5)"
      ]
     },
     "execution_count": 223,
     "metadata": {},
     "output_type": "execute_result"
    }
   ],
   "source": [
    "# Find low/high thresholds for outliers\n",
    "blow_outlier = bq1 - (1.5*biqr)\n",
    "bhigh_outlier = bq3 + (1.5*biqr)\n",
    "blow_outlier, bhigh_outlier"
   ]
  },
  {
   "cell_type": "code",
   "execution_count": 224,
   "metadata": {
    "tags": []
   },
   "outputs": [
    {
     "data": {
      "text/html": [
       "<div>\n",
       "<style scoped>\n",
       "    .dataframe tbody tr th:only-of-type {\n",
       "        vertical-align: middle;\n",
       "    }\n",
       "\n",
       "    .dataframe tbody tr th {\n",
       "        vertical-align: top;\n",
       "    }\n",
       "\n",
       "    .dataframe thead th {\n",
       "        text-align: right;\n",
       "    }\n",
       "</style>\n",
       "<table border=\"1\" class=\"dataframe\">\n",
       "  <thead>\n",
       "    <tr style=\"text-align: right;\">\n",
       "      <th></th>\n",
       "      <th>id</th>\n",
       "      <th>bikes</th>\n",
       "      <th>latitude</th>\n",
       "      <th>longitude</th>\n",
       "    </tr>\n",
       "  </thead>\n",
       "  <tbody>\n",
       "    <tr>\n",
       "      <th>0</th>\n",
       "      <td>fb337bbed72e2be090071e199899b2be</td>\n",
       "      <td>19</td>\n",
       "      <td>43.665269</td>\n",
       "      <td>-79.319796</td>\n",
       "    </tr>\n",
       "    <tr>\n",
       "      <th>1</th>\n",
       "      <td>4ff88d5880e71aa40d34cfe5d09b0ca7</td>\n",
       "      <td>15</td>\n",
       "      <td>43.671420</td>\n",
       "      <td>-79.445947</td>\n",
       "    </tr>\n",
       "    <tr>\n",
       "      <th>2</th>\n",
       "      <td>a09c67c0b419654d907c9134b108e328</td>\n",
       "      <td>23</td>\n",
       "      <td>43.666224</td>\n",
       "      <td>-79.317693</td>\n",
       "    </tr>\n",
       "    <tr>\n",
       "      <th>3</th>\n",
       "      <td>d6a9daee68070a8b106cfb598d81308c</td>\n",
       "      <td>24</td>\n",
       "      <td>43.653236</td>\n",
       "      <td>-79.376716</td>\n",
       "    </tr>\n",
       "    <tr>\n",
       "      <th>4</th>\n",
       "      <td>8f8af40d9388c8a3962559e8681d3db7</td>\n",
       "      <td>27</td>\n",
       "      <td>43.663722</td>\n",
       "      <td>-79.380288</td>\n",
       "    </tr>\n",
       "    <tr>\n",
       "      <th>...</th>\n",
       "      <td>...</td>\n",
       "      <td>...</td>\n",
       "      <td>...</td>\n",
       "      <td>...</td>\n",
       "    </tr>\n",
       "    <tr>\n",
       "      <th>698</th>\n",
       "      <td>e8761ce9af6e4ae2a1eaaaf420b2cd71</td>\n",
       "      <td>15</td>\n",
       "      <td>43.679868</td>\n",
       "      <td>-79.334246</td>\n",
       "    </tr>\n",
       "    <tr>\n",
       "      <th>699</th>\n",
       "      <td>eb1061cebc92d3df21d383a9ef9e79cf</td>\n",
       "      <td>16</td>\n",
       "      <td>43.641020</td>\n",
       "      <td>-79.401408</td>\n",
       "    </tr>\n",
       "    <tr>\n",
       "      <th>700</th>\n",
       "      <td>77d773b9a22a3e2a912a636d4ab89a54</td>\n",
       "      <td>11</td>\n",
       "      <td>43.716020</td>\n",
       "      <td>-79.304709</td>\n",
       "    </tr>\n",
       "    <tr>\n",
       "      <th>701</th>\n",
       "      <td>b87051aeba987c7cf84dd59ab88c67bd</td>\n",
       "      <td>23</td>\n",
       "      <td>43.636804</td>\n",
       "      <td>-79.408832</td>\n",
       "    </tr>\n",
       "    <tr>\n",
       "      <th>702</th>\n",
       "      <td>eaabca685376f1b1229969e68c26a1b9</td>\n",
       "      <td>15</td>\n",
       "      <td>43.711016</td>\n",
       "      <td>-79.306757</td>\n",
       "    </tr>\n",
       "  </tbody>\n",
       "</table>\n",
       "<p>661 rows × 4 columns</p>\n",
       "</div>"
      ],
      "text/plain": [
       "                                   id  bikes   latitude  longitude\n",
       "0    fb337bbed72e2be090071e199899b2be     19  43.665269 -79.319796\n",
       "1    4ff88d5880e71aa40d34cfe5d09b0ca7     15  43.671420 -79.445947\n",
       "2    a09c67c0b419654d907c9134b108e328     23  43.666224 -79.317693\n",
       "3    d6a9daee68070a8b106cfb598d81308c     24  43.653236 -79.376716\n",
       "4    8f8af40d9388c8a3962559e8681d3db7     27  43.663722 -79.380288\n",
       "..                                ...    ...        ...        ...\n",
       "698  e8761ce9af6e4ae2a1eaaaf420b2cd71     15  43.679868 -79.334246\n",
       "699  eb1061cebc92d3df21d383a9ef9e79cf     16  43.641020 -79.401408\n",
       "700  77d773b9a22a3e2a912a636d4ab89a54     11  43.716020 -79.304709\n",
       "701  b87051aeba987c7cf84dd59ab88c67bd     23  43.636804 -79.408832\n",
       "702  eaabca685376f1b1229969e68c26a1b9     15  43.711016 -79.306757\n",
       "\n",
       "[661 rows x 4 columns]"
      ]
     },
     "execution_count": 224,
     "metadata": {},
     "output_type": "execute_result"
    }
   ],
   "source": [
    "# Only high were detected: review and remove where applicable\n",
    "df_bikes[bikes>bhigh_outlier]\n",
    "\n",
    "# Remove outliers\n",
    "try:\n",
    "    df_bikes = df_bikes[bikes<bhigh_outlier]\n",
    "except:\n",
    "    pass\n",
    "\n",
    "df_bikes"
   ]
  },
  {
   "cell_type": "code",
   "execution_count": 225,
   "metadata": {
    "tags": []
   },
   "outputs": [
    {
     "data": {
      "text/plain": [
       "(array([  9.,  25.,  66.,  69., 156.,  72., 130.,  35.,  53.,  46.]),\n",
       " array([ 6. ,  8.1, 10.2, 12.3, 14.4, 16.5, 18.6, 20.7, 22.8, 24.9, 27. ]),\n",
       " <BarContainer object of 10 artists>)"
      ]
     },
     "execution_count": 225,
     "metadata": {},
     "output_type": "execute_result"
    },
    {
     "data": {
      "image/png": "[encoded data removed]",
      "text/plain": [
       "<Figure size 640x480 with 1 Axes>"
      ]
     },
     "metadata": {},
     "output_type": "display_data"
    }
   ],
   "source": [
    "# review for outliers\n",
    "# note some remaining abnormality - inquire further\n",
    "plt.hist(df_bikes['bikes'])"
   ]
  },
  {
   "cell_type": "code",
   "execution_count": 226,
   "metadata": {
    "tags": []
   },
   "outputs": [
    {
     "data": {
      "image/png": "[encoded data removed]",
      "text/plain": [
       "<Figure size 640x480 with 1 Axes>"
      ]
     },
     "metadata": {},
     "output_type": "display_data"
    }
   ],
   "source": [
    "# latitude & longitude should\n",
    "# be an appropriate data type - confirmed above (111)\n",
    "# not be null - confirmed above (111)\n",
    "\n",
    "# Visualize lat/longs to find apparent outliers\n",
    "x = [df_bikes['longitude']]\n",
    "y = [df_bikes['latitude']]\n",
    "\n",
    "plt.scatter(x,y, c='forestgreen',marker='o',s=1)\n",
    "\n",
    "\n",
    "plt.xlabel('longitude')\n",
    "plt.ylabel('latitude')\n",
    "\n",
    "plt.show()"
   ]
  },
  {
   "cell_type": "code",
   "execution_count": 227,
   "metadata": {
    "tags": []
   },
   "outputs": [
    {
     "data": {
      "text/plain": [
       "(array([ 15.,  61., 115., 256., 113.,  58.,  28.,   6.,   6.,   3.]),\n",
       " array([-79.54449133, -79.5023927 , -79.46029406, -79.41819543,\n",
       "        -79.3760968 , -79.33399817, -79.29189953, -79.2498009 ,\n",
       "        -79.20770227, -79.16560363, -79.123505  ]),\n",
       " <BarContainer object of 10 artists>)"
      ]
     },
     "execution_count": 227,
     "metadata": {},
     "output_type": "execute_result"
    },
    {
     "data": {
      "image/png": "[encoded data removed]",
      "text/plain": [
       "<Figure size 640x480 with 1 Axes>"
      ]
     },
     "metadata": {},
     "output_type": "display_data"
    }
   ],
   "source": [
    "# Histogram of longitudes shows likely outliers\n",
    "plt.hist(x)"
   ]
  },
  {
   "cell_type": "code",
   "execution_count": 231,
   "metadata": {
    "tags": []
   },
   "outputs": [
    {
     "data": {
      "text/plain": [
       "(-79.38985570639609,\n",
       " 0.06122620123863737,\n",
       " -79.362101,\n",
       " -79.425116,\n",
       " 0.06301500000000715)"
      ]
     },
     "execution_count": 231,
     "metadata": {},
     "output_type": "execute_result"
    }
   ],
   "source": [
    "# Find and remove outliers arithmetically\n",
    "longs = df_bikes['longitude']\n",
    "lomean = longs.mean()\n",
    "lostd = longs.std()\n",
    "loq3 = longs.quantile(0.75)\n",
    "loq1 = longs.quantile(0.25)\n",
    "loiqr = loq3 - loq1\n",
    "lomean, lostd, loq3, loq1, loiqr"
   ]
  },
  {
   "cell_type": "code",
   "execution_count": 232,
   "metadata": {
    "tags": []
   },
   "outputs": [
    {
     "data": {
      "text/plain": [
       "(-79.51963850000001, -79.26757849999998)"
      ]
     },
     "execution_count": 232,
     "metadata": {},
     "output_type": "execute_result"
    }
   ],
   "source": [
    "# Find low/high thresholds for outliers\n",
    "lolow_outlier = loq1 - (1.5*loiqr)\n",
    "lohigh_outlier = loq3 + (1.5*loiqr)\n",
    "lolow_outlier, lohigh_outlier"
   ]
  },
  {
   "cell_type": "code",
   "execution_count": 262,
   "metadata": {
    "tags": []
   },
   "outputs": [
    {
     "data": {
      "text/plain": [
       "640"
      ]
     },
     "execution_count": 262,
     "metadata": {},
     "output_type": "execute_result"
    }
   ],
   "source": [
    "# Only high were detected: review and remove where applicable\n",
    "df_bikes[longs>lohigh_outlier]\n",
    "df_bikes = df_bikes[longs<lohigh_outlier]\n",
    "len(df_bikes)"
   ]
  },
  {
   "cell_type": "code",
   "execution_count": 264,
   "metadata": {
    "tags": []
   },
   "outputs": [
    {
     "data": {
      "text/plain": [
       "(array([  5.,  23.,  47.,  66.,  97., 190.,  97.,  54.,  33.,  28.]),\n",
       " array([-79.54449133, -79.5168932 , -79.48929506, -79.46169693,\n",
       "        -79.4340988 , -79.40650067, -79.37890253, -79.3513044 ,\n",
       "        -79.32370627, -79.29610813, -79.26851   ]),\n",
       " <BarContainer object of 10 artists>)"
      ]
     },
     "execution_count": 264,
     "metadata": {},
     "output_type": "execute_result"
    },
    {
     "data": {
      "image/png": "[encoded data removed]",
      "text/plain": [
       "<Figure size 640x480 with 1 Axes>"
      ]
     },
     "metadata": {},
     "output_type": "display_data"
    }
   ],
   "source": [
    "plt.hist(df_bikes['longitude'])"
   ]
  },
  {
   "cell_type": "code",
   "execution_count": 203,
   "metadata": {
    "tags": []
   },
   "outputs": [
    {
     "data": {
      "text/plain": [
       "(array([  7.,  10., 142., 259., 141.,  72.,  30.,   7.,   9.,  15.]),\n",
       " array([43.5880774 , 43.60810156, 43.62812572, 43.64814988, 43.66817404,\n",
       "        43.6881982 , 43.70822236, 43.72824652, 43.74827068, 43.76829484,\n",
       "        43.788319  ]),\n",
       " <BarContainer object of 10 artists>)"
      ]
     },
     "execution_count": 203,
     "metadata": {},
     "output_type": "execute_result"
    },
    {
     "data": {
      "image/png": "[encoded data removed]",
      "text/plain": [
       "<Figure size 640x480 with 1 Axes>"
      ]
     },
     "metadata": {},
     "output_type": "display_data"
    }
   ],
   "source": [
    "# Histogram of latitudes shows likely outliers\n",
    "plt.hist(y)"
   ]
  },
  {
   "cell_type": "code",
   "execution_count": 265,
   "metadata": {
    "tags": []
   },
   "outputs": [
    {
     "data": {
      "text/plain": [
       "(43.66696315822309,\n",
       " 0.027599256040076684,\n",
       " 43.679147775000004,\n",
       " 43.649213767191746,\n",
       " 0.029934007808257945)"
      ]
     },
     "execution_count": 265,
     "metadata": {},
     "output_type": "execute_result"
    }
   ],
   "source": [
    "# Find and remove outliers arithmetically\n",
    "lats = df_bikes['latitude']\n",
    "lamean = lats.mean()\n",
    "lastd = lats.std()\n",
    "laq3 = lats.quantile(0.75)\n",
    "laq1 = lats.quantile(0.25)\n",
    "laiqr = laq3 - laq1\n",
    "lamean, lastd, laq3, laq1, laiqr"
   ]
  },
  {
   "cell_type": "code",
   "execution_count": 266,
   "metadata": {
    "tags": []
   },
   "outputs": [
    {
     "data": {
      "text/plain": [
       "(43.604312755479356, 43.72404878671239)"
      ]
     },
     "execution_count": 266,
     "metadata": {},
     "output_type": "execute_result"
    }
   ],
   "source": [
    "# Find low/high thresholds for outliers\n",
    "lalow_outlier = laq1 - (1.5*laiqr)\n",
    "lahigh_outlier = laq3 + (1.5*laiqr)\n",
    "lalow_outlier, lahigh_outlier"
   ]
  },
  {
   "cell_type": "code",
   "execution_count": 281,
   "metadata": {
    "tags": []
   },
   "outputs": [
    {
     "data": {
      "text/plain": [
       "611"
      ]
     },
     "execution_count": 281,
     "metadata": {},
     "output_type": "execute_result"
    }
   ],
   "source": [
    "# Remove outliers by restricting range\n",
    "df_bikes = df_bikes[(df_bikes['latitude']<lahigh_outlier) & (df_bikes['latitude']>lalow_outlier)]\n",
    "df_bikes\n",
    "# df_bikes = df_bikes[longs<lohigh_outlier]\n",
    "len(df_bikes)"
   ]
  },
  {
   "cell_type": "code",
   "execution_count": 283,
   "metadata": {
    "tags": []
   },
   "outputs": [
    {
     "data": {
      "text/html": [
       "<div>\n",
       "<style scoped>\n",
       "    .dataframe tbody tr th:only-of-type {\n",
       "        vertical-align: middle;\n",
       "    }\n",
       "\n",
       "    .dataframe tbody tr th {\n",
       "        vertical-align: top;\n",
       "    }\n",
       "\n",
       "    .dataframe thead th {\n",
       "        text-align: right;\n",
       "    }\n",
       "</style>\n",
       "<table border=\"1\" class=\"dataframe\">\n",
       "  <thead>\n",
       "    <tr style=\"text-align: right;\">\n",
       "      <th></th>\n",
       "      <th>id</th>\n",
       "      <th>bikes</th>\n",
       "      <th>latitude</th>\n",
       "      <th>longitude</th>\n",
       "    </tr>\n",
       "  </thead>\n",
       "  <tbody>\n",
       "    <tr>\n",
       "      <th>0</th>\n",
       "      <td>fb337bbed72e2be090071e199899b2be</td>\n",
       "      <td>19</td>\n",
       "      <td>43.665269</td>\n",
       "      <td>-79.319796</td>\n",
       "    </tr>\n",
       "    <tr>\n",
       "      <th>1</th>\n",
       "      <td>4ff88d5880e71aa40d34cfe5d09b0ca7</td>\n",
       "      <td>15</td>\n",
       "      <td>43.671420</td>\n",
       "      <td>-79.445947</td>\n",
       "    </tr>\n",
       "    <tr>\n",
       "      <th>2</th>\n",
       "      <td>a09c67c0b419654d907c9134b108e328</td>\n",
       "      <td>23</td>\n",
       "      <td>43.666224</td>\n",
       "      <td>-79.317693</td>\n",
       "    </tr>\n",
       "    <tr>\n",
       "      <th>3</th>\n",
       "      <td>d6a9daee68070a8b106cfb598d81308c</td>\n",
       "      <td>24</td>\n",
       "      <td>43.653236</td>\n",
       "      <td>-79.376716</td>\n",
       "    </tr>\n",
       "    <tr>\n",
       "      <th>4</th>\n",
       "      <td>8f8af40d9388c8a3962559e8681d3db7</td>\n",
       "      <td>27</td>\n",
       "      <td>43.663722</td>\n",
       "      <td>-79.380288</td>\n",
       "    </tr>\n",
       "  </tbody>\n",
       "</table>\n",
       "</div>"
      ],
      "text/plain": [
       "                                 id  bikes   latitude  longitude\n",
       "0  fb337bbed72e2be090071e199899b2be     19  43.665269 -79.319796\n",
       "1  4ff88d5880e71aa40d34cfe5d09b0ca7     15  43.671420 -79.445947\n",
       "2  a09c67c0b419654d907c9134b108e328     23  43.666224 -79.317693\n",
       "3  d6a9daee68070a8b106cfb598d81308c     24  43.653236 -79.376716\n",
       "4  8f8af40d9388c8a3962559e8681d3db7     27  43.663722 -79.380288"
      ]
     },
     "execution_count": 283,
     "metadata": {},
     "output_type": "execute_result"
    }
   ],
   "source": [
    "df_bikes.head()"
   ]
  },
  {
   "cell_type": "code",
   "execution_count": 298,
   "metadata": {
    "tags": []
   },
   "outputs": [],
   "source": [
    "# Save to CSV\n",
    "df_bikes.to_csv('df_bikes.csv')"
   ]
  },
  {
   "cell_type": "code",
   "execution_count": null,
   "metadata": {
    "tags": []
   },
   "outputs": [],
   "source": []
  },
  {
   "cell_type": "code",
   "execution_count": null,
   "metadata": {},
   "outputs": [],
   "source": []
  }
 ],
 "metadata": {
  "kernelspec": {
   "display_name": "Python 3 (ipykernel)",
   "language": "python",
   "name": "python3"
  },
  "language_info": {
   "codemirror_mode": {
    "name": "ipython",
    "version": 3
   },
   "file_extension": ".py",
   "mimetype": "text/x-python",
   "name": "python",
   "nbconvert_exporter": "python",
   "pygments_lexer": "ipython3",
   "version": "3.11.4"
  }
 },
 "nbformat": 4,
 "nbformat_minor": 4
}
